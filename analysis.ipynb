{
 "cells": [
  {
   "cell_type": "markdown",
   "id": "21e01cfc3d052772",
   "metadata": {
    "collapsed": false
   },
   "source": [
    "# Predictive Analysis"
   ]
  },
  {
   "cell_type": "code",
   "execution_count": 1,
   "id": "e1ebdb68d9ddea42",
   "metadata": {
    "ExecuteTime": {
     "end_time": "2024-01-18T01:15:30.240313600Z",
     "start_time": "2024-01-18T01:14:58.260036Z"
    },
    "collapsed": false
   },
   "outputs": [],
   "source": [
    "from pyspark.ml.feature import VectorAssembler\n",
    "from pyspark.sql.functions import when, col, explode, max, avg, count, udf, expr, size, datediff\n",
    "from pyspark.ml.classification import LogisticRegression, RandomForestClassifier, GBTClassifier, MultilayerPerceptronClassifier\n",
    "from pyspark.ml.evaluation import MulticlassClassificationEvaluator\n",
    "from pyspark.ml import Pipeline\n",
    "from pyspark.sql import SparkSession\n",
    "from pyspark.sql.types import IntegerType, ArrayType, StringType\n",
    "\n",
    "import os\n",
    "import sys\n",
    "\n",
    "os.environ['PYSPARK_PYTHON'] = sys.executable\n",
    "os.environ['PYSPARK_DRIVER_PYTHON'] = sys.executable"
   ]
  },
  {
   "cell_type": "code",
   "execution_count": 2,
   "metadata": {},
   "outputs": [],
   "source": [
    "spark = SparkSession.builder.appName(\"Forum Question Analyzer\") \\\n",
    "    .config(\"spark.jars.packages\", \"com.databricks:spark-xml_2.12:0.17.0\")\\\n",
    "    .getOrCreate()\n",
    "\n",
    "posts = spark.read \\\n",
    "    .format(\"com.databricks.spark.xml\") \\\n",
    "    .option(\"rootTag\", \"posts\") \\\n",
    "    .option(\"rowTag\", \"row\") \\\n",
    "    .load(\"tex.stackexchange.com/Posts.xml\") \\\n",
    "    .alias('posts')\n",
    "users = spark.read \\\n",
    "    .format(\"com.databricks.spark.xml\") \\\n",
    "    .option(\"rootTag\", \"users\") \\\n",
    "    .option(\"rowTag\", \"row\") \\\n",
    "    .load(\"tex.stackexchange.com/Users.xml\") \\\n",
    "    .alias('users')\n",
    "tags = spark.read \\\n",
    "    .format(\"com.databricks.spark.xml\") \\\n",
    "    .option(\"rootTag\", \"tags\") \\\n",
    "    .option(\"rowTag\", \"row\") \\\n",
    "    .load(\"tex.stackexchange.com/Tags.xml\") \\\n",
    "    .alias('tags')"
   ]
  },
  {
   "cell_type": "markdown",
   "id": "c954147ca4a63e2d",
   "metadata": {
    "collapsed": false
   },
   "source": [
    "### Feature Extraction"
   ]
  },
  {
   "cell_type": "code",
   "execution_count": 6,
   "metadata": {},
   "outputs": [],
   "source": [
    "posts = posts.filter(posts._PostTypeId==1)\n",
    "questions = posts.withColumn(\"_Tags\", expr(\"split(substring(_Tags, 2, length(_Tags) - 2), '><')\"))\\\n",
    "            .withColumn(\"_Body\", size(expr(\"split(_Body, ' ')\")))\\\n",
    "            .withColumn(\"_Title\", size(expr(\"split(_Title, ' ')\")))\n",
    "\n",
    "questions = questions.join(users, questions._OwnerUserId == users._Id).select(\n",
    "    questions._Id.alias(\"QuestionId\"),\n",
    "    questions._Body.alias(\"BodyLength\"),\n",
    "    questions._Title.alias(\"TitleLength\"),\n",
    "    questions._Tags.alias(\"TagsCounts\"),\n",
    "    size(questions._Tags).alias(\"NumberOfTags\"),\n",
    "    users._Id.alias(\"OwnerId\"),\n",
    "    users._DownVotes.alias(\"OwnerDownVotes\"),\n",
    "    users._UpVotes.alias(\"OwnerUpVotes\"),\n",
    "    users._Reputation.alias(\"OwnerReputation\"),\n",
    "    users._Views.alias(\"OwnerViews\"),\n",
    "    (questions._CreationDate - users._CreationDate).cast(\"integer\").alias(\"UserExperience\"),\n",
    "    when(col(\"_AcceptedAnswerId\").isNull(), 0).otherwise(1).alias(\"Accepted\")\n",
    ")"
   ]
  },
  {
   "cell_type": "code",
   "execution_count": 13,
   "metadata": {},
   "outputs": [
    {
     "name": "stdout",
     "output_type": "stream",
     "text": [
      "{'lyx': 3033, 'include': 623, 'compiling': 2035, 'labels': 1679, 'beamer': 11290, 'table-of-contents': 7102, 'subjective': 5, 'learning': 110, 'word-to-latex': 62, 'spelling': 187, 'publishing': 49, 'xetex': 5574, 'luatex': 4131, 'context': 1796, 'brackets': 840, 'tools': 206, 'format-files': 132, 'opentype': 234, 'math-operators': 965, 'programming': 623, 'msword': 247, 'conversion': 534, 'resume': 248, 'fonts': 8795, 'computer-modern': 132, 'graphics': 7013, 'automation': 579, 'document-classes': 1134, 'preamble': 403, 'packages': 3251, 'makefile': 83, 'windows': 832, 'cleanup': 18, 'bibtex': 5750, 'bibliographies': 6940, 'syntax': 361, 'web': 32, 'embedding': 173, 'enumerate': 2364, 'revision-control': 93, 'syntax-checker': 28, 'align': 3998, 'equations': 6023, 'verbatim': 1108, 'pstricks': 2000, 'line-breaking': 2807, 'ubuntu': 596, 'linux': 482, 'notes': 198, 'input': 858, 'macros': 8117, 'miktex': 2539, 'texdoc': 66, 'online': 149, 'links': 512, 'indexing': 1396, 'minipage': 1724, 'margins': 2602, 'two-column': 1424, 'math-mode': 9582, 'header-footer': 4101, 'exam': 928, 'tilde': 124, 'indic': 136, 'tamil': 18, 'templates': 1424, 'resources': 35, 'repositories': 55, 'music': 122, 'vertical-alignment': 3736, 'spacing': 7871, 'subscripts': 745, 'ide': 73, 'pdftex': 5688, 'parsing': 197, 'right-to-left': 259, 'grammar': 81, 'thesis': 641, 'latex3': 961, 'tex-history': 95, 'diagrams': 3087, 'svg': 380, 'feynmf': 133, 'kile': 260, 'srcltx': 2, 'paper-size': 398, 'geometry': 1093, 'amsthm': 701, 'numbering': 3618, 'expansion': 1079, 'superscripts': 633, 'hyphenation': 1092, 'color': 4223, 'tex-core': 1964, 'crop': 234, 'metapost': 499, 'logic': 236, 'truetype': 73, 'line-spacing': 1155, 'punctuation': 1022, 'cases': 514, 'unicode': 1438, 'counters': 1410, 'fourier': 83, 'word-count': 109, 'scripts': 193, 'debugging': 386, 'units': 174, 'big-list': 127, 'lengths': 466, 'archiving': 17, 'best-practices': 754, 'comments': 389, 'marginpar': 446, 'draft': 127, 'fontspec': 2245, 'mathspec': 140, 'semantics': 51, 'amsrefs': 80, 'formatting': 5307, 'wysiwyg': 42, 'amsmath': 3380, 'emacs': 645, 'auctex': 578, 'urls': 794, 'navigation': 199, 'teaching': 43, 'hyperref': 4821, 'open-office': 41, 'calligraphy': 67, 'printing': 410, 'line-numbering': 396, 'changes': 135, 'captions': 3728, 'itemize': 1768, 'letterhead': 44, 'backgrounds': 704, 'calendar': 145, 'nesting': 292, 'contribute': 18, 'database': 135, 'acrobat': 106, 'highlighting': 674, 'listings': 3490, 'ctan': 173, 'parallel': 91, 'mactex': 625, 'texlive': 2148, 'datetime': 306, 'options': 123, 'ampersand': 83, 'texlipse': 76, 'eclipse': 29, 'latexdiff': 169, 'texmf': 141, 'xy-pic': 426, 'rotating': 879, 'graphs': 1136, 'memoir': 2176, 'sciposter': 24, 'latexmk': 587, 'psfrag': 153, 'matlab': 306, 'logging': 101, 'booktabs': 491, 'bold': 914, 'rounded-corners': 77, 'koma-script': 2289, 'algorithms': 1140, 'pseudocode': 214, 'floats': 6108, 'collaboration': 64, 'symbols': 4354, 'abstract': 393, 'matrices': 1953, 'trees': 583, 'protrusion': 52, 'font-expansion': 25, 'amsart': 382, 'article': 628, 'vim': 288, 'grids': 221, 'sweave': 250, 'literate-programming': 49, 'installing': 1526, 'tables': 17649, 'pdf': 2628, 'html': 396, 'pause': 182, 'metafont': 179, 'font-metrics': 39, 'arxiv': 239, 'editors': 706, 'biblatex': 8975, 'braces': 476, 'letters': 499, 'animations': 433, 'examples': 203, 'winedt': 384, 'footnotes': 2844, 'lists': 2906, 'posters': 245, 'write': 165, 'plain-tex': 857, 'lastpage': 87, 'licensing': 56, 'blank-page': 264, 'input-encodings': 646, 'pdftricks': 8, 'revtex': 505, 'warnings': 795, 'ligatures': 339, 'setspace': 224, 'theorems': 1662, 'presentations': 475, 'accents': 778, 'appendices': 1020, 'shading': 307, 'circles': 320, 'nodes': 1446, 'linguistics': 584, 'exercises': 257, 'addresses': 49, 'errors': 5290, 'shadows': 115, 'texniccenter': 317, 'texmaker': 1523, 'natbib': 2260, 'babel': 1649, 'dvi': 194, 'viewers': 416, 'token-lists': 141, 'expl3': 1443, 'gnuplot': 471, 'e-tex': 83, 'postscript': 132, 'boxes': 1587, 'eps': 506, 'rubber': 24, 'build-system': 66, 'tutorials': 96, 'books': 684, 'quotchap': 21, 'macports': 21, 'mathdesign': 90, 'chapters': 2285, 'delimiters': 483, 'description': 393, 'pgfplots': 9591, 'siunitx': 1591, 'calculations': 589, 'indentation': 1987, 'filesystem-access': 127, 'multibib': 157, 'import': 269, 'external-files': 653, 'endnotes': 240, 'substitution': 62, 'hebrew': 419, 'text-manipulation': 244, 'distributions': 132, 'vector': 253, 'protext': 20, 'pgfkeys': 575, 'barcodes': 35, 'mathcal': 93, 'bookmarks': 508, 'strings': 478, 'fancyhdr': 1805, 'scrpage2': 83, 'oldstylenums': 145, 'parameters': 190, 'legend': 446, 'plot': 1148, 'performance': 110, 'kerning': 389, 'microtype': 405, 'positioning': 2858, 'mathpazo': 101, 'small-caps': 424, 'enumitem': 1207, 'pgfpages': 80, 'doi': 178, 'documentation': 336, 'javascript': 127, 'acrotex': 25, 'horizontal-alignment': 5548, 'tufte': 518, 'wolfram-mathematica': 106, 'tabularx': 2226, 'fractions': 559, 'longtable': 2525, 'tex-general': 88, 'dimensions': 283, 'blackboard': 78, 'dvipdfmx': 43, 'arrays': 1041, 'package-writing': 558, 'framed': 612, 'wrapfigure': 734, 'raise': 33, 'statistics': 97, 'landscape': 609, 'boxplot': 111, 'titlesec': 1487, 'xml': 128, 'rendering': 164, 'emphasis': 138, 'r': 591, 'affiliation': 160, 'glossaries': 1787, 'pst-tree': 33, 'scaling': 678, 'iso': 23, 'bibunits': 54, 'texinputs': 47, 'environment-variables': 110, 'security': 52, 'paths': 458, 'pgf-2.10': 3, 'meaning': 11, 'reflection': 18, 'capitalization': 393, 'recursion': 99, 'cyrillic': 339, 'node-connections': 105, 'source': 69, 'tex4ht': 933, 'moderncv': 1162, 'todonotes': 222, 'multline': 186, 'etoolbox': 554, 'conditionals': 1809, 'optional-arguments': 455, 'width': 721, 'skak': 51, 'xfrac': 32, 'alphabet': 94, 'strut': 30, 'multicol': 1206, 'typography': 1151, 'minted': 1000, 'gif': 65, 'decorations': 335, 'newlfm': 57, 'gb4e': 182, 'jabref': 228, 'mathtools': 519, 'subcaption': 986, 'book-design': 477, 'front-matter': 196, 'mathjax': 235, 'mathml': 64, 'cleveref': 909, 'dictionaries': 96, 'greek': 720, 'loops': 757, 'file-lookup': 35, 'columns': 879, 'folders': 90, 'jobname': 70, 'tikz-pgf': 34156, 'shapepar': 38, 'pgf-core': 74, 'environments': 3185, 'metadata': 164, 'foreach': 830, 'harvard-style': 182, 'dirtree': 36, 'rules': 894, 'epigraphs': 74, 'copyright': 67, 'page-breaking': 2219, 'page-numbering': 1867, 'texshop': 691, 'algorithm2e': 699, 'overlays': 815, 'fit': 131, 'showexpl': 42, 'circuitikz': 1130, 'hooks': 115, 'latin-modern': 126, 'breqn': 190, 'varwidth': 64, 'cross-referencing': 4426, 'sorting': 591, 'fmtutil': 15, 'cite-package': 123, 'code': 743, 'pdfpages': 830, 'write-file': 49, 'datatool': 364, 'fontsize': 1955, 'ulem': 131, 'arrows': 1632, 'catcodes': 341, 'watermark': 154, 'mla-style': 72, 'apa-style': 884, 'audio': 25, 'xskak': 93, 'chessboard': 123, 'ps': 65, 'pdfcrop': 63, 'floatrow': 206, 'badness': 97, 'textmate': 46, 'output': 223, 'output-routine': 59, '3d': 906, 'tabbing': 136, 'texworks': 483, 'inline': 310, 'displaystyle': 206, 'polynom': 79, 'cjk': 355, 'journal': 169, 'font-encodings': 684, 'movie15': 79, 'characters': 667, 'biber': 1831, 'key-value': 264, 'fancyvrb': 194, 'minitoc': 230, 'incompatibility': 602, 'subversion': 15, 'profiling': 19, 'unicode-math': 899, 'gedit': 10, 'tikz-chains': 86, 'tikz-trees': 1213, 'knuth': 56, 'fun': 202, 'documentclass-writing': 467, 'screen': 16, 'transparency': 335, 'modules': 37, 'comparison': 100, 'acronyms': 895, 'fp': 108, 'polyglossia': 915, 'implicit-braces': 9, 'luaotfload': 149, 'auxiliary-files': 453, 'pgfplotstable': 1119, 'report': 389, 'supertabular': 115, 'hoefler': 14, 'org-mode': 101, 'gradient': 108, 'wrap': 371, 'lettrine': 186, 'drop-cap': 80, 'document-configuration': 103, 'bidi': 217, 'resolution': 56, 'questionnaire': 64, 'mhchem': 216, 'tkz-collection': 74, 'poetry': 87, 'lua': 344, 'quoting': 283, 'subfloats': 1918, 'nomenclature': 374, 'arabic': 541, 'dtx': 124, 'typein': 5, 'tocloft': 697, 'journal-publishing': 209, 'sectioning': 5299, 'parts': 406, 'lncs': 146, 'xkeyval': 134, 'sections-paragraphs': 455, 'citing': 3605, 'primitives': 87, 'sectsty': 61, 'csquotes': 308, 'powerdot': 61, 'sourcecode': 351, 'languages': 1030, 'paragraphs': 1317, 'soul': 244, 'attachfile': 39, 'chemstyle': 64, 'parskip': 231, 'patching': 130, 'chicago-style': 158, 'fncychap': 87, 'ebook': 55, 'italic-correction': 50, 'libertine': 252, 'standalone': 676, 'typearea': 52, 'thmtools': 278, 'pgfmath': 538, 'aquamacs': 26, 'text-decorations': 259, 'classicthesis': 498, 'amsbook': 183, 'preview': 215, 'ieeetran': 977, 'bordermatrix': 56, 'grouping': 277, 'stack': 48, 'acm': 248, 'makecell': 140, 'forms': 224, 'xspace': 53, 'reftex': 84, 'roman-numerals': 167, 'ledmac': 39, 'stacking-symbols': 199, 'svn-multi': 10, 'technical-drawing': 300, 'package-options': 281, 'xtab': 38, 'cancel': 86, 'ragged2e': 87, 'french': 233, 'css': 42, 'footmisc': 157, 'flyers': 9, 'latex-project': 18, 'led-editor': 12, 'random-numbers': 180, 'titletoc': 355, 'emp': 6, 'starred-version': 177, 'chngcntr': 33, 'terminal-output': 82, 'letterspacing': 175, 'metauml': 33, 'lyx-layouts': 170, 'keyboard': 92, 'scoping': 137, 'bounding-box': 141, 'engineering': 47, 'class-options': 196, 'updating': 177, 'covers': 112, 'keywords': 119, 'pandoc': 642, 'python': 437, 'xindy': 231, 'charts': 186, 'xparse': 734, 'multirow': 1140, 'ntheorem': 254, 'dimension-expressions': 37, 'git': 115, 'frenchspacing': 20, 'copy-paste': 211, 'drm': 29, 'intersections': 281, 'paralist': 66, 'widows-orphans': 129, 'titles': 2278, 'timing-diagrams': 17, 'latex2html': 87, 'flashcards': 47, 'file-size': 65, 'text-mode': 81, 'imakeidx': 333, 'animate': 398, 'swf': 9, 'colortbl': 279, 'combine': 90, 'kpfonts': 101, 'songs': 77, 'ps2pdf': 103, 'ghostscript': 156, 'dvips': 156, 'picins': 19, 'jurabib': 38, 'auto-pst-pdf': 120, 'strikeout': 88, 'math-table': 4, 'spanish': 147, 'automata': 165, 'texstudio': 1966, 'themes': 326, 'fixme': 32, 'coordinates': 409, 'path-clipping': 94, 'unit-of-measure': 61, 'chemfig': 750, 'nccmath': 11, 'pdftops': 9, 'epstopdf': 184, 'epstool': 11, 'tabu': 424, 'answers': 102, 'probsoln': 39, 'sans-serif': 283, 'typewriter': 387, 'double-sided': 567, 'type1': 41, 'tikz-styles': 1923, 'scrbook': 347, 'alias': 24, 'naming': 224, 'output-driver': 11, 'typefaces': 49, 'dependencies': 36, 'height': 235, 'mwcls': 12, 'shell-escape': 315, 'beamerarticle': 112, 'minimal': 21, 'elsarticle': 430, 'whatsit': 6, 'dcolumn': 130, 'textpos': 111, 'berry': 6, 'tikz-external': 484, 'roman': 76, 'italic': 502, 'obsolete': 38, 'sphinx': 45, 'varioref': 74, 'chess': 149, 'qtree': 117, 'tikz-qtree': 284, 'pst-node': 74, 'option-clash': 62, 'ieee-style': 260, 'okular': 47, 'verse': 149, 'kvoptions': 58, 'comma-separated-list': 177, 'pagenote': 26, 'eso-pic': 84, 'titling': 91, 'footbib': 5, 'envlab': 19, 'authblk': 105, 'pdfcomment': 102, 'ucharclasses': 30, 'asymptote': 782, 'png': 220, 'mdframed': 803, 'statweave': 3, 'biblatex-dw': 48, 'relation-symbols': 161, 'tipa': 130, 'isomath': 12, 'workflow': 103, 'auto-completion': 270, 'portability': 31, 'java': 62, 'pgf-decorations': 82, 'texi2dvi': 16, 'text-only': 7, 'tocstyle': 55, 'accessibility': 110, 'latex-base': 212, 'newspaper': 20, 'debian': 103, 'mapping': 64, 'detokenize': 47, 'xstring': 359, 'xcoffins': 53, 'beamerposter': 232, 'interfaces': 14, 'xifthen': 63, 'achemso': 123, 'bigfoot': 92, 'xtable': 94, 'icomma': 11, 'cards': 24, 'xecjk': 171, 'fullwidth': 41, 'forward-inverse-search': 318, 'back-referencing': 238, 'tikz-timing': 72, 'pixelated': 24, 'texify': 36, 'subfiles': 266, 'trackchanges': 43, 'fractals': 27, 'parcolumns': 68, 'tkz-fct': 51, 'evince': 40, 'showkeys': 36, 'arc': 158, 'angle': 71, 'versions': 46, 'apa6': 235, 'transition': 48, 'texdef': 23, 'slanted': 55, 'memory': 143, 'octave': 15, 'mindmaps': 168, 'overpic': 58, 'xpatch': 95, 'xfig': 20, 'tkz-graph': 88, 'pdflscape': 74, 'pgfgantt': 276, 'xr': 107, 'ltxgrid': 9, 'knitr': 369, 'eulervm': 51, 'bar-chart': 637, 'isodate': 36, 'data-structures': 58, 'shorthands': 75, 'chemnum': 81, 'sidecap': 61, 'endfloat': 103, 'accsupp': 27, 'scrlttr2': 213, 'pst-barcode': 49, 'media9': 214, 'sagetex': 110, 'grid-typesetting': 126, 'adjustbox': 229, 'textcomp': 40, 'context-mkiv': 300, 'xepersian': 202, 'fancytabs': 12, 'awk': 6, 'markup': 33, 'extended-characters': 39, 'algorithmicx': 316, 'moderntimeline': 44, 'context-mkii': 17, 'degrees': 25, 'tikz-circuit-lib': 103, 'dvi-mode': 54, 'zooming': 43, 'fancytooltips': 46, 'pgf-umlcd': 31, 'zref': 86, 'xmp': 22, 'currfile': 44, 'unix': 26, 'ctable': 46, 'mwe': 14, 'l3fp': 18, 'l3prop': 27, 'baseline': 125, 'color-profile': 13, 'spy': 74, 'restructured-text': 18, 'venn-diagrams': 109, 'newtx': 122, 'docstrip': 33, 'lscape': 29, 'inkscape': 207, 'subequations': 311, 'elisp': 4, 'amssymb': 147, 'adobe': 134, 'matplotlib': 85, 'htlatex': 292, 'nag': 20, 'mtpro': 150, 'arydshln': 48, 'shorttoc': 24, 'bibentry': 103, 'pst-eucl': 42, 'booklet': 34, 'arara': 196, 'qstest': 3, 'bpchem': 7, 'fancyref': 16, 'gummi': 22, 'autonum': 30, 'sv-classes': 143, 'subdividing': 302, 'xymtex': 14, 'splitbib': 19, 'cuted': 21, 'cygwin': 22, 'pst-solides3d': 105, 'detex': 7, 'l3regex': 103, 'perl': 81, 'pgf-pie': 117, 'persian': 76, 'hevea': 6, 'draftwatermark': 33, 'dvipdf': 23, 'siunits': 15, 'pst-plot': 143, 'ipad': 26, 'pst-func': 16, 'dpfloat': 8, 'groupplots': 204, 'flowfram': 45, 'chemmacros': 179, 'marginnote': 289, 'bytefield': 43, 'tkz-euclide': 368, 'pdfscreen': 14, 'afterpage': 93, 'pax': 18, 'tex-gyre-math': 48, 'europecv': 37, 'leaflet': 22, 'pdf-a': 99, 'markdown': 340, 'lettre': 13, 'custom-bib': 124, 'hobby': 42, 'times': 132, 'tikzmark': 194, 'stix': 123, 'yhmath': 16, 'biblatex-chem': 42, 'collcell': 20, 'tikzdevice': 27, 'texpad': 89, 'tablet': 10, 'csv': 362, 'ocg': 67, 'tocbibind': 38, 'hf-tikz': 25, 'threeparttable': 283, 'dramatist': 28, 'powerpoint': 54, 'linguex': 115, 'sourcesanspro': 17, 'sudoku': 17, 'tikz-matrix': 467, 'proofreading': 33, 'blindtext': 21, 'lipsum': 41, 'refcheck': 19, 'tikzscale': 103, 'android': 32, 'tabulary': 168, 'bibtool': 22, 'triskaidekaphobia': 2, 'tikz-cd': 894, 'ocg-p': 13, 'pdfx': 104, 'excel': 75, 'bitmap': 21, 'mini-frames': 114, 'aliasing': 9, 'exsheets': 161, 'titleps': 55, 'tiff': 11, 'jpeg': 45, 'illustrator': 25, 'wallpaper': 29, 'tortoisesvn': 4, 'bibdesk': 110, 'picinpar': 8, 'metafun': 46, 'ipe': 37, 'mathptmx': 23, 'pst-abspos': 4, 'everyshi': 17, 'multicolumn': 1271, 'tikz-arrows': 1991, 'karnaugh': 30, 'interaction': 35, 'latexit': 62, 'privacy': 17, 'curve-fitting': 42, 'pdfmark': 4, 'l3keys': 99, 'tikzlibrary': 91, 'latex-to-word': 60, 'bakoma': 22, 'author-number': 146, 'empheq': 108, 'latexian': 13, 'multido': 37, 'xwatermark': 52, 'atbegshi': 41, 'pst-3dplot': 50, 'algorithmic': 300, 'logos': 166, 'luamplib': 19, 'tikz-3dplot': 492, 'german': 207, 'xesearch': 10, 'parnotes': 17, 'yap': 18, 'latex2rtf': 25, 'nath': 8, 'multimedia': 93, 'bodegraph': 20, 'matlab2tikz': 174, 'texcount': 67, 'sharelatex': 334, 'pst-grad': 5, 'gradetable': 18, 'savetrees': 17, 'gregorio': 29, 'djvu': 1, 'offline': 16, 'cpssp': 1, 'diagbox': 35, 'tikz-datavisualization': 108, 'stmaryrd': 21, 'tcolorbox': 2263, 'showlabels': 41, 'urlbst': 11, 'patgen': 8, 'tei': 4, 'exceltex': 7, 'pst-circ': 15, 'tensor': 45, 'chronology': 33, 'mathcode': 20, 'kindle': 10, 'eemeir': 1, 'he-she': 1, 'listingsutf8': 45, 'verbments': 8, 'axodraw4j': 7, 'polyomino': 2, 'puzzle': 11, 'tetris': 1, 'callback': 18, 'lilypond': 67, 'optical': 13, 'modiagram': 17, 'xlop': 35, 'ytableau': 31, 'forest': 875, 'texmacs': 8, 'xdvipdfmx': 38, 'maple2e': 20, 'esami': 29, 'dot2tex': 34, 'sumatrapdf': 66, 'chemistry': 430, 'cals': 19, 'selnolig': 21, 'tikz-uml': 107, 'filecontents': 76, 'pst-optic': 13, 'thmbox': 19, 'fancybox': 47, 'xtemplate': 17, 'menukeys': 27, 'baposter': 108, 'dropbox': 16, 'pstricks-add': 62, 'fmtcount': 41, 'tikzposter': 202, 'invoice': 41, 'fontawesome': 174, 'tabto': 23, 'program': 18, 'ltablex': 80, 'gitinfo': 13, 'pst-optexp': 45, 'bash': 56, 'bashful': 12, 'sidenotes': 100, 'rivers': 3, 'catchfile': 39, 'fontinst': 2, 'smartdiagram': 150, 'covington': 19, 'rstudio': 112, 'pgffor': 109, 'latexindent': 40, 'code-folding': 24, 'logicpuzzle': 13, 'ptex': 6, 'newtxmath': 156, 'openbsd': 3, 'ticks': 188, 'pifont': 20, 'acro': 196, 'parshape': 36, 'placeins': 32, 'epslatex': 33, 'ebgaramond': 99, 'easylist': 49, 'musixtex': 134, 'sublime-text': 193, 'texinfo': 15, 'xcookybooky': 14, 'texnicle': 4, 'mathabx': 47, 'programming-tools': 10, 'amsfonts': 47, 'stringstrings': 22, 'polarplot': 81, 'cgloss4e': 28, 'untagged': 5, 'code-review': 50, 'tikz-calendar': 63, 'organisation': 27, 'ellipsis': 47, 'fontforge': 11, 'tikz-graphs': 205, 'amsproc': 6, 'remember': 12, 'zotero': 108, 'excel2latex': 54, 'threeparttablex': 46, 'shapes': 186, 'ktikz': 6, 'fpu': 23, 'floating-point': 34, 'block': 263, 'pst-coil': 13, 'eplain': 17, 'content-replication': 57, 'xpinyin': 8, 'dinbrief': 13, 'agutex': 5, 'classics': 4, 'stackengine': 68, 'research': 16, 'export': 107, 'adjmulticol': 4, 'idxlayout': 51, 'expex': 108, 'ltxtable': 26, 'tqft': 9, 'a0poster': 46, 'pygments': 78, 'venturis': 1, 'circuits': 179, 'gloss': 11, 'eledmac': 85, 'mdwtools': 11, 'scrlayer-scrpage': 201, 'systeme': 59, 'dot2texi': 27, 'psmatrix': 29, 'csvsimple': 258, 'otftotfm': 24, 'live-preview': 36, 'alignat': 220, 'multiple-files': 140, 'flyspell': 4, 'paracol': 168, 'translator': 22, 'lacheck': 4, 'zwpagelayout': 12, 'lhs2tex': 19, 'russian': 81, 'hepthesis': 6, 'prelim2e': 4, 'etoc': 106, 'pdfbook': 4, 'esint': 8, 'tikzpagenodes': 29, 'epub': 48, 'embedfile': 14, 'sketch': 10, 'vim-latex': 182, 'pst-asr': 18, 'xdvi': 10, 'txfonts': 22, 'beramono': 7, 'mnsymbol': 37, 'pgfornament': 60, 'uplatex': 15, 'pst-geo': 4, 'lua-visual-debug': 3, 'chapterthumb': 48, 'fillbetween': 248, 'mercurial': 4, 'proof-package': 148, 'robust-commands': 64, 'pattern': 140, 'registers': 29, 'tikz-pic': 306, 'opmac': 33, 'authorindex': 28, 'pspicture': 83, 'thumb-index': 28, 'euler': 35, 'mathastext': 39, 'xkvltxp': 2, 'callout': 24, 'csplain': 9, 'advdate': 17, 'pronunciation': 9, 'bigdelim': 21, 'random': 109, 'dialogue': 28, 'examplep': 4, 'eledpar': 27, 'aastex': 62, 'pstool': 30, 'everypage': 35, 'tikz-shape': 144, 'frame-title': 184, 'rnw': 20, 'pgflayers': 36, 'nameauth': 9, 'rowcolor': 167, 'files': 35, 'directory': 99, 'turkish': 28, 'welsh': 6, 'longtabu': 109, 'changebar': 17, 'tabls': 2, 'physics': 120, 'assoccnt': 5, 'tds': 14, 'feynmp-auto': 48, 'mac': 721, 'tikz-angles': 73, 'spreadtab': 57, 'arithmetic': 58, 'shipout': 36, 'nicefrac': 11, 'transformation': 56, 'tasks': 147, 'tex4ebook': 183, 'technical-environment': 23, 'turnstile': 14, 'julia': 12, 'cweb': 16, 'etextools': 6, 'latvian': 4, 'scientific-workplace': 37, 'biography': 14, 'tagged-pdf': 20, 'ifplatform': 8, 'tugboat': 13, 'garamondx': 20, 'lollipop': 2, 'pdfsync': 29, 'includeonlyframes': 3, 'syriac': 6, 'bm': 86, 'hypdvips': 5, 'kpathsea': 55, 'tikzmath': 53, 'tdclock': 12, 'luatexja': 30, 'fixltx2e': 10, 'ukrainian': 12, 'datenumber': 10, 'xgreek': 7, 'arabxetex': 35, 'displaybreak': 15, 'betababel': 6, 'tablenotes': 74, 'titlecaps': 17, 'make4ht': 195, 'arabtex': 58, 'pagesel': 6, 'underscore': 83, 'qrcode': 54, 'xltxtra': 8, 'code-snippets': 30, 'columnbreak': 41, 'platex': 17, 'avm': 16, 'examdesign': 40, 'fullpage': 34, 'manyfoot': 30, 'leipzig': 17, 'refcount': 15, 'feynman': 179, 'etaremune': 12, 'cervantex': 1, 'liningnums': 13, 'currvita': 27, 'totalcount': 10, 'chktex': 30, 'auto-multiple-choice': 28, 'pythontex': 170, 'active-characters': 54, 'antykwatorunska': 1, 'pnas': 11, 'datetime2': 100, 'bussproofs': 46, 'jumplines': 1, 'overleaf': 1813, 'ocr': 10, 'chronosys': 31, 'border': 259, 'chemformula': 72, 'friggeri-cv': 61, 'bugtracking': 11, 'annotations': 137, 'frontespizio': 17, 'acknowledgements': 19, 'lm': 3, 'musicology': 4, 'substack': 27, 'percent-sign': 17, 'boldmath': 118, 'pgf-umlsd': 26, 'parenthesis': 38, 'size': 285, 'translate': 28, 'minionpro': 124, 'php': 17, 'coding': 18, 'commutative-diagrams': 322, 'swash': 8, 'geogebra': 48, 'amstex': 18, 'enotez': 55, 'edge': 119, 'root': 28, 'tags': 144, 'quicklatex': 4, 'helvetica': 42, 'outofloats': 2, 'luacode': 99, 'psvectorian': 21, 'genealogytree': 98, 'screenplay': 9, 'tkz-berge': 18, 'tkz-kiviat': 23, 'pinyin': 11, 'autoref': 100, 'bbl': 48, 'arguments': 287, 'inconsolata': 11, 'reledmac': 280, 'listoffigures': 2, 'listoftables': 2, 'locale': 25, 'pageslts': 8, 'left-superscripts': 9, 'reledpar': 132, 'overset': 60, 'easy-todo': 5, 'externalize': 70, 'slideshow': 88, 'parallel-texts': 49, 'maxima': 6, 'polygon': 48, 'silence': 27, 'tikz-knots': 55, 'arev': 12, 'parentheses': 81, 'text': 645, 'pst-sigsys': 2, 'totcount': 28, 'numprint': 21, 'msc': 20, 'bbding': 5, 'layers': 46, 'pdfstrcmp': 5, 'english': 46, 'getmap': 10, 'flow-charts': 268, 'gap': 46, 'translations': 25, 'directlua': 74, 'fill': 192, 'cline': 75, 'meetingmins': 1, 'latex-misc': 169, 'count': 35, 'cv': 644, 'external': 25, 'compare': 15, 'hungarian': 27, 'embrac': 7, 'prosper': 3, 'bclogo': 28, 'enctex': 3, 'email': 48, 'l3build': 39, 'samepage': 18, 'sseq': 6, 'software': 39, 'update': 106, 'prolog': 1, 'initex': 14, 'latextools': 62, 'cleanthesis': 35, 'capacity': 57, 'flatex': 1, 'newicktree': 2, 'binding': 19, 'tikz-graphdrawing': 214, 'polynomials': 25, 'math-fonts': 354, 'lucida': 26, 'font-map': 10, 'magnification': 11, 'resize': 185, 'japanese': 98, 'l3galley': 8, 'ornamental-fonts': 11, 'linegoal': 9, 'scalerel': 24, 'bibleref': 19, 'installing-fonts': 82, 'extract': 34, 'sigplanconf': 3, 'paper': 51, 'sticky-labels': 16, 'business-cards': 7, 'lmodern': 64, 'tkz-tab': 35, 'bullets': 135, 'biblatex-chicago': 304, 'tikz-feynman': 231, 'snotez': 3, 'arrow-curve': 44, 'wide-image': 43, 'songbook': 9, 'lattice': 22, 'gitdags': 3, 'relative': 33, 'gnuplottex': 29, 'ifthenelse': 210, 'lstdefinestyle': 49, 'newunicodechar': 33, 'genealogy': 25, 'timeline': 95, 'addlines': 24, 'changepage': 24, 'ltxdockit': 5, 'newfloat': 45, 'junicode': 6, 'handout': 42, 'histogram': 76, 'tikz-path': 123, 'draw': 575, 'collect': 13, 'nomencl': 115, 'video': 76, 'imposition': 8, 'signatures': 38, 'json': 33, 'feynmp': 49, 'matlab-prettifier': 43, 'adjustwidth': 51, 'bugs': 204, 'date': 201, 'aiaa': 7, 'ieeeconf': 112, 'biblatex-philosophy': 24, 'pst-electricfield': 7, 'pgfmathparse': 56, 'xgalley': 6, 'transparent': 41, 'colorbox': 138, 'tcblisting': 55, 'join': 7, 'branching': 16, 'clrscode3e': 5, 'split': 321, 'apacite': 257, 'shortcut': 106, 'xassoccnt': 10, 'braket': 26, 'sqrt': 59, 'body': 13, 'overbrace': 63, 'fnpct': 10, 'pgf-blur': 8, 'clipboard': 8, 'calligra': 8, 'convert': 86, 'linuxfedora': 29, 'commath': 6, 'makeindex': 305, 'parindent': 48, 'line': 392, 'newtheorem': 172, 'tikz-node': 469, 'lineno': 93, 'pscustom': 4, 'biblatex-sourcemap': 4, 'texlive-2016': 58, 'tlmgr': 204, 'noindentafter': 8, 'speedata': 1, 'clearpage': 54, 'syntax-highlighting': 157, 'gauss': 18, 'apostrophe': 26, 'undefined': 226, 'cloud': 12, 'amsplain': 11, 'awesome-cv': 94, 'mathematics': 87, 'axis': 399, 'chain': 4, 'doc': 27, 'multiple-citations': 128, 'nameref': 74, 'tikz-decorations': 66, 'filter': 23, 'abnt': 71, 'bezier': 28, 'underline': 203, 'algpseudocode': 76, 'underbrace': 158, 'seq': 7, 'cropmarks': 28, 'tooltips': 32, 'vertical': 221, 'yathesis': 11, 'sql': 10, 'latex-2.09': 8, 'cell': 143, 'asana': 10, 'domain': 19, 'europasscv': 15, 'parbox': 175, 'pandoc-citeproc': 31, 'protected-macro': 37, 'emptypage': 38, 'floating': 9, 'scrreprt': 76, 'property-list': 7, 'atom': 17, 'polish': 18, 'gcd': 4, 'miktex-update': 129, 'calc': 87, 'biblatex-mla': 19, 'blkarray': 25, 'sidebyside': 56, 'column-width': 95, 'variant': 8, 'relsize': 20, 'hindi': 27, 'integral': 111, 'icon': 35, 'clip': 47, 'kpsewhich': 24, 'cellcolor': 81, 'latex-2-png': 5, 'bookcover': 36, 'xymatrix': 102, 'glue': 76, 'keycommand': 13, 'plural': 16, 'para': 7, 'latexml': 17, 'sidewaysfigure': 51, 'specials': 16, 'garamond': 37, 'macron': 5, 'tocbasic': 36, 'author': 311, 'abc': 6, 'bchart': 3, 'abbrvnat.bst': 13, 'parfillskip': 6, 'miktex2.9': 246, 'randomwalk': 8, 'mark': 24, 'macos': 137, 'footer': 179, 'scale': 83, 'multitoc': 7, 'xhtml': 10, 'styles': 47, 'white-space': 256, 'cbgreek': 3, 'bohr': 6, 'return': 6, 'anki': 46, 'deluxetable': 14, 'scrjura': 13, 'readarray': 15, 'bleed': 12, 'tag': 51, 'csname': 93, 'terminology': 7, 'acmart': 122, 'single-sided': 24, 'l3doc': 17, 'chapterbib': 36, 'tcbinputlisting': 17, 'cross-platform': 10, 'tikzsymbols': 10, 'ref': 209, 'pgfopts': 19, 'variable': 209, 'struktex': 9, 'bibitem': 38, 'spell': 6, 'suftesi': 7, 'termcal': 19, 'radicals': 6, 'uncover': 25, 'yfonts': 7, 'engine': 15, 'scalebox': 50, 'percentage': 8, 'texlive-2017': 67, 'mathtime': 14, 'texmf-local': 16, 'glossaries-extra': 258, 'xsim': 135, 'hhline': 56, 'texmf.cnf': 9, 'console': 32, 'extsizes': 14, 'phantom': 61, 'scrlayer-notecolumn': 14, 'control': 27, 'cfg': 7, 'metre': 4, 'tikzpeople': 5, 'makeidx': 32, 'critical': 7, 'missing': 123, 'measure': 15, 'type': 11, 'tikzducks': 23, 'contour': 54, 'braids': 17, 'url': 135, 'mathbb': 44, 'textcase': 17, 'matplotlib2tikz': 10, 'lindenmayer': 13, 'curve-class': 18, 'libre-office': 15, 'tnotex': 3, 'tnote': 7, 'cmyk': 18, 'mathrm': 16, 'gather': 68, 'leadsheets': 14, 'document-size': 7, 'current-page': 3, 'pylatex': 41, 'points': 36, 'hypertarget': 44, 'hyperlink': 292, 'schemata': 12, 'culmus': 7, 'pointer': 6, 'mfirstuc': 11, 'sirange': 7, 's-column-type': 10, 'button': 24, 'operator-space': 6, 'default': 28, 'shortstack': 9, 'subfig': 232, 'tkz-base': 11, 'babel-french': 60, 'stanli': 17, 'ocgx2': 33, 'sidewaystable': 85, 'qcircuit': 33, 'box': 256, 'tikz-calc': 67, 'allowframebreaks': 34, 'bib2gls': 40, 'google-scholar': 9, 'dvisvgm': 52, 'wrapfig': 85, 'gantt': 50, 'vspace': 140, 'picture-mode': 50, 'page': 322, 'smooth': 18, 'bar': 53, 'historische-zeitschrift': 2, 'archaeologie': 4, 'pagecolor': 15, 'chessfss': 13, 'trimbox': 11, 'error-bars': 32, 'arrowwithtext': 12, 'xii': 3, 'subplot': 13, 'find': 18, 'search': 32, 'break-box': 9, 'chinese': 111, 'centos': 10, 'croptrim': 6, 'sourcecodepro': 3, 'morewrites': 6, 'sloppy': 6, 'pdf-with-trim': 6, 'oscola': 15, 'ctex': 64, 'cutwin': 15, 'for-loop': 38, 'pie': 18, 'fbox': 93, 'textwidth': 143, 'vskip': 19, 'structure': 44, 'anchor': 62, 'alignment': 1173, 'libertinus': 41, 'textfield': 40, 'auto-detection': 3, 'mcexam': 29, 'labbook': 11, 'boldsymbol': 40, 'doxygen': 12, 'compilation-error': 522, 'includegraphics': 664, 'bundledoc': 5, 'diagxy': 5, 'lwarp': 14, 'insbox': 9, 'kbordermatrix': 9, 'lstlisting': 106, 'xrightarrow': 20, 'multipart-node': 15, 'scrivener': 3, 'fragile': 28, 'optidef': 28, 'fontfamily': 31, 'headline': 53, 'xcharter': 14, 'ternary-diagram': 9, 'nodes-near-coords': 152, 'leaders': 36, 'eqnarray': 64, 'tex-live-utility': 12, 'overlap': 69, 'linenumber': 18, 'texlive-2018': 67, 'href': 100, 'lingmacros': 8, 'biblatex-phys': 10, 'cellspace': 25, 'mcite': 4, 'backref': 18, 'logicproof': 22, 'wiki': 14, 'mysql': 4, 'definition': 181, 'documentclass': 71, 'justification': 121, 'gfsneohellenic': 5, 'maintenance': 6, 'brahmic-scripts': 2, 'chemschemex': 4, 'sidebar': 31, 'basedescript': 2, 'exercisebank': 10, 'number': 111, 'decimal-number': 32, 'horizontal': 89, 'book-class': 37, 'polar': 24, 'overflow': 60, 'ocgx': 13, 'only': 24, 'intertext': 14, 'eurosym': 9, 'xfootnote': 8, 'textmerg': 4, 'lemma': 15, 'date-calculations': 4, 'sidesubfloat': 6, 'invoice2': 4, 'flalign': 65, 'hline': 66, 'command-line': 54, 'stata': 29, 'scrartcl': 56, 'thumbpdf': 5, 'pagestyle': 122, 'extreme-tables': 17, 'leftmargin': 29, 'bad-box': 13, 'phonetic': 19, 'mdpi': 49, 'game-tree': 20, 'komacv': 8, 'prooftrees': 16, 'tagpdf': 12, 'backward-compatibility': 5, 'tug': 5, 'ascii': 23, 'tikzset': 35, 'bibulous': 13, 'seqsplit': 12, 'travis': 5, 'continuous-integration': 10, 'splitidx': 6, 'xint': 11, 'pmx': 3, 'mendeley': 50, 'deedy-resume': 18, 'layout': 366, 'pageref': 32, 'beamer-metropolis': 178, 'tikz-3d': 139, 'toptesi': 7, 'arabluatex': 13, 'quotation': 153, 'pst-calculate': 2, 'appendix': 328, 'ecv': 3, 'manyind': 2, 'pst-lsystem': 1, 'youngtab': 9, 'magic-comment': 11, 'arsclassica': 9, 'hyphenat': 20, 'tikzlings': 8, 'academicons': 11, 'ffi': 6, 'hieroglf': 9, 'crossreftools': 10, 'fdsymbol': 4, 'diffcoeff': 14, 'transliteration': 16, 'phaistos': 1, 'perpage': 5, 'iguanatex': 11, 'odsfile': 5, 'dateplot': 92, 'texlive-2019': 92, 'xmltex': 7, 'cloze': 4, 'steganography': 7, 'arrayjob': 8, 'sasnrdisplay': 3, 'harftex': 13, 'pdfpagediff': 1, 'nicematrix': 273, 'sansmathfonts': 15, 'els-cas': 68, 'tangent': 19, 'ybar': 10, 'scientific-notation': 32, 'unnumbered-sections': 34, 'header': 48, 'mol2chemfig': 10, 'maximum-values': 6, 'simplewick': 9, 'section-titles': 249, 'edmac': 2, 'discretionary': 34, 'hyperxmp': 34, 'currency': 4, 'verbtex': 5, 'pst-jtree': 6, 'alterqcm': 8, 'visual-studio-code': 53, 'bookdown': 14, 'mptrees': 1, 'vertical-spacing': 367, 'abntex2': 30, 'texbook.tex': 20, 'ebproof': 10, 'luahbtex': 21, 'authoryear-icomp': 6, 'signal-processing': 8, 'xltabular': 104, 'oberdiek': 8, 'dvipng': 5, 'xindex': 7, 'filehook': 6, 'rmarkdown': 115, 'chickenize': 4, 'ieeeaccess': 44, 'windycity': 10, 'lualatex-dev': 20, 'uppercase': 58, 'footcite': 26, 'cryptocode': 19, 'tikzplotlib': 15, 'apa7': 77, 'witharrows': 16, 'cprotect': 6, 'marathi': 5, 'large-files': 8, 'istgame': 12, 'arial': 10, 'texlive-2020': 78, 'portable': 4, 'altacv': 18, 'node-library': 1, 'moodle': 33, 'xurl': 13, 'kaobook': 39, 'neuralnetwork': 21, 'biblatex-sbl': 11, 'expkv': 4, 'l3seq': 17, 'soulutf': 4, 'webquiz': 7, 'pinoutikz': 1, 'biblatex-publist': 18, 'bst': 55, 'freebsd': 4, 'empty-line': 8, 'sequence': 29, 'xfp': 22, 'autoinst': 10, 'fontools': 2, 'quantikz': 42, 'exsol': 1, 'legal-style': 39, 'ieeecolor': 3, 'wasysym': 5, 'bibliographystyle': 263, 'notes2bib': 3, 'esperanto': 5, 'tokenization': 6, 'lthooks': 34, 'scandinavian-letters': 18, 'structural-analysis': 5, 'fontawesome5': 17, 'trignometry': 4, 'showframe': 4, 'biblatex-ext': 8, 'l3draw': 5, 'cfr-lm': 7, 'seminar': 3, 'babel-greek': 13, 'htxelatex': 3, 'token': 13, 'center': 154, 'opamp': 14, 'generic': 4, 'textheight': 11, 'utf8': 40, 'alphabeta': 3, 'subitem': 7, 'mathcha': 15, 'chemgreek': 3, 'optex': 26, 'newcomputermodern': 11, 'scrletter': 13, 'latexalpha2': 5, 'tibetan': 2, 'penalty': 15, 'capt-of': 5, 'keyfloat': 2, 'tinytex': 22, 'katex': 11, 'icelandic': 2, 'bicaption': 5, 'pas-tableur': 2, 'mylatexformat': 17, 'authoryear': 45, 'renewcommand': 184, 'ini': 2, 'frame': 73, 'qpdfview': 2, 'ucalgthes1': 2, 'pst-labo': 5, 'vscode': 111, 'citetalias': 2, 'tufte-book': 44, 'noto': 11, 'eforms': 6, 'context-modes': 1, 'yaac-another-awesome-cv': 2, 'wiley-article': 12, 'gmverse': 3, 'texlive-2021': 35, 'mindflow': 2, 'docker': 14, 'ieeetrantools': 7, 'timesfont': 10, 'pst-arrow': 2, 'remove': 18, 'nimbus-font': 3, 'declare': 10, 'ibidem': 5, 'irregular-shape': 7, 'crop-image': 6, 'complexity': 5, 'wordbreak': 6, 'star': 6, 'context-lmtx': 24, 'tabularray': 419, 'atan2': 4, 'novel': 6, 'hfill': 18, 'pyluatex': 3, 't-vim': 7, 'setcounter': 32, 'subsection': 83, 'beilstein': 2, 'belowdisplayskip': 6, 'poemscol': 7, 'stix2': 23, 'sentence': 9, 'devanagari': 25, 'tokcycle': 6, 'overline': 12, 'sfmath': 3, 'vwcol': 3, 'springer': 28, 'latex-history': 4, 'springernature': 65, 'tikz-fadings': 31, 'manim': 2, 'wide': 4, 'diacritical-mark': 19, 'mathalfa': 4, 'latex-workshop': 54, 'file-extensions': 2, 'crefthe': 2, 'tex2lyx': 4, 'jinja-template': 2, 'notoccite': 2, 'everypar': 4, 'fontsetup': 8, 'verbose-note': 2, 'expandafter': 23, 'font-features': 5, 'vietnamese': 9, 'sqrcaps': 2, 'pgothic': 5, 'proofs': 8, 'captionof': 6, 'beams': 3, 'cross-hatching': 2, 'xsavebox': 5, 'regular-expressions': 8, 'overleaf-toolkit': 10, 'latin': 9, 'emoji': 7, 'colorspace': 4, 'batchmode': 2, 'large-symbols': 5, 'xr-hyper': 7, 'blend-mode': 3, 'drawing': 14, 'network': 3, 'mlmodern': 6, 'biolinum': 4, 'photobook': 4, 'underfull': 14, 'formulas': 13, 'labelling': 9, 'speech': 2, 'electronics': 4, 'overfull': 33, 'customize': 48, 'lplfitch': 2, 'automatic': 5, 'tikz-positioning': 33, 'dotfill': 22, 'igo': 3, 'custom': 18, 'texorpdfstring': 6, 'cellsize': 2, 'depth': 4, 'function': 40, 'define': 4, 'glossary': 39, 'value': 5, 'asy': 2, 'multilingual': 11, 'functional': 5, 'legrandorangebook': 9, 'texlive2022': 25, 'hangindent': 6, 'cls': 8, 'add-vertical-space': 5, 'equation-number': 26, 'bottom': 6, 'document': 12, 'sidebearings': 2, 'chapter-page': 14, 'mode': 5, 'minutes': 7, 'better-bibtex': 19, 'format': 33, 'numeration': 6, 'figure-placement': 54, 'fira-sans': 4, 'cocalc': 1, 'luapstricks': 6, 'langsci-gb4e': 1, 'jabbrv': 2, 'includeonlylecture': 2, 'csl': 10, 'segment': 2, 'doclicense': 4, 'dynamic': 5, 'longdivision': 4, 'numrange': 3, 'pullquote': 9, 'autart': 2, 'fancy': 3, 'merge': 8, 'rows': 8, 'musixper': 11, 'ellipse': 4, 'set-theory': 3, 'subtables': 5, 'packages-testing': 6, 'raster': 2, 'error-writing': 16, 'spellchecking': 6, 'fullcite': 4, 'horizontal-spacing': 22, 'def': 23, 'cref': 4, 'authoryear-comp': 2, 'parencite': 2, 'hide': 10, 'qed': 10, 'theoremname': 3, 'fvextra': 6, 'bigstrut': 1, 'tcbset': 4, 'breaklines': 3, 'harfbuzz': 4, 'fourier-otf': 1, 'hidden': 4, 'aligned': 27, 'sankey': 2, 'cleardoublepage': 2, 'metrix': 1, 'noindent': 4, 'scantokens': 2, 'pgfpagesuselayout': 2, 'cabin': 4, 'x11names': 1, 'splitargument': 3, 'pdfsavepos': 3, 'impnattypo': 1, 'refstyle': 2, 'texify-idea': 8, 'linewidth': 10, 'padding': 4, 'eqref': 3, 'setlength': 4, 'sidewaysfigurepage': 2, 'obeylines': 2, 'spiral': 2, 'cwpuzzle': 2, 'tzplot': 1, 'tcbraster': 3, 'quarto': 8, 'atbegindocument': 2, 'api': 3, 'visualcounter': 2, 'longtblr': 20, 'eisvogel': 1, 'wrapfig2': 4, 'tblr': 8, 'message': 3, 'tikzfigure': 2, 'tectonic': 6, 'octavo': 35, 'vertically': 2, 'texlive-2023': 17, 'vfill': 3, 'empty': 3, 'iffalse': 2, 'dynkin-diagrams': 3, 'oblivoir': 3, 'profcollege': 1, 'immediate': 1, 'newtheoremstyle': 2, 'shell': 1, 'query': 1, 'drawmatrix': 1, 'csvsimple-13': 2, 'dissertate': 3, 'odot': 1, 'mtpro2': 2, 'newtxtext': 4, 'waveform': 2, 'half-wave': 2, 'rectifier': 1, 'menu': 2, 'output-directory': 3, 'shadowbox': 3, 'simpleicons': 2, 'puence.def': 1, 'pslatex': 1, 'mf2pt1': 1, 'sans': 2, 'acorn': 1, 'texcapacity': 2, 'aa': 1, 'declarecitecommand': 4, 'lighttt': 1, 'nicetabular': 2, 'swedish': 2, 'shift': 6, 'figurecredit': 1, 'mnotes': 1, 'harvard': 3, 'tikzmatmath': 1, 'guide': 2, 'dutch': 1, 'mind': 1, 'map': 3, 'ifdefined': 1, 'forall': 2, 'ot-tableau': 1, 'afm': 1, 'annotate-equations': 2, 'ltxdoc': 2, 'uml': 3, 'talmud': 2, 'parselines': 1, 'baselineskip': 1, 'protein': 9, 'osf': 1, 'lining-numbers': 1, 'tipauni': 3, 'subhead': 1, 'runin': 1, 'separator': 2, 'speed': 2, 'semibold': 1, 'utf': 1, 'jargon': 1, 'longfbox': 1, 'back-matter': 1, 'dedication': 1, 'sepfootnotes': 1, 'verbatimbox': 3, 'sapthesis': 1, 'fitch': 2, 'cross-link': 1, 'latexpand': 1, 'tikz-shadings': 2, 'tabulararray': 1, 'algpseudocodex': 3, 'division': 1, 'euclidean': 1, 'ieee': 2, 'l3clist': 1, 'movement-arrows': 1, 'kannada': 1, 'stoichiometry': 1, 'non-stoichiometry': 1, 'merriweather': 1, 'memoize': 1, 'outlines': 1, 'architecture': 1, 'tikz-pgfcorrecr': 1, 'tlpdb': 1, 'damaged': 1, 'dashrule': 1, 'ltproperties': 1, 'manifest': 1, 'beamerswitch': 1, 'ascii-art': 1, 'extbook': 1, 'csvsimple-l3': 2, 'restatable': 1}\n",
      "[2364, 1093]\n"
     ]
    },
    {
     "ename": "AnalysisException",
     "evalue": "[MISSING_GROUP_BY] The query does not include a GROUP BY clause. Add GROUP BY or turn it into the window functions using OVER clauses.;\nAggregate [QuestionId#458L, BodyLength#459, TitleLength#460, max(replace_tags_with_counts(TagsCounts#640)#657) AS TagsCounts#659, NumberOfTags#462, OwnerId#463L, OwnerDownVotes#464L, OwnerUpVotes#465L, OwnerReputation#466L, OwnerViews#467L, UserExperience#468, Accepted#469]\n+- Project [QuestionId#458L, BodyLength#459, TitleLength#460, replace_tags_with_counts(TagsCounts#550)#639 AS TagsCounts#640, NumberOfTags#462, OwnerId#463L, OwnerDownVotes#464L, OwnerUpVotes#465L, OwnerReputation#466L, OwnerViews#467L, UserExperience#468, Accepted#469]\n   +- Project [QuestionId#458L, BodyLength#459, TitleLength#460, replace_tags_with_counts(TagsCounts#461)#549 AS TagsCounts#550, NumberOfTags#462, OwnerId#463L, OwnerDownVotes#464L, OwnerUpVotes#465L, OwnerReputation#466L, OwnerViews#467L, UserExperience#468, Accepted#469]\n      +- Project [_Id#9L AS QuestionId#458L, _Body#344 AS BodyLength#459, _Title#367 AS TitleLength#460, _Tags#321 AS TagsCounts#461, size(_Tags#321, true) AS NumberOfTags#462, _Id#49L AS OwnerId#463L, _DownVotes#48L AS OwnerDownVotes#464L, _UpVotes#53L AS OwnerUpVotes#465L, _Reputation#52L AS OwnerReputation#466L, _Views#54L AS OwnerViews#467L, cast((_CreationDate#7 - _CreationDate#46) as int) AS UserExperience#468, CASE WHEN isnull(_AcceptedAnswerId#0L) THEN 0 ELSE 1 END AS Accepted#469]\n         +- Join Inner, (_OwnerUserId#15L = _Id#49L)\n            :- Project [_AcceptedAnswerId#0L, _AnswerCount#1L, _Body#344, _ClosedDate#3, _CommentCount#4L, _CommunityOwnedDate#5, _ContentLicense#6, _CreationDate#7, _FavoriteCount#8L, _Id#9L, _LastActivityDate#10, _LastEditDate#11, _LastEditorDisplayName#12, _LastEditorUserId#13L, _OwnerDisplayName#14, _OwnerUserId#15L, _ParentId#16L, _PostTypeId#17L, _Score#18L, _Tags#321, size(split(_Title#20,  , -1), true) AS _Title#367, _ViewCount#21L]\n            :  +- Project [_AcceptedAnswerId#0L, _AnswerCount#1L, size(split(_Body#2,  , -1), true) AS _Body#344, _ClosedDate#3, _CommentCount#4L, _CommunityOwnedDate#5, _ContentLicense#6, _CreationDate#7, _FavoriteCount#8L, _Id#9L, _LastActivityDate#10, _LastEditDate#11, _LastEditorDisplayName#12, _LastEditorUserId#13L, _OwnerDisplayName#14, _OwnerUserId#15L, _ParentId#16L, _PostTypeId#17L, _Score#18L, _Tags#321, _Title#20, _ViewCount#21L]\n            :     +- Project [_AcceptedAnswerId#0L, _AnswerCount#1L, _Body#2, _ClosedDate#3, _CommentCount#4L, _CommunityOwnedDate#5, _ContentLicense#6, _CreationDate#7, _FavoriteCount#8L, _Id#9L, _LastActivityDate#10, _LastEditDate#11, _LastEditorDisplayName#12, _LastEditorUserId#13L, _OwnerDisplayName#14, _OwnerUserId#15L, _ParentId#16L, _PostTypeId#17L, _Score#18L, split(substring(_Tags#19, 2, (length(_Tags#19) - 2)), ><, -1) AS _Tags#321, _Title#20, _ViewCount#21L]\n            :        +- Filter (_PostTypeId#17L = cast(1 as bigint))\n            :           +- Filter (_PostTypeId#17L = cast(1 as bigint))\n            :              +- SubqueryAlias posts\n            :                 +- Relation [_AcceptedAnswerId#0L,_AnswerCount#1L,_Body#2,_ClosedDate#3,_CommentCount#4L,_CommunityOwnedDate#5,_ContentLicense#6,_CreationDate#7,_FavoriteCount#8L,_Id#9L,_LastActivityDate#10,_LastEditDate#11,_LastEditorDisplayName#12,_LastEditorUserId#13L,_OwnerDisplayName#14,_OwnerUserId#15L,_ParentId#16L,_PostTypeId#17L,_Score#18L,_Tags#19,_Title#20,_ViewCount#21L] XmlRelation(com.databricks.spark.xml.DefaultSource$$Lambda$1152/0x0000021e1082ccf0@7783adf,Some(tex.stackexchange.com/Posts.xml),Map(roottag -> posts, rowtag -> row, path -> tex.stackexchange.com/Posts.xml),null)\n            +- SubqueryAlias users\n               +- Relation [_AboutMe#44,_AccountId#45L,_CreationDate#46,_DisplayName#47,_DownVotes#48L,_Id#49L,_LastAccessDate#50,_Location#51,_Reputation#52L,_UpVotes#53L,_Views#54L,_WebsiteUrl#55] XmlRelation(com.databricks.spark.xml.DefaultSource$$Lambda$1152/0x0000021e1082ccf0@153d8f9c,Some(tex.stackexchange.com/Users.xml),Map(roottag -> users, rowtag -> row, path -> tex.stackexchange.com/Users.xml),null)\n",
     "output_type": "error",
     "traceback": [
      "\u001b[1;31m---------------------------------------------------------------------------\u001b[0m",
      "\u001b[1;31mAnalysisException\u001b[0m                         Traceback (most recent call last)",
      "\u001b[1;32m~\\AppData\\Local\\Temp\\ipykernel_1084\\957850642.py\u001b[0m in \u001b[0;36m<module>\u001b[1;34m\u001b[0m\n\u001b[0;32m      9\u001b[0m \u001b[0mreplace_tags_with_counts_udf\u001b[0m \u001b[1;33m=\u001b[0m \u001b[0mudf\u001b[0m\u001b[1;33m(\u001b[0m\u001b[0mreplace_tags_with_counts\u001b[0m\u001b[1;33m,\u001b[0m \u001b[0mIntegerType\u001b[0m\u001b[1;33m(\u001b[0m\u001b[1;33m)\u001b[0m\u001b[1;33m)\u001b[0m\u001b[1;33m\u001b[0m\u001b[1;33m\u001b[0m\u001b[0m\n\u001b[0;32m     10\u001b[0m \u001b[1;33m\u001b[0m\u001b[0m\n\u001b[1;32m---> 11\u001b[1;33m \u001b[0mquestions\u001b[0m \u001b[1;33m=\u001b[0m \u001b[0mquestions\u001b[0m\u001b[1;33m.\u001b[0m\u001b[0mwithColumn\u001b[0m\u001b[1;33m(\u001b[0m\u001b[1;34m\"TagsCounts\"\u001b[0m\u001b[1;33m,\u001b[0m \u001b[0mmax\u001b[0m\u001b[1;33m(\u001b[0m\u001b[0mreplace_tags_with_counts_udf\u001b[0m\u001b[1;33m(\u001b[0m\u001b[0mquestions\u001b[0m\u001b[1;33m.\u001b[0m\u001b[0mTagsCounts\u001b[0m\u001b[1;33m)\u001b[0m\u001b[1;33m)\u001b[0m\u001b[1;33m)\u001b[0m\u001b[1;33m\u001b[0m\u001b[1;33m\u001b[0m\u001b[0m\n\u001b[0m",
      "\u001b[1;32mc:\\Users\\jurek\\anaconda3\\lib\\site-packages\\pyspark\\sql\\dataframe.py\u001b[0m in \u001b[0;36mwithColumn\u001b[1;34m(self, colName, col)\u001b[0m\n\u001b[0;32m   5168\u001b[0m                 \u001b[0mmessage_parameters\u001b[0m\u001b[1;33m=\u001b[0m\u001b[1;33m{\u001b[0m\u001b[1;34m\"arg_name\"\u001b[0m\u001b[1;33m:\u001b[0m \u001b[1;34m\"col\"\u001b[0m\u001b[1;33m,\u001b[0m \u001b[1;34m\"arg_type\"\u001b[0m\u001b[1;33m:\u001b[0m \u001b[0mtype\u001b[0m\u001b[1;33m(\u001b[0m\u001b[0mcol\u001b[0m\u001b[1;33m)\u001b[0m\u001b[1;33m.\u001b[0m\u001b[0m__name__\u001b[0m\u001b[1;33m}\u001b[0m\u001b[1;33m,\u001b[0m\u001b[1;33m\u001b[0m\u001b[1;33m\u001b[0m\u001b[0m\n\u001b[0;32m   5169\u001b[0m             )\n\u001b[1;32m-> 5170\u001b[1;33m         \u001b[1;32mreturn\u001b[0m \u001b[0mDataFrame\u001b[0m\u001b[1;33m(\u001b[0m\u001b[0mself\u001b[0m\u001b[1;33m.\u001b[0m\u001b[0m_jdf\u001b[0m\u001b[1;33m.\u001b[0m\u001b[0mwithColumn\u001b[0m\u001b[1;33m(\u001b[0m\u001b[0mcolName\u001b[0m\u001b[1;33m,\u001b[0m \u001b[0mcol\u001b[0m\u001b[1;33m.\u001b[0m\u001b[0m_jc\u001b[0m\u001b[1;33m)\u001b[0m\u001b[1;33m,\u001b[0m \u001b[0mself\u001b[0m\u001b[1;33m.\u001b[0m\u001b[0msparkSession\u001b[0m\u001b[1;33m)\u001b[0m\u001b[1;33m\u001b[0m\u001b[1;33m\u001b[0m\u001b[0m\n\u001b[0m\u001b[0;32m   5171\u001b[0m \u001b[1;33m\u001b[0m\u001b[0m\n\u001b[0;32m   5172\u001b[0m     \u001b[1;32mdef\u001b[0m \u001b[0mwithColumnRenamed\u001b[0m\u001b[1;33m(\u001b[0m\u001b[0mself\u001b[0m\u001b[1;33m,\u001b[0m \u001b[0mexisting\u001b[0m\u001b[1;33m:\u001b[0m \u001b[0mstr\u001b[0m\u001b[1;33m,\u001b[0m \u001b[0mnew\u001b[0m\u001b[1;33m:\u001b[0m \u001b[0mstr\u001b[0m\u001b[1;33m)\u001b[0m \u001b[1;33m->\u001b[0m \u001b[1;34m\"DataFrame\"\u001b[0m\u001b[1;33m:\u001b[0m\u001b[1;33m\u001b[0m\u001b[1;33m\u001b[0m\u001b[0m\n",
      "\u001b[1;32mc:\\Users\\jurek\\anaconda3\\lib\\site-packages\\py4j\\java_gateway.py\u001b[0m in \u001b[0;36m__call__\u001b[1;34m(self, *args)\u001b[0m\n\u001b[0;32m   1320\u001b[0m \u001b[1;33m\u001b[0m\u001b[0m\n\u001b[0;32m   1321\u001b[0m         \u001b[0manswer\u001b[0m \u001b[1;33m=\u001b[0m \u001b[0mself\u001b[0m\u001b[1;33m.\u001b[0m\u001b[0mgateway_client\u001b[0m\u001b[1;33m.\u001b[0m\u001b[0msend_command\u001b[0m\u001b[1;33m(\u001b[0m\u001b[0mcommand\u001b[0m\u001b[1;33m)\u001b[0m\u001b[1;33m\u001b[0m\u001b[1;33m\u001b[0m\u001b[0m\n\u001b[1;32m-> 1322\u001b[1;33m         return_value = get_return_value(\n\u001b[0m\u001b[0;32m   1323\u001b[0m             answer, self.gateway_client, self.target_id, self.name)\n\u001b[0;32m   1324\u001b[0m \u001b[1;33m\u001b[0m\u001b[0m\n",
      "\u001b[1;32mc:\\Users\\jurek\\anaconda3\\lib\\site-packages\\pyspark\\errors\\exceptions\\captured.py\u001b[0m in \u001b[0;36mdeco\u001b[1;34m(*a, **kw)\u001b[0m\n\u001b[0;32m    183\u001b[0m                 \u001b[1;31m# Hide where the exception came from that shows a non-Pythonic\u001b[0m\u001b[1;33m\u001b[0m\u001b[1;33m\u001b[0m\u001b[0m\n\u001b[0;32m    184\u001b[0m                 \u001b[1;31m# JVM exception message.\u001b[0m\u001b[1;33m\u001b[0m\u001b[1;33m\u001b[0m\u001b[0m\n\u001b[1;32m--> 185\u001b[1;33m                 \u001b[1;32mraise\u001b[0m \u001b[0mconverted\u001b[0m \u001b[1;32mfrom\u001b[0m \u001b[1;32mNone\u001b[0m\u001b[1;33m\u001b[0m\u001b[1;33m\u001b[0m\u001b[0m\n\u001b[0m\u001b[0;32m    186\u001b[0m             \u001b[1;32melse\u001b[0m\u001b[1;33m:\u001b[0m\u001b[1;33m\u001b[0m\u001b[1;33m\u001b[0m\u001b[0m\n\u001b[0;32m    187\u001b[0m                 \u001b[1;32mraise\u001b[0m\u001b[1;33m\u001b[0m\u001b[1;33m\u001b[0m\u001b[0m\n",
      "\u001b[1;31mAnalysisException\u001b[0m: [MISSING_GROUP_BY] The query does not include a GROUP BY clause. Add GROUP BY or turn it into the window functions using OVER clauses.;\nAggregate [QuestionId#458L, BodyLength#459, TitleLength#460, max(replace_tags_with_counts(TagsCounts#640)#657) AS TagsCounts#659, NumberOfTags#462, OwnerId#463L, OwnerDownVotes#464L, OwnerUpVotes#465L, OwnerReputation#466L, OwnerViews#467L, UserExperience#468, Accepted#469]\n+- Project [QuestionId#458L, BodyLength#459, TitleLength#460, replace_tags_with_counts(TagsCounts#550)#639 AS TagsCounts#640, NumberOfTags#462, OwnerId#463L, OwnerDownVotes#464L, OwnerUpVotes#465L, OwnerReputation#466L, OwnerViews#467L, UserExperience#468, Accepted#469]\n   +- Project [QuestionId#458L, BodyLength#459, TitleLength#460, replace_tags_with_counts(TagsCounts#461)#549 AS TagsCounts#550, NumberOfTags#462, OwnerId#463L, OwnerDownVotes#464L, OwnerUpVotes#465L, OwnerReputation#466L, OwnerViews#467L, UserExperience#468, Accepted#469]\n      +- Project [_Id#9L AS QuestionId#458L, _Body#344 AS BodyLength#459, _Title#367 AS TitleLength#460, _Tags#321 AS TagsCounts#461, size(_Tags#321, true) AS NumberOfTags#462, _Id#49L AS OwnerId#463L, _DownVotes#48L AS OwnerDownVotes#464L, _UpVotes#53L AS OwnerUpVotes#465L, _Reputation#52L AS OwnerReputation#466L, _Views#54L AS OwnerViews#467L, cast((_CreationDate#7 - _CreationDate#46) as int) AS UserExperience#468, CASE WHEN isnull(_AcceptedAnswerId#0L) THEN 0 ELSE 1 END AS Accepted#469]\n         +- Join Inner, (_OwnerUserId#15L = _Id#49L)\n            :- Project [_AcceptedAnswerId#0L, _AnswerCount#1L, _Body#344, _ClosedDate#3, _CommentCount#4L, _CommunityOwnedDate#5, _ContentLicense#6, _CreationDate#7, _FavoriteCount#8L, _Id#9L, _LastActivityDate#10, _LastEditDate#11, _LastEditorDisplayName#12, _LastEditorUserId#13L, _OwnerDisplayName#14, _OwnerUserId#15L, _ParentId#16L, _PostTypeId#17L, _Score#18L, _Tags#321, size(split(_Title#20,  , -1), true) AS _Title#367, _ViewCount#21L]\n            :  +- Project [_AcceptedAnswerId#0L, _AnswerCount#1L, size(split(_Body#2,  , -1), true) AS _Body#344, _ClosedDate#3, _CommentCount#4L, _CommunityOwnedDate#5, _ContentLicense#6, _CreationDate#7, _FavoriteCount#8L, _Id#9L, _LastActivityDate#10, _LastEditDate#11, _LastEditorDisplayName#12, _LastEditorUserId#13L, _OwnerDisplayName#14, _OwnerUserId#15L, _ParentId#16L, _PostTypeId#17L, _Score#18L, _Tags#321, _Title#20, _ViewCount#21L]\n            :     +- Project [_AcceptedAnswerId#0L, _AnswerCount#1L, _Body#2, _ClosedDate#3, _CommentCount#4L, _CommunityOwnedDate#5, _ContentLicense#6, _CreationDate#7, _FavoriteCount#8L, _Id#9L, _LastActivityDate#10, _LastEditDate#11, _LastEditorDisplayName#12, _LastEditorUserId#13L, _OwnerDisplayName#14, _OwnerUserId#15L, _ParentId#16L, _PostTypeId#17L, _Score#18L, split(substring(_Tags#19, 2, (length(_Tags#19) - 2)), ><, -1) AS _Tags#321, _Title#20, _ViewCount#21L]\n            :        +- Filter (_PostTypeId#17L = cast(1 as bigint))\n            :           +- Filter (_PostTypeId#17L = cast(1 as bigint))\n            :              +- SubqueryAlias posts\n            :                 +- Relation [_AcceptedAnswerId#0L,_AnswerCount#1L,_Body#2,_ClosedDate#3,_CommentCount#4L,_CommunityOwnedDate#5,_ContentLicense#6,_CreationDate#7,_FavoriteCount#8L,_Id#9L,_LastActivityDate#10,_LastEditDate#11,_LastEditorDisplayName#12,_LastEditorUserId#13L,_OwnerDisplayName#14,_OwnerUserId#15L,_ParentId#16L,_PostTypeId#17L,_Score#18L,_Tags#19,_Title#20,_ViewCount#21L] XmlRelation(com.databricks.spark.xml.DefaultSource$$Lambda$1152/0x0000021e1082ccf0@7783adf,Some(tex.stackexchange.com/Posts.xml),Map(roottag -> posts, rowtag -> row, path -> tex.stackexchange.com/Posts.xml),null)\n            +- SubqueryAlias users\n               +- Relation [_AboutMe#44,_AccountId#45L,_CreationDate#46,_DisplayName#47,_DownVotes#48L,_Id#49L,_LastAccessDate#50,_Location#51,_Reputation#52L,_UpVotes#53L,_Views#54L,_WebsiteUrl#55] XmlRelation(com.databricks.spark.xml.DefaultSource$$Lambda$1152/0x0000021e1082ccf0@153d8f9c,Some(tex.stackexchange.com/Users.xml),Map(roottag -> users, rowtag -> row, path -> tex.stackexchange.com/Users.xml),null)\n"
     ]
    }
   ],
   "source": [
    "#Fast way to change tag names to tag counts from Tags table\n",
    "\n",
    "tag_counts = tags.select(\"_TagName\", \"_Count\").rdd.collectAsMap()\n",
    "\n",
    "def replace_tags_with_counts(tags):\n",
    "    return [tag_counts.get(tag, 0) for tag in tags]\n",
    "print(tag_counts)\n",
    "print(replace_tags_with_counts([\"enumerate\", \"geometry\"]))\n",
    "replace_tags_with_counts_udf = udf(replace_tags_with_counts, IntegerType())\n",
    "\n",
    "questions = questions.withColumn(\"TagsCounts\", max(replace_tags_with_counts_udf(questions.TagsCounts)))"
   ]
  },
  {
   "cell_type": "code",
   "execution_count": 9,
   "metadata": {},
   "outputs": [
    {
     "ename": "PythonException",
     "evalue": "\n  An exception was thrown from the Python worker. Please see the stack trace below.\nTraceback (most recent call last):\n  File \"C:\\Users\\jurek\\AppData\\Local\\Temp\\ipykernel_1084\\1988812052.py\", line 6, in replace_tags_with_counts\n  File \"C:\\Spark\\spark-3.5.0-bin-hadoop3\\python\\lib\\pyspark.zip\\pyspark\\sql\\utils.py\", line 174, in wrapped\n    return f(*args, **kwargs)\n  File \"C:\\Spark\\spark-3.5.0-bin-hadoop3\\python\\lib\\pyspark.zip\\pyspark\\sql\\functions.py\", line 687, in max\n    return _invoke_function_over_columns(\"max\", col)\n  File \"C:\\Spark\\spark-3.5.0-bin-hadoop3\\python\\lib\\pyspark.zip\\pyspark\\sql\\functions.py\", line 105, in _invoke_function_over_columns\n    return _invoke_function(name, *(_to_java_column(col) for col in cols))\n  File \"C:\\Spark\\spark-3.5.0-bin-hadoop3\\python\\lib\\pyspark.zip\\pyspark\\sql\\functions.py\", line 105, in <genexpr>\n    return _invoke_function(name, *(_to_java_column(col) for col in cols))\n  File \"C:\\Spark\\spark-3.5.0-bin-hadoop3\\python\\lib\\pyspark.zip\\pyspark\\sql\\column.py\", line 65, in _to_java_column\n    raise PySparkTypeError(\npyspark.errors.exceptions.base.PySparkTypeError: [NOT_COLUMN_OR_STR] Argument `col` should be a Column or str, got list.\n",
     "output_type": "error",
     "traceback": [
      "\u001b[1;31m---------------------------------------------------------------------------\u001b[0m",
      "\u001b[1;31mPythonException\u001b[0m                           Traceback (most recent call last)",
      "\u001b[1;32m~\\AppData\\Local\\Temp\\ipykernel_1084\\1342534007.py\u001b[0m in \u001b[0;36m<module>\u001b[1;34m\u001b[0m\n\u001b[1;32m----> 1\u001b[1;33m \u001b[0mquestions\u001b[0m\u001b[1;33m.\u001b[0m\u001b[0mshow\u001b[0m\u001b[1;33m(\u001b[0m\u001b[1;36m5\u001b[0m\u001b[1;33m,\u001b[0m \u001b[0mtruncate\u001b[0m\u001b[1;33m=\u001b[0m\u001b[1;32mFalse\u001b[0m\u001b[1;33m)\u001b[0m\u001b[1;33m\u001b[0m\u001b[1;33m\u001b[0m\u001b[0m\n\u001b[0m\u001b[0;32m      2\u001b[0m \u001b[1;31m# posts_tags = posts.select(col(\"_Id\").alias(\"_Id\"),\u001b[0m\u001b[1;33m\u001b[0m\u001b[1;33m\u001b[0m\u001b[0m\n\u001b[0;32m      3\u001b[0m \u001b[1;31m#         explode(col('_Tags')).alias(\"tag\"))\\\u001b[0m\u001b[1;33m\u001b[0m\u001b[1;33m\u001b[0m\u001b[0m\n\u001b[0;32m      4\u001b[0m \u001b[1;31m#         .filter(posts._PostTypeId == 1)\u001b[0m\u001b[1;33m\u001b[0m\u001b[1;33m\u001b[0m\u001b[0m\n\u001b[0;32m      5\u001b[0m \u001b[1;33m\u001b[0m\u001b[0m\n",
      "\u001b[1;32mc:\\Users\\jurek\\anaconda3\\lib\\site-packages\\pyspark\\sql\\dataframe.py\u001b[0m in \u001b[0;36mshow\u001b[1;34m(self, n, truncate, vertical)\u001b[0m\n\u001b[0;32m    970\u001b[0m                 )\n\u001b[0;32m    971\u001b[0m \u001b[1;33m\u001b[0m\u001b[0m\n\u001b[1;32m--> 972\u001b[1;33m             \u001b[0mprint\u001b[0m\u001b[1;33m(\u001b[0m\u001b[0mself\u001b[0m\u001b[1;33m.\u001b[0m\u001b[0m_jdf\u001b[0m\u001b[1;33m.\u001b[0m\u001b[0mshowString\u001b[0m\u001b[1;33m(\u001b[0m\u001b[0mn\u001b[0m\u001b[1;33m,\u001b[0m \u001b[0mint_truncate\u001b[0m\u001b[1;33m,\u001b[0m \u001b[0mvertical\u001b[0m\u001b[1;33m)\u001b[0m\u001b[1;33m)\u001b[0m\u001b[1;33m\u001b[0m\u001b[1;33m\u001b[0m\u001b[0m\n\u001b[0m\u001b[0;32m    973\u001b[0m \u001b[1;33m\u001b[0m\u001b[0m\n\u001b[0;32m    974\u001b[0m     \u001b[1;32mdef\u001b[0m \u001b[0m__repr__\u001b[0m\u001b[1;33m(\u001b[0m\u001b[0mself\u001b[0m\u001b[1;33m)\u001b[0m \u001b[1;33m->\u001b[0m \u001b[0mstr\u001b[0m\u001b[1;33m:\u001b[0m\u001b[1;33m\u001b[0m\u001b[1;33m\u001b[0m\u001b[0m\n",
      "\u001b[1;32mc:\\Users\\jurek\\anaconda3\\lib\\site-packages\\py4j\\java_gateway.py\u001b[0m in \u001b[0;36m__call__\u001b[1;34m(self, *args)\u001b[0m\n\u001b[0;32m   1320\u001b[0m \u001b[1;33m\u001b[0m\u001b[0m\n\u001b[0;32m   1321\u001b[0m         \u001b[0manswer\u001b[0m \u001b[1;33m=\u001b[0m \u001b[0mself\u001b[0m\u001b[1;33m.\u001b[0m\u001b[0mgateway_client\u001b[0m\u001b[1;33m.\u001b[0m\u001b[0msend_command\u001b[0m\u001b[1;33m(\u001b[0m\u001b[0mcommand\u001b[0m\u001b[1;33m)\u001b[0m\u001b[1;33m\u001b[0m\u001b[1;33m\u001b[0m\u001b[0m\n\u001b[1;32m-> 1322\u001b[1;33m         return_value = get_return_value(\n\u001b[0m\u001b[0;32m   1323\u001b[0m             answer, self.gateway_client, self.target_id, self.name)\n\u001b[0;32m   1324\u001b[0m \u001b[1;33m\u001b[0m\u001b[0m\n",
      "\u001b[1;32mc:\\Users\\jurek\\anaconda3\\lib\\site-packages\\pyspark\\errors\\exceptions\\captured.py\u001b[0m in \u001b[0;36mdeco\u001b[1;34m(*a, **kw)\u001b[0m\n\u001b[0;32m    183\u001b[0m                 \u001b[1;31m# Hide where the exception came from that shows a non-Pythonic\u001b[0m\u001b[1;33m\u001b[0m\u001b[1;33m\u001b[0m\u001b[0m\n\u001b[0;32m    184\u001b[0m                 \u001b[1;31m# JVM exception message.\u001b[0m\u001b[1;33m\u001b[0m\u001b[1;33m\u001b[0m\u001b[0m\n\u001b[1;32m--> 185\u001b[1;33m                 \u001b[1;32mraise\u001b[0m \u001b[0mconverted\u001b[0m \u001b[1;32mfrom\u001b[0m \u001b[1;32mNone\u001b[0m\u001b[1;33m\u001b[0m\u001b[1;33m\u001b[0m\u001b[0m\n\u001b[0m\u001b[0;32m    186\u001b[0m             \u001b[1;32melse\u001b[0m\u001b[1;33m:\u001b[0m\u001b[1;33m\u001b[0m\u001b[1;33m\u001b[0m\u001b[0m\n\u001b[0;32m    187\u001b[0m                 \u001b[1;32mraise\u001b[0m\u001b[1;33m\u001b[0m\u001b[1;33m\u001b[0m\u001b[0m\n",
      "\u001b[1;31mPythonException\u001b[0m: \n  An exception was thrown from the Python worker. Please see the stack trace below.\nTraceback (most recent call last):\n  File \"C:\\Users\\jurek\\AppData\\Local\\Temp\\ipykernel_1084\\1988812052.py\", line 6, in replace_tags_with_counts\n  File \"C:\\Spark\\spark-3.5.0-bin-hadoop3\\python\\lib\\pyspark.zip\\pyspark\\sql\\utils.py\", line 174, in wrapped\n    return f(*args, **kwargs)\n  File \"C:\\Spark\\spark-3.5.0-bin-hadoop3\\python\\lib\\pyspark.zip\\pyspark\\sql\\functions.py\", line 687, in max\n    return _invoke_function_over_columns(\"max\", col)\n  File \"C:\\Spark\\spark-3.5.0-bin-hadoop3\\python\\lib\\pyspark.zip\\pyspark\\sql\\functions.py\", line 105, in _invoke_function_over_columns\n    return _invoke_function(name, *(_to_java_column(col) for col in cols))\n  File \"C:\\Spark\\spark-3.5.0-bin-hadoop3\\python\\lib\\pyspark.zip\\pyspark\\sql\\functions.py\", line 105, in <genexpr>\n    return _invoke_function(name, *(_to_java_column(col) for col in cols))\n  File \"C:\\Spark\\spark-3.5.0-bin-hadoop3\\python\\lib\\pyspark.zip\\pyspark\\sql\\column.py\", line 65, in _to_java_column\n    raise PySparkTypeError(\npyspark.errors.exceptions.base.PySparkTypeError: [NOT_COLUMN_OR_STR] Argument `col` should be a Column or str, got list.\n"
     ]
    }
   ],
   "source": [
    "questions.show(5, truncate=False)\n",
    "# posts_tags = posts.select(col(\"_Id\").alias(\"_Id\"),\n",
    "#         explode(col('_Tags')).alias(\"tag\"))\\\n",
    "#         .filter(posts._PostTypeId == 1)\n",
    "\n",
    "# posts_tags_score = \\\n",
    "#         posts_tags.join(tags, posts_tags.tag == tags._TagName)\\\n",
    "#         .select(posts_tags._Id, tags._Count).groupby(posts_tags._Id)\\\n",
    "#                 .agg(max(tags._Count).alias(\"max_tag_count\"),\n",
    "#                      avg(tags._Count).alias(\"avg_tag_count\"),\n",
    "#                      count(tags._Count).alias(\"number_of_tags\"))\n"
   ]
  },
  {
   "cell_type": "code",
   "execution_count": 6,
   "id": "3c4b86aa3eb93155",
   "metadata": {
    "ExecuteTime": {
     "end_time": "2024-01-18T00:22:54.099286800Z",
     "start_time": "2024-01-18T00:22:54.041466400Z"
    },
    "collapsed": false
   },
   "outputs": [],
   "source": [
    "features = ['title_length', 'question_length', 'author_reputation',\n",
    "            'max_tag_count', 'avg_tag_count', 'number_of_tags', 'proper_title']\n",
    "assembler = VectorAssembler(inputCols=features, outputCol=\"features\")"
   ]
  },
  {
   "cell_type": "markdown",
   "id": "d67bbf49c2a008ea",
   "metadata": {
    "collapsed": false
   },
   "source": [
    "### Data Preparation"
   ]
  },
  {
   "cell_type": "markdown",
   "id": "382e3519083a3422",
   "metadata": {
    "collapsed": false
   },
   "source": [
    "### Model Training"
   ]
  },
  {
   "cell_type": "code",
   "execution_count": 7,
   "id": "bf8144da797e31d6",
   "metadata": {
    "ExecuteTime": {
     "end_time": "2024-01-18T00:22:54.125055400Z",
     "start_time": "2024-01-18T00:22:54.088379100Z"
    },
    "collapsed": false
   },
   "outputs": [],
   "source": [
    "train, test = questions.randomSplit([0.7, 0.3], seed=12345)"
   ]
  },
  {
   "cell_type": "code",
   "execution_count": 8,
   "id": "d5014e0a1f9a13f5",
   "metadata": {
    "ExecuteTime": {
     "end_time": "2024-01-18T00:23:52.471567900Z",
     "start_time": "2024-01-18T00:22:54.114971100Z"
    },
    "collapsed": false
   },
   "outputs": [
    {
     "ename": "PythonException",
     "evalue": "\n  An exception was thrown from the Python worker. Please see the stack trace below.\nTraceback (most recent call last):\n  File \"c:\\Users\\jurek\\anaconda3\\lib\\socket.py\", line 707, in readinto\n    raise\nsocket.timeout: timed out\n",
     "output_type": "error",
     "traceback": [
      "\u001b[1;31m---------------------------------------------------------------------------\u001b[0m",
      "\u001b[1;31mPythonException\u001b[0m                           Traceback (most recent call last)",
      "\u001b[1;32m~\\AppData\\Local\\Temp\\ipykernel_20540\\4086880993.py\u001b[0m in \u001b[0;36m<module>\u001b[1;34m\u001b[0m\n\u001b[0;32m      2\u001b[0m \u001b[0mlr\u001b[0m \u001b[1;33m=\u001b[0m \u001b[0mLogisticRegression\u001b[0m\u001b[1;33m(\u001b[0m\u001b[0mlabelCol\u001b[0m\u001b[1;33m=\u001b[0m\u001b[1;34m\"accepted\"\u001b[0m\u001b[1;33m,\u001b[0m \u001b[0mfeaturesCol\u001b[0m\u001b[1;33m=\u001b[0m\u001b[1;34m\"features\"\u001b[0m\u001b[1;33m)\u001b[0m\u001b[1;33m\u001b[0m\u001b[1;33m\u001b[0m\u001b[0m\n\u001b[0;32m      3\u001b[0m \u001b[0mlr_pipeline\u001b[0m \u001b[1;33m=\u001b[0m \u001b[0mPipeline\u001b[0m\u001b[1;33m(\u001b[0m\u001b[0mstages\u001b[0m\u001b[1;33m=\u001b[0m\u001b[1;33m[\u001b[0m\u001b[0massembler\u001b[0m\u001b[1;33m,\u001b[0m \u001b[0mlr\u001b[0m\u001b[1;33m]\u001b[0m\u001b[1;33m)\u001b[0m\u001b[1;33m\u001b[0m\u001b[1;33m\u001b[0m\u001b[0m\n\u001b[1;32m----> 4\u001b[1;33m \u001b[0mlr_model\u001b[0m \u001b[1;33m=\u001b[0m \u001b[0mlr_pipeline\u001b[0m\u001b[1;33m.\u001b[0m\u001b[0mfit\u001b[0m\u001b[1;33m(\u001b[0m\u001b[0mtrain\u001b[0m\u001b[1;33m)\u001b[0m\u001b[1;33m\u001b[0m\u001b[1;33m\u001b[0m\u001b[0m\n\u001b[0m",
      "\u001b[1;32mc:\\Users\\jurek\\anaconda3\\lib\\site-packages\\pyspark\\ml\\base.py\u001b[0m in \u001b[0;36mfit\u001b[1;34m(self, dataset, params)\u001b[0m\n\u001b[0;32m    203\u001b[0m                 \u001b[1;32mreturn\u001b[0m \u001b[0mself\u001b[0m\u001b[1;33m.\u001b[0m\u001b[0mcopy\u001b[0m\u001b[1;33m(\u001b[0m\u001b[0mparams\u001b[0m\u001b[1;33m)\u001b[0m\u001b[1;33m.\u001b[0m\u001b[0m_fit\u001b[0m\u001b[1;33m(\u001b[0m\u001b[0mdataset\u001b[0m\u001b[1;33m)\u001b[0m\u001b[1;33m\u001b[0m\u001b[1;33m\u001b[0m\u001b[0m\n\u001b[0;32m    204\u001b[0m             \u001b[1;32melse\u001b[0m\u001b[1;33m:\u001b[0m\u001b[1;33m\u001b[0m\u001b[1;33m\u001b[0m\u001b[0m\n\u001b[1;32m--> 205\u001b[1;33m                 \u001b[1;32mreturn\u001b[0m \u001b[0mself\u001b[0m\u001b[1;33m.\u001b[0m\u001b[0m_fit\u001b[0m\u001b[1;33m(\u001b[0m\u001b[0mdataset\u001b[0m\u001b[1;33m)\u001b[0m\u001b[1;33m\u001b[0m\u001b[1;33m\u001b[0m\u001b[0m\n\u001b[0m\u001b[0;32m    206\u001b[0m         \u001b[1;32melse\u001b[0m\u001b[1;33m:\u001b[0m\u001b[1;33m\u001b[0m\u001b[1;33m\u001b[0m\u001b[0m\n\u001b[0;32m    207\u001b[0m             raise TypeError(\n",
      "\u001b[1;32mc:\\Users\\jurek\\anaconda3\\lib\\site-packages\\pyspark\\ml\\pipeline.py\u001b[0m in \u001b[0;36m_fit\u001b[1;34m(self, dataset)\u001b[0m\n\u001b[0;32m    132\u001b[0m                     \u001b[0mdataset\u001b[0m \u001b[1;33m=\u001b[0m \u001b[0mstage\u001b[0m\u001b[1;33m.\u001b[0m\u001b[0mtransform\u001b[0m\u001b[1;33m(\u001b[0m\u001b[0mdataset\u001b[0m\u001b[1;33m)\u001b[0m\u001b[1;33m\u001b[0m\u001b[1;33m\u001b[0m\u001b[0m\n\u001b[0;32m    133\u001b[0m                 \u001b[1;32melse\u001b[0m\u001b[1;33m:\u001b[0m  \u001b[1;31m# must be an Estimator\u001b[0m\u001b[1;33m\u001b[0m\u001b[1;33m\u001b[0m\u001b[0m\n\u001b[1;32m--> 134\u001b[1;33m                     \u001b[0mmodel\u001b[0m \u001b[1;33m=\u001b[0m \u001b[0mstage\u001b[0m\u001b[1;33m.\u001b[0m\u001b[0mfit\u001b[0m\u001b[1;33m(\u001b[0m\u001b[0mdataset\u001b[0m\u001b[1;33m)\u001b[0m\u001b[1;33m\u001b[0m\u001b[1;33m\u001b[0m\u001b[0m\n\u001b[0m\u001b[0;32m    135\u001b[0m                     \u001b[0mtransformers\u001b[0m\u001b[1;33m.\u001b[0m\u001b[0mappend\u001b[0m\u001b[1;33m(\u001b[0m\u001b[0mmodel\u001b[0m\u001b[1;33m)\u001b[0m\u001b[1;33m\u001b[0m\u001b[1;33m\u001b[0m\u001b[0m\n\u001b[0;32m    136\u001b[0m                     \u001b[1;32mif\u001b[0m \u001b[0mi\u001b[0m \u001b[1;33m<\u001b[0m \u001b[0mindexOfLastEstimator\u001b[0m\u001b[1;33m:\u001b[0m\u001b[1;33m\u001b[0m\u001b[1;33m\u001b[0m\u001b[0m\n",
      "\u001b[1;32mc:\\Users\\jurek\\anaconda3\\lib\\site-packages\\pyspark\\ml\\base.py\u001b[0m in \u001b[0;36mfit\u001b[1;34m(self, dataset, params)\u001b[0m\n\u001b[0;32m    203\u001b[0m                 \u001b[1;32mreturn\u001b[0m \u001b[0mself\u001b[0m\u001b[1;33m.\u001b[0m\u001b[0mcopy\u001b[0m\u001b[1;33m(\u001b[0m\u001b[0mparams\u001b[0m\u001b[1;33m)\u001b[0m\u001b[1;33m.\u001b[0m\u001b[0m_fit\u001b[0m\u001b[1;33m(\u001b[0m\u001b[0mdataset\u001b[0m\u001b[1;33m)\u001b[0m\u001b[1;33m\u001b[0m\u001b[1;33m\u001b[0m\u001b[0m\n\u001b[0;32m    204\u001b[0m             \u001b[1;32melse\u001b[0m\u001b[1;33m:\u001b[0m\u001b[1;33m\u001b[0m\u001b[1;33m\u001b[0m\u001b[0m\n\u001b[1;32m--> 205\u001b[1;33m                 \u001b[1;32mreturn\u001b[0m \u001b[0mself\u001b[0m\u001b[1;33m.\u001b[0m\u001b[0m_fit\u001b[0m\u001b[1;33m(\u001b[0m\u001b[0mdataset\u001b[0m\u001b[1;33m)\u001b[0m\u001b[1;33m\u001b[0m\u001b[1;33m\u001b[0m\u001b[0m\n\u001b[0m\u001b[0;32m    206\u001b[0m         \u001b[1;32melse\u001b[0m\u001b[1;33m:\u001b[0m\u001b[1;33m\u001b[0m\u001b[1;33m\u001b[0m\u001b[0m\n\u001b[0;32m    207\u001b[0m             raise TypeError(\n",
      "\u001b[1;32mc:\\Users\\jurek\\anaconda3\\lib\\site-packages\\pyspark\\ml\\wrapper.py\u001b[0m in \u001b[0;36m_fit\u001b[1;34m(self, dataset)\u001b[0m\n\u001b[0;32m    379\u001b[0m \u001b[1;33m\u001b[0m\u001b[0m\n\u001b[0;32m    380\u001b[0m     \u001b[1;32mdef\u001b[0m \u001b[0m_fit\u001b[0m\u001b[1;33m(\u001b[0m\u001b[0mself\u001b[0m\u001b[1;33m,\u001b[0m \u001b[0mdataset\u001b[0m\u001b[1;33m:\u001b[0m \u001b[0mDataFrame\u001b[0m\u001b[1;33m)\u001b[0m \u001b[1;33m->\u001b[0m \u001b[0mJM\u001b[0m\u001b[1;33m:\u001b[0m\u001b[1;33m\u001b[0m\u001b[1;33m\u001b[0m\u001b[0m\n\u001b[1;32m--> 381\u001b[1;33m         \u001b[0mjava_model\u001b[0m \u001b[1;33m=\u001b[0m \u001b[0mself\u001b[0m\u001b[1;33m.\u001b[0m\u001b[0m_fit_java\u001b[0m\u001b[1;33m(\u001b[0m\u001b[0mdataset\u001b[0m\u001b[1;33m)\u001b[0m\u001b[1;33m\u001b[0m\u001b[1;33m\u001b[0m\u001b[0m\n\u001b[0m\u001b[0;32m    382\u001b[0m         \u001b[0mmodel\u001b[0m \u001b[1;33m=\u001b[0m \u001b[0mself\u001b[0m\u001b[1;33m.\u001b[0m\u001b[0m_create_model\u001b[0m\u001b[1;33m(\u001b[0m\u001b[0mjava_model\u001b[0m\u001b[1;33m)\u001b[0m\u001b[1;33m\u001b[0m\u001b[1;33m\u001b[0m\u001b[0m\n\u001b[0;32m    383\u001b[0m         \u001b[1;32mreturn\u001b[0m \u001b[0mself\u001b[0m\u001b[1;33m.\u001b[0m\u001b[0m_copyValues\u001b[0m\u001b[1;33m(\u001b[0m\u001b[0mmodel\u001b[0m\u001b[1;33m)\u001b[0m\u001b[1;33m\u001b[0m\u001b[1;33m\u001b[0m\u001b[0m\n",
      "\u001b[1;32mc:\\Users\\jurek\\anaconda3\\lib\\site-packages\\pyspark\\ml\\wrapper.py\u001b[0m in \u001b[0;36m_fit_java\u001b[1;34m(self, dataset)\u001b[0m\n\u001b[0;32m    376\u001b[0m \u001b[1;33m\u001b[0m\u001b[0m\n\u001b[0;32m    377\u001b[0m         \u001b[0mself\u001b[0m\u001b[1;33m.\u001b[0m\u001b[0m_transfer_params_to_java\u001b[0m\u001b[1;33m(\u001b[0m\u001b[1;33m)\u001b[0m\u001b[1;33m\u001b[0m\u001b[1;33m\u001b[0m\u001b[0m\n\u001b[1;32m--> 378\u001b[1;33m         \u001b[1;32mreturn\u001b[0m \u001b[0mself\u001b[0m\u001b[1;33m.\u001b[0m\u001b[0m_java_obj\u001b[0m\u001b[1;33m.\u001b[0m\u001b[0mfit\u001b[0m\u001b[1;33m(\u001b[0m\u001b[0mdataset\u001b[0m\u001b[1;33m.\u001b[0m\u001b[0m_jdf\u001b[0m\u001b[1;33m)\u001b[0m\u001b[1;33m\u001b[0m\u001b[1;33m\u001b[0m\u001b[0m\n\u001b[0m\u001b[0;32m    379\u001b[0m \u001b[1;33m\u001b[0m\u001b[0m\n\u001b[0;32m    380\u001b[0m     \u001b[1;32mdef\u001b[0m \u001b[0m_fit\u001b[0m\u001b[1;33m(\u001b[0m\u001b[0mself\u001b[0m\u001b[1;33m,\u001b[0m \u001b[0mdataset\u001b[0m\u001b[1;33m:\u001b[0m \u001b[0mDataFrame\u001b[0m\u001b[1;33m)\u001b[0m \u001b[1;33m->\u001b[0m \u001b[0mJM\u001b[0m\u001b[1;33m:\u001b[0m\u001b[1;33m\u001b[0m\u001b[1;33m\u001b[0m\u001b[0m\n",
      "\u001b[1;32mc:\\Users\\jurek\\anaconda3\\lib\\site-packages\\py4j\\java_gateway.py\u001b[0m in \u001b[0;36m__call__\u001b[1;34m(self, *args)\u001b[0m\n\u001b[0;32m   1320\u001b[0m \u001b[1;33m\u001b[0m\u001b[0m\n\u001b[0;32m   1321\u001b[0m         \u001b[0manswer\u001b[0m \u001b[1;33m=\u001b[0m \u001b[0mself\u001b[0m\u001b[1;33m.\u001b[0m\u001b[0mgateway_client\u001b[0m\u001b[1;33m.\u001b[0m\u001b[0msend_command\u001b[0m\u001b[1;33m(\u001b[0m\u001b[0mcommand\u001b[0m\u001b[1;33m)\u001b[0m\u001b[1;33m\u001b[0m\u001b[1;33m\u001b[0m\u001b[0m\n\u001b[1;32m-> 1322\u001b[1;33m         return_value = get_return_value(\n\u001b[0m\u001b[0;32m   1323\u001b[0m             answer, self.gateway_client, self.target_id, self.name)\n\u001b[0;32m   1324\u001b[0m \u001b[1;33m\u001b[0m\u001b[0m\n",
      "\u001b[1;32mc:\\Users\\jurek\\anaconda3\\lib\\site-packages\\pyspark\\errors\\exceptions\\captured.py\u001b[0m in \u001b[0;36mdeco\u001b[1;34m(*a, **kw)\u001b[0m\n\u001b[0;32m    183\u001b[0m                 \u001b[1;31m# Hide where the exception came from that shows a non-Pythonic\u001b[0m\u001b[1;33m\u001b[0m\u001b[1;33m\u001b[0m\u001b[0m\n\u001b[0;32m    184\u001b[0m                 \u001b[1;31m# JVM exception message.\u001b[0m\u001b[1;33m\u001b[0m\u001b[1;33m\u001b[0m\u001b[0m\n\u001b[1;32m--> 185\u001b[1;33m                 \u001b[1;32mraise\u001b[0m \u001b[0mconverted\u001b[0m \u001b[1;32mfrom\u001b[0m \u001b[1;32mNone\u001b[0m\u001b[1;33m\u001b[0m\u001b[1;33m\u001b[0m\u001b[0m\n\u001b[0m\u001b[0;32m    186\u001b[0m             \u001b[1;32melse\u001b[0m\u001b[1;33m:\u001b[0m\u001b[1;33m\u001b[0m\u001b[1;33m\u001b[0m\u001b[0m\n\u001b[0;32m    187\u001b[0m                 \u001b[1;32mraise\u001b[0m\u001b[1;33m\u001b[0m\u001b[1;33m\u001b[0m\u001b[0m\n",
      "\u001b[1;31mPythonException\u001b[0m: \n  An exception was thrown from the Python worker. Please see the stack trace below.\nTraceback (most recent call last):\n  File \"c:\\Users\\jurek\\anaconda3\\lib\\socket.py\", line 707, in readinto\n    raise\nsocket.timeout: timed out\n"
     ]
    }
   ],
   "source": [
    "# Logistic Regression model\n",
    "lr = LogisticRegression(labelCol=\"accepted\", featuresCol=\"features\")\n",
    "lr_pipeline = Pipeline(stages=[assembler, lr])\n",
    "lr_model = lr_pipeline.fit(train)"
   ]
  },
  {
   "cell_type": "code",
   "execution_count": null,
   "id": "346ffc6627dbd121",
   "metadata": {
    "ExecuteTime": {
     "end_time": "2024-01-18T00:25:42.077571800Z",
     "start_time": "2024-01-18T00:23:52.471567900Z"
    },
    "collapsed": false
   },
   "outputs": [],
   "source": [
    "# Random Forest model\n",
    "rf = RandomForestClassifier(labelCol=\"accepted\", featuresCol=\"features\", numTrees=10)\n",
    "rf_pipeline = Pipeline(stages=[assembler, rf])\n",
    "rf_model = rf_pipeline.fit(train)"
   ]
  },
  {
   "cell_type": "code",
   "execution_count": null,
   "id": "6300714e9c0f9365",
   "metadata": {
    "ExecuteTime": {
     "end_time": "2024-01-18T00:27:13.360270100Z",
     "start_time": "2024-01-18T00:25:42.077571800Z"
    },
    "collapsed": false
   },
   "outputs": [],
   "source": [
    "# Gradient Boosting model\n",
    "gbt = GBTClassifier(labelCol=\"accepted\", featuresCol=\"features\", maxIter=10)\n",
    "gbt_pipeline = Pipeline(stages=[assembler, gbt])\n",
    "gbt_model = gbt_pipeline.fit(train)"
   ]
  },
  {
   "cell_type": "code",
   "execution_count": null,
   "id": "f9a3c29342f41f28",
   "metadata": {
    "ExecuteTime": {
     "end_time": "2024-01-18T00:28:04.939639200Z",
     "start_time": "2024-01-18T00:27:13.363769Z"
    },
    "collapsed": false
   },
   "outputs": [],
   "source": [
    "# Neural Network model\n",
    "layers = [len(features), 10, 5, 2]  # Adjust layer sizes as needed\n",
    "nn = MultilayerPerceptronClassifier(labelCol=\"accepted\", featuresCol=\"features\", layers=layers, blockSize=128, seed=1234)\n",
    "nn_pipeline = Pipeline(stages=[assembler, nn])\n",
    "nn_model = nn_pipeline.fit(train)"
   ]
  },
  {
   "cell_type": "markdown",
   "id": "1b713ee9d56b629e",
   "metadata": {
    "collapsed": false
   },
   "source": [
    "### Predictions"
   ]
  },
  {
   "cell_type": "code",
   "execution_count": null,
   "id": "74504727a2134dc0",
   "metadata": {
    "ExecuteTime": {
     "end_time": "2024-01-18T00:28:05.194588300Z",
     "start_time": "2024-01-18T00:28:04.941633900Z"
    },
    "collapsed": false
   },
   "outputs": [],
   "source": [
    "lr_predictions = lr_model.transform(test)\n",
    "rf_predictions = rf_model.transform(test)\n",
    "gbt_predictions = gbt_model.transform(test)\n",
    "nn_predictions = nn_model.transform(test)"
   ]
  },
  {
   "cell_type": "markdown",
   "id": "82d6e5dc7e95bb1e",
   "metadata": {
    "collapsed": false
   },
   "source": [
    "### Model Evaluation"
   ]
  },
  {
   "cell_type": "code",
   "execution_count": null,
   "id": "d172d490df736a99",
   "metadata": {
    "ExecuteTime": {
     "end_time": "2024-01-18T00:29:46.691629900Z",
     "start_time": "2024-01-18T00:28:05.193574800Z"
    },
    "collapsed": false
   },
   "outputs": [
    {
     "name": "stdout",
     "output_type": "stream",
     "text": [
      "===== Accuracy =====\n",
      "Logistic Regression: 0.6023578712851592\n"
     ]
    }
   ],
   "source": [
    "evaluator = MulticlassClassificationEvaluator(labelCol=\"accepted\", metricName=\"accuracy\")\n",
    "print('===== Accuracy =====')\n",
    "print('Logistic Regression:', evaluator.evaluate(lr_predictions))\n",
    "print('Random Forest:      ', evaluator.evaluate(rf_predictions))\n",
    "print('Gradient Boosting:  ', evaluator.evaluate(gbt_predictions))\n",
    "print('Neural Network:     ', evaluator.evaluate(nn_predictions))"
   ]
  },
  {
   "cell_type": "markdown",
   "id": "373ea5864e18fe40",
   "metadata": {
    "collapsed": false
   },
   "source": []
  }
 ],
 "metadata": {
  "kernelspec": {
   "display_name": "Python 3",
   "language": "python",
   "name": "python3"
  },
  "language_info": {
   "codemirror_mode": {
    "name": "ipython",
    "version": 3
   },
   "file_extension": ".py",
   "mimetype": "text/x-python",
   "name": "python",
   "nbconvert_exporter": "python",
   "pygments_lexer": "ipython3",
   "version": "3.9.13"
  }
 },
 "nbformat": 4,
 "nbformat_minor": 5
}
