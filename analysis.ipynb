{
 "cells": [
  {
   "cell_type": "markdown",
   "source": [
    "# Predictive Analysis"
   ],
   "metadata": {
    "collapsed": false
   },
   "id": "21e01cfc3d052772"
  },
  {
   "cell_type": "code",
   "outputs": [],
   "source": [
    "from pyspark.ml.feature import VectorAssembler\n",
    "from pyspark.sql.functions import when, col\n",
    "from pyspark.ml.classification import LogisticRegression, RandomForestClassifier, GBTClassifier, MultilayerPerceptronClassifier\n",
    "from pyspark.ml.evaluation import MulticlassClassificationEvaluator\n",
    "from pyspark.ml import Pipeline\n",
    "from pyspark.sql import SparkSession\n",
    "\n",
    "spark = SparkSession.builder.appName(\"Forum Question Analyzer\") \\\n",
    "    .config(\"spark.jars.packages\", \"com.databricks:spark-xml_2.12:0.17.0\") \\\n",
    "    .getOrCreate()\n",
    "posts = spark.read \\\n",
    "    .format(\"com.databricks.spark.xml\") \\\n",
    "    .option(\"rootTag\", \"posts\") \\\n",
    "    .option(\"rowTag\", \"row\") \\\n",
    "    .load(\"tex.stackexchange.com/Posts.xml\") \\\n",
    "    .alias('posts')\n",
    "users = spark.read \\\n",
    "    .format(\"com.databricks.spark.xml\") \\\n",
    "    .option(\"rootTag\", \"users\") \\\n",
    "    .option(\"rowTag\", \"row\") \\\n",
    "    .load(\"tex.stackexchange.com/Users.xml\") \\\n",
    "    .alias('users')\n",
    "tags = spark.read \\\n",
    "    .format(\"com.databricks.spark.xml\") \\\n",
    "    .option(\"rootTag\", \"tags\") \\\n",
    "    .option(\"rowTag\", \"row\") \\\n",
    "    .load(\"tex.stackexchange.com/Tags.xml\") \\\n",
    "    .alias('tags')"
   ],
   "metadata": {
    "collapsed": false,
    "ExecuteTime": {
     "end_time": "2024-01-18T01:15:30.240313600Z",
     "start_time": "2024-01-18T01:14:58.260036Z"
    }
   },
   "id": "e1ebdb68d9ddea42",
   "execution_count": 28
  },
  {
   "cell_type": "markdown",
   "source": [
    "### Feature Extraction"
   ],
   "metadata": {
    "collapsed": false
   },
   "id": "c954147ca4a63e2d"
  },
  {
   "cell_type": "code",
   "execution_count": 11,
   "outputs": [],
   "source": [
    "# TODO Use features that are available at the time of question creation\n",
    "features = ['_Score', '_ViewCount', '_AnswerCount', '_CommentCount']\n",
    "assembler = VectorAssembler(inputCols=features, outputCol=\"features\")"
   ],
   "metadata": {
    "collapsed": false,
    "ExecuteTime": {
     "end_time": "2024-01-18T00:22:54.099286800Z",
     "start_time": "2024-01-18T00:22:54.041466400Z"
    }
   },
   "id": "3c4b86aa3eb93155"
  },
  {
   "cell_type": "markdown",
   "source": [
    "### Data Preparation"
   ],
   "metadata": {
    "collapsed": false
   },
   "id": "d67bbf49c2a008ea"
  },
  {
   "cell_type": "code",
   "execution_count": 12,
   "outputs": [],
   "source": [
    "questions = posts.filter(posts._PostTypeId == 1)\n",
    "questions = questions.withColumn(\"accepted\", when(col(\"_AcceptedAnswerId\").isNull(), 0).otherwise(1))"
   ],
   "metadata": {
    "collapsed": false,
    "ExecuteTime": {
     "end_time": "2024-01-18T00:22:54.101471900Z",
     "start_time": "2024-01-18T00:22:54.066212100Z"
    }
   },
   "id": "aacfb624b53860aa"
  },
  {
   "cell_type": "markdown",
   "source": [
    "### Model Training"
   ],
   "metadata": {
    "collapsed": false
   },
   "id": "382e3519083a3422"
  },
  {
   "cell_type": "code",
   "execution_count": 13,
   "outputs": [],
   "source": [
    "train, test = questions.randomSplit([0.7, 0.3], seed=12345)"
   ],
   "metadata": {
    "collapsed": false,
    "ExecuteTime": {
     "end_time": "2024-01-18T00:22:54.125055400Z",
     "start_time": "2024-01-18T00:22:54.088379100Z"
    }
   },
   "id": "bf8144da797e31d6"
  },
  {
   "cell_type": "code",
   "outputs": [],
   "source": [
    "# Logistic Regression model\n",
    "lr = LogisticRegression(labelCol=\"accepted\", featuresCol=\"features\")\n",
    "lr_pipeline = Pipeline(stages=[assembler, lr])\n",
    "lr_model = lr_pipeline.fit(train)"
   ],
   "metadata": {
    "collapsed": false,
    "ExecuteTime": {
     "end_time": "2024-01-18T00:23:52.471567900Z",
     "start_time": "2024-01-18T00:22:54.114971100Z"
    }
   },
   "id": "d5014e0a1f9a13f5",
   "execution_count": 14
  },
  {
   "cell_type": "code",
   "execution_count": 15,
   "outputs": [],
   "source": [
    "# Random Forest model\n",
    "rf = RandomForestClassifier(labelCol=\"accepted\", featuresCol=\"features\", numTrees=10)\n",
    "rf_pipeline = Pipeline(stages=[assembler, rf])\n",
    "rf_model = rf_pipeline.fit(train)"
   ],
   "metadata": {
    "collapsed": false,
    "ExecuteTime": {
     "end_time": "2024-01-18T00:25:42.077571800Z",
     "start_time": "2024-01-18T00:23:52.471567900Z"
    }
   },
   "id": "346ffc6627dbd121"
  },
  {
   "cell_type": "code",
   "outputs": [],
   "source": [
    "# Gradient Boosting model\n",
    "gbt = GBTClassifier(labelCol=\"accepted\", featuresCol=\"features\", maxIter=10)\n",
    "gbt_pipeline = Pipeline(stages=[assembler, gbt])\n",
    "gbt_model = gbt_pipeline.fit(train)"
   ],
   "metadata": {
    "collapsed": false,
    "ExecuteTime": {
     "end_time": "2024-01-18T00:27:13.360270100Z",
     "start_time": "2024-01-18T00:25:42.077571800Z"
    }
   },
   "id": "6300714e9c0f9365",
   "execution_count": 16
  },
  {
   "cell_type": "code",
   "outputs": [],
   "source": [
    "# Neural Network model\n",
    "layers = [len(features), 10, 5, 2]  # Adjust layer sizes as needed\n",
    "nn = MultilayerPerceptronClassifier(labelCol=\"accepted\", featuresCol=\"features\", layers=layers, blockSize=128, seed=1234)\n",
    "nn_pipeline = Pipeline(stages=[assembler, nn])\n",
    "nn_model = nn_pipeline.fit(train)"
   ],
   "metadata": {
    "collapsed": false,
    "ExecuteTime": {
     "end_time": "2024-01-18T00:28:04.939639200Z",
     "start_time": "2024-01-18T00:27:13.363769Z"
    }
   },
   "id": "f9a3c29342f41f28",
   "execution_count": 17
  },
  {
   "cell_type": "markdown",
   "source": [
    "### Predictions"
   ],
   "metadata": {
    "collapsed": false
   },
   "id": "1b713ee9d56b629e"
  },
  {
   "cell_type": "code",
   "execution_count": 18,
   "outputs": [],
   "source": [
    "lr_predictions = lr_model.transform(test)\n",
    "rf_predictions = rf_model.transform(test)\n",
    "gbt_predictions = gbt_model.transform(test)\n",
    "nn_predictions = nn_model.transform(test)"
   ],
   "metadata": {
    "collapsed": false,
    "ExecuteTime": {
     "end_time": "2024-01-18T00:28:05.194588300Z",
     "start_time": "2024-01-18T00:28:04.941633900Z"
    }
   },
   "id": "74504727a2134dc0"
  },
  {
   "cell_type": "markdown",
   "source": [
    "### Model Evaluation"
   ],
   "metadata": {
    "collapsed": false
   },
   "id": "82d6e5dc7e95bb1e"
  },
  {
   "cell_type": "code",
   "execution_count": 19,
   "outputs": [
    {
     "name": "stdout",
     "output_type": "stream",
     "text": [
      "===== Accuracy =====\n",
      "Logistic Regression: 0.742379177327809\n",
      "Random Forest:       0.7618354915381917\n",
      "Gradient Boosting:   0.762445936643591\n",
      "Neural Network:      0.7070383021833153\n"
     ]
    }
   ],
   "source": [
    "evaluator = MulticlassClassificationEvaluator(labelCol=\"accepted\", metricName=\"accuracy\")\n",
    "print('===== Accuracy =====')\n",
    "print('Logistic Regression:', evaluator.evaluate(lr_predictions))\n",
    "print('Random Forest:      ', evaluator.evaluate(rf_predictions))\n",
    "print('Gradient Boosting:  ', evaluator.evaluate(gbt_predictions))\n",
    "print('Neural Network:     ', evaluator.evaluate(nn_predictions))"
   ],
   "metadata": {
    "collapsed": false,
    "ExecuteTime": {
     "end_time": "2024-01-18T00:29:46.691629900Z",
     "start_time": "2024-01-18T00:28:05.193574800Z"
    }
   },
   "id": "d172d490df736a99"
  },
  {
   "cell_type": "markdown",
   "source": [],
   "metadata": {
    "collapsed": false
   },
   "id": "373ea5864e18fe40"
  }
 ],
 "metadata": {
  "kernelspec": {
   "display_name": "Python 3",
   "language": "python",
   "name": "python3"
  },
  "language_info": {
   "codemirror_mode": {
    "name": "ipython",
    "version": 2
   },
   "file_extension": ".py",
   "mimetype": "text/x-python",
   "name": "python",
   "nbconvert_exporter": "python",
   "pygments_lexer": "ipython2",
   "version": "2.7.6"
  }
 },
 "nbformat": 4,
 "nbformat_minor": 5
}
