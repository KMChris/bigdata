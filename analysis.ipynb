{
 "cells": [
  {
   "cell_type": "markdown",
   "id": "21e01cfc3d052772",
   "metadata": {
    "collapsed": false
   },
   "source": [
    "# Predictive Analysis"
   ]
  },
  {
   "cell_type": "code",
   "execution_count": 1,
   "id": "e1ebdb68d9ddea42",
   "metadata": {
    "ExecuteTime": {
     "end_time": "2024-01-18T01:15:30.240313600Z",
     "start_time": "2024-01-18T01:14:58.260036Z"
    },
    "collapsed": false
   },
   "outputs": [],
   "source": [
    "from pyspark.ml.feature import VectorAssembler\n",
    "from pyspark.sql.functions import when, col, explode, max, avg, count\n",
    "from pyspark.ml.classification import LogisticRegression, RandomForestClassifier, GBTClassifier, MultilayerPerceptronClassifier\n",
    "from pyspark.ml.evaluation import MulticlassClassificationEvaluator\n",
    "from pyspark.ml import Pipeline\n",
    "from pyspark.sql import SparkSession\n",
    "from pyspark.sql.types import IntegerType, ArrayType, StringType\n",
    "from pyspark.sql.functions import udf\n",
    "\n",
    "import os\n",
    "import sys\n",
    "\n",
    "os.environ['PYSPARK_PYTHON'] = sys.executable\n",
    "os.environ['PYSPARK_DRIVER_PYTHON'] = sys.executable\n",
    "\n",
    "spark = SparkSession.builder.appName(\"Forum Question Analyzer\") \\\n",
    "    .config(\"spark.jars.packages\", \"com.databricks:spark-xml_2.12:0.17.0\")\\\n",
    "    .getOrCreate()"
   ]
  },
  {
   "cell_type": "code",
   "execution_count": 2,
   "metadata": {},
   "outputs": [],
   "source": [
    "posts = spark.read \\\n",
    "    .format(\"com.databricks.spark.xml\") \\\n",
    "    .option(\"rootTag\", \"posts\") \\\n",
    "    .option(\"rowTag\", \"row\") \\\n",
    "    .load(\"tex.stackexchange.com/Posts.xml\") \\\n",
    "    .alias('posts')\n",
    "users = spark.read \\\n",
    "    .format(\"com.databricks.spark.xml\") \\\n",
    "    .option(\"rootTag\", \"users\") \\\n",
    "    .option(\"rowTag\", \"row\") \\\n",
    "    .load(\"tex.stackexchange.com/Users.xml\") \\\n",
    "    .alias('users')\n",
    "tags = spark.read \\\n",
    "    .format(\"com.databricks.spark.xml\") \\\n",
    "    .option(\"rootTag\", \"tags\") \\\n",
    "    .option(\"rowTag\", \"row\") \\\n",
    "    .load(\"tex.stackexchange.com/Tags.xml\") \\\n",
    "    .alias('tags')"
   ]
  },
  {
   "cell_type": "markdown",
   "id": "c954147ca4a63e2d",
   "metadata": {
    "collapsed": false
   },
   "source": [
    "### Feature Extraction"
   ]
  },
  {
   "cell_type": "code",
   "execution_count": 3,
   "metadata": {},
   "outputs": [],
   "source": [
    "import re\n",
    "CLEANR = re.compile('<.*?>') \n",
    "\n",
    "def cleanhtml(raw_html):\n",
    "  cleantext = re.sub(CLEANR, '', raw_html)\n",
    "  return cleantext\n",
    "\n",
    "html_string_len = udf(lambda s: len(cleanhtml(s)), IntegerType())\n",
    "\n",
    "cleantags = udf(lambda s: s[1:(len(s)-1)].split(\"><\"), ArrayType(StringType()))\n",
    "\n",
    "proper = udf(lambda s: 1 if (s[-1]==\"?\" and s[0].isupper()) else 0, IntegerType())"
   ]
  },
  {
   "cell_type": "code",
   "execution_count": 4,
   "metadata": {},
   "outputs": [],
   "source": [
    "posts = posts.withColumn( \"_Tags\", cleantags(col('_Tags'))).filter(posts._PostTypeId==1)\n",
    "\n",
    "posts_tags = posts.select(col(\"_Id\").alias(\"_Id\"),\\\n",
    "        explode(col('_Tags')).alias(\"tag\"))\\\n",
    "        .filter(posts._PostTypeId == 1)\n",
    "\n",
    "posts_tags_score = \\\n",
    "        posts_tags.join(tags, posts_tags.tag == tags._TagName)\\\n",
    "        .select(posts_tags._Id, tags._Count).groupby(posts_tags._Id)\\\n",
    "                .agg(max(tags._Count).alias(\"max_tag_count\"),\\\n",
    "                     avg(tags._Count).alias(\"avg_tag_count\"),\\\n",
    "                     count(tags._Count).alias(\"number_of_tags\"))"
   ]
  },
  {
   "cell_type": "code",
   "execution_count": 5,
   "metadata": {},
   "outputs": [],
   "source": [
    "questions = posts.join(posts_tags_score, posts._Id == posts_tags_score._Id).join(users, posts._OwnerUserId == users._Id)\\\n",
    "        .select(posts._Id.alias(\"question_id\"),\n",
    "                html_string_len(col(\"_Title\")).alias(\"title_length\"),\n",
    "                html_string_len(col(\"_Body\")).alias(\"question_length\"), \n",
    "                col(\"_Reputation\").alias(\"author_reputation\"),\n",
    "                col(\"max_tag_count\"),\n",
    "                col(\"avg_tag_count\"),\n",
    "                col(\"number_of_tags\"),\n",
    "                proper(col(\"_Title\")).alias(\"proper_title\"),\n",
    "                when(col(\"_AcceptedAnswerId\").isNull(), 0).otherwise(1).alias(\"accepted\"))"
   ]
  },
  {
   "cell_type": "code",
   "execution_count": 6,
   "id": "3c4b86aa3eb93155",
   "metadata": {
    "ExecuteTime": {
     "end_time": "2024-01-18T00:22:54.099286800Z",
     "start_time": "2024-01-18T00:22:54.041466400Z"
    },
    "collapsed": false
   },
   "outputs": [],
   "source": [
    "features = ['title_length', 'question_length', 'author_reputation',\n",
    "            'max_tag_count', 'avg_tag_count', 'number_of_tags', 'proper_title']\n",
    "assembler = VectorAssembler(inputCols=features, outputCol=\"features\")"
   ]
  },
  {
   "cell_type": "markdown",
   "id": "d67bbf49c2a008ea",
   "metadata": {
    "collapsed": false
   },
   "source": [
    "### Data Preparation"
   ]
  },
  {
   "cell_type": "markdown",
   "id": "382e3519083a3422",
   "metadata": {
    "collapsed": false
   },
   "source": [
    "### Model Training"
   ]
  },
  {
   "cell_type": "code",
   "execution_count": 7,
   "id": "bf8144da797e31d6",
   "metadata": {
    "ExecuteTime": {
     "end_time": "2024-01-18T00:22:54.125055400Z",
     "start_time": "2024-01-18T00:22:54.088379100Z"
    },
    "collapsed": false
   },
   "outputs": [],
   "source": [
    "train, test = questions.randomSplit([0.7, 0.3], seed=12345)"
   ]
  },
  {
   "cell_type": "code",
   "execution_count": 8,
   "id": "d5014e0a1f9a13f5",
   "metadata": {
    "ExecuteTime": {
     "end_time": "2024-01-18T00:23:52.471567900Z",
     "start_time": "2024-01-18T00:22:54.114971100Z"
    },
    "collapsed": false
   },
   "outputs": [
    {
     "ename": "PythonException",
     "evalue": "\n  An exception was thrown from the Python worker. Please see the stack trace below.\nTraceback (most recent call last):\n  File \"c:\\Users\\jurek\\anaconda3\\lib\\socket.py\", line 707, in readinto\n    raise\nsocket.timeout: timed out\n",
     "output_type": "error",
     "traceback": [
      "\u001b[1;31m---------------------------------------------------------------------------\u001b[0m",
      "\u001b[1;31mPythonException\u001b[0m                           Traceback (most recent call last)",
      "\u001b[1;32m~\\AppData\\Local\\Temp\\ipykernel_20540\\4086880993.py\u001b[0m in \u001b[0;36m<module>\u001b[1;34m\u001b[0m\n\u001b[0;32m      2\u001b[0m \u001b[0mlr\u001b[0m \u001b[1;33m=\u001b[0m \u001b[0mLogisticRegression\u001b[0m\u001b[1;33m(\u001b[0m\u001b[0mlabelCol\u001b[0m\u001b[1;33m=\u001b[0m\u001b[1;34m\"accepted\"\u001b[0m\u001b[1;33m,\u001b[0m \u001b[0mfeaturesCol\u001b[0m\u001b[1;33m=\u001b[0m\u001b[1;34m\"features\"\u001b[0m\u001b[1;33m)\u001b[0m\u001b[1;33m\u001b[0m\u001b[1;33m\u001b[0m\u001b[0m\n\u001b[0;32m      3\u001b[0m \u001b[0mlr_pipeline\u001b[0m \u001b[1;33m=\u001b[0m \u001b[0mPipeline\u001b[0m\u001b[1;33m(\u001b[0m\u001b[0mstages\u001b[0m\u001b[1;33m=\u001b[0m\u001b[1;33m[\u001b[0m\u001b[0massembler\u001b[0m\u001b[1;33m,\u001b[0m \u001b[0mlr\u001b[0m\u001b[1;33m]\u001b[0m\u001b[1;33m)\u001b[0m\u001b[1;33m\u001b[0m\u001b[1;33m\u001b[0m\u001b[0m\n\u001b[1;32m----> 4\u001b[1;33m \u001b[0mlr_model\u001b[0m \u001b[1;33m=\u001b[0m \u001b[0mlr_pipeline\u001b[0m\u001b[1;33m.\u001b[0m\u001b[0mfit\u001b[0m\u001b[1;33m(\u001b[0m\u001b[0mtrain\u001b[0m\u001b[1;33m)\u001b[0m\u001b[1;33m\u001b[0m\u001b[1;33m\u001b[0m\u001b[0m\n\u001b[0m",
      "\u001b[1;32mc:\\Users\\jurek\\anaconda3\\lib\\site-packages\\pyspark\\ml\\base.py\u001b[0m in \u001b[0;36mfit\u001b[1;34m(self, dataset, params)\u001b[0m\n\u001b[0;32m    203\u001b[0m                 \u001b[1;32mreturn\u001b[0m \u001b[0mself\u001b[0m\u001b[1;33m.\u001b[0m\u001b[0mcopy\u001b[0m\u001b[1;33m(\u001b[0m\u001b[0mparams\u001b[0m\u001b[1;33m)\u001b[0m\u001b[1;33m.\u001b[0m\u001b[0m_fit\u001b[0m\u001b[1;33m(\u001b[0m\u001b[0mdataset\u001b[0m\u001b[1;33m)\u001b[0m\u001b[1;33m\u001b[0m\u001b[1;33m\u001b[0m\u001b[0m\n\u001b[0;32m    204\u001b[0m             \u001b[1;32melse\u001b[0m\u001b[1;33m:\u001b[0m\u001b[1;33m\u001b[0m\u001b[1;33m\u001b[0m\u001b[0m\n\u001b[1;32m--> 205\u001b[1;33m                 \u001b[1;32mreturn\u001b[0m \u001b[0mself\u001b[0m\u001b[1;33m.\u001b[0m\u001b[0m_fit\u001b[0m\u001b[1;33m(\u001b[0m\u001b[0mdataset\u001b[0m\u001b[1;33m)\u001b[0m\u001b[1;33m\u001b[0m\u001b[1;33m\u001b[0m\u001b[0m\n\u001b[0m\u001b[0;32m    206\u001b[0m         \u001b[1;32melse\u001b[0m\u001b[1;33m:\u001b[0m\u001b[1;33m\u001b[0m\u001b[1;33m\u001b[0m\u001b[0m\n\u001b[0;32m    207\u001b[0m             raise TypeError(\n",
      "\u001b[1;32mc:\\Users\\jurek\\anaconda3\\lib\\site-packages\\pyspark\\ml\\pipeline.py\u001b[0m in \u001b[0;36m_fit\u001b[1;34m(self, dataset)\u001b[0m\n\u001b[0;32m    132\u001b[0m                     \u001b[0mdataset\u001b[0m \u001b[1;33m=\u001b[0m \u001b[0mstage\u001b[0m\u001b[1;33m.\u001b[0m\u001b[0mtransform\u001b[0m\u001b[1;33m(\u001b[0m\u001b[0mdataset\u001b[0m\u001b[1;33m)\u001b[0m\u001b[1;33m\u001b[0m\u001b[1;33m\u001b[0m\u001b[0m\n\u001b[0;32m    133\u001b[0m                 \u001b[1;32melse\u001b[0m\u001b[1;33m:\u001b[0m  \u001b[1;31m# must be an Estimator\u001b[0m\u001b[1;33m\u001b[0m\u001b[1;33m\u001b[0m\u001b[0m\n\u001b[1;32m--> 134\u001b[1;33m                     \u001b[0mmodel\u001b[0m \u001b[1;33m=\u001b[0m \u001b[0mstage\u001b[0m\u001b[1;33m.\u001b[0m\u001b[0mfit\u001b[0m\u001b[1;33m(\u001b[0m\u001b[0mdataset\u001b[0m\u001b[1;33m)\u001b[0m\u001b[1;33m\u001b[0m\u001b[1;33m\u001b[0m\u001b[0m\n\u001b[0m\u001b[0;32m    135\u001b[0m                     \u001b[0mtransformers\u001b[0m\u001b[1;33m.\u001b[0m\u001b[0mappend\u001b[0m\u001b[1;33m(\u001b[0m\u001b[0mmodel\u001b[0m\u001b[1;33m)\u001b[0m\u001b[1;33m\u001b[0m\u001b[1;33m\u001b[0m\u001b[0m\n\u001b[0;32m    136\u001b[0m                     \u001b[1;32mif\u001b[0m \u001b[0mi\u001b[0m \u001b[1;33m<\u001b[0m \u001b[0mindexOfLastEstimator\u001b[0m\u001b[1;33m:\u001b[0m\u001b[1;33m\u001b[0m\u001b[1;33m\u001b[0m\u001b[0m\n",
      "\u001b[1;32mc:\\Users\\jurek\\anaconda3\\lib\\site-packages\\pyspark\\ml\\base.py\u001b[0m in \u001b[0;36mfit\u001b[1;34m(self, dataset, params)\u001b[0m\n\u001b[0;32m    203\u001b[0m                 \u001b[1;32mreturn\u001b[0m \u001b[0mself\u001b[0m\u001b[1;33m.\u001b[0m\u001b[0mcopy\u001b[0m\u001b[1;33m(\u001b[0m\u001b[0mparams\u001b[0m\u001b[1;33m)\u001b[0m\u001b[1;33m.\u001b[0m\u001b[0m_fit\u001b[0m\u001b[1;33m(\u001b[0m\u001b[0mdataset\u001b[0m\u001b[1;33m)\u001b[0m\u001b[1;33m\u001b[0m\u001b[1;33m\u001b[0m\u001b[0m\n\u001b[0;32m    204\u001b[0m             \u001b[1;32melse\u001b[0m\u001b[1;33m:\u001b[0m\u001b[1;33m\u001b[0m\u001b[1;33m\u001b[0m\u001b[0m\n\u001b[1;32m--> 205\u001b[1;33m                 \u001b[1;32mreturn\u001b[0m \u001b[0mself\u001b[0m\u001b[1;33m.\u001b[0m\u001b[0m_fit\u001b[0m\u001b[1;33m(\u001b[0m\u001b[0mdataset\u001b[0m\u001b[1;33m)\u001b[0m\u001b[1;33m\u001b[0m\u001b[1;33m\u001b[0m\u001b[0m\n\u001b[0m\u001b[0;32m    206\u001b[0m         \u001b[1;32melse\u001b[0m\u001b[1;33m:\u001b[0m\u001b[1;33m\u001b[0m\u001b[1;33m\u001b[0m\u001b[0m\n\u001b[0;32m    207\u001b[0m             raise TypeError(\n",
      "\u001b[1;32mc:\\Users\\jurek\\anaconda3\\lib\\site-packages\\pyspark\\ml\\wrapper.py\u001b[0m in \u001b[0;36m_fit\u001b[1;34m(self, dataset)\u001b[0m\n\u001b[0;32m    379\u001b[0m \u001b[1;33m\u001b[0m\u001b[0m\n\u001b[0;32m    380\u001b[0m     \u001b[1;32mdef\u001b[0m \u001b[0m_fit\u001b[0m\u001b[1;33m(\u001b[0m\u001b[0mself\u001b[0m\u001b[1;33m,\u001b[0m \u001b[0mdataset\u001b[0m\u001b[1;33m:\u001b[0m \u001b[0mDataFrame\u001b[0m\u001b[1;33m)\u001b[0m \u001b[1;33m->\u001b[0m \u001b[0mJM\u001b[0m\u001b[1;33m:\u001b[0m\u001b[1;33m\u001b[0m\u001b[1;33m\u001b[0m\u001b[0m\n\u001b[1;32m--> 381\u001b[1;33m         \u001b[0mjava_model\u001b[0m \u001b[1;33m=\u001b[0m \u001b[0mself\u001b[0m\u001b[1;33m.\u001b[0m\u001b[0m_fit_java\u001b[0m\u001b[1;33m(\u001b[0m\u001b[0mdataset\u001b[0m\u001b[1;33m)\u001b[0m\u001b[1;33m\u001b[0m\u001b[1;33m\u001b[0m\u001b[0m\n\u001b[0m\u001b[0;32m    382\u001b[0m         \u001b[0mmodel\u001b[0m \u001b[1;33m=\u001b[0m \u001b[0mself\u001b[0m\u001b[1;33m.\u001b[0m\u001b[0m_create_model\u001b[0m\u001b[1;33m(\u001b[0m\u001b[0mjava_model\u001b[0m\u001b[1;33m)\u001b[0m\u001b[1;33m\u001b[0m\u001b[1;33m\u001b[0m\u001b[0m\n\u001b[0;32m    383\u001b[0m         \u001b[1;32mreturn\u001b[0m \u001b[0mself\u001b[0m\u001b[1;33m.\u001b[0m\u001b[0m_copyValues\u001b[0m\u001b[1;33m(\u001b[0m\u001b[0mmodel\u001b[0m\u001b[1;33m)\u001b[0m\u001b[1;33m\u001b[0m\u001b[1;33m\u001b[0m\u001b[0m\n",
      "\u001b[1;32mc:\\Users\\jurek\\anaconda3\\lib\\site-packages\\pyspark\\ml\\wrapper.py\u001b[0m in \u001b[0;36m_fit_java\u001b[1;34m(self, dataset)\u001b[0m\n\u001b[0;32m    376\u001b[0m \u001b[1;33m\u001b[0m\u001b[0m\n\u001b[0;32m    377\u001b[0m         \u001b[0mself\u001b[0m\u001b[1;33m.\u001b[0m\u001b[0m_transfer_params_to_java\u001b[0m\u001b[1;33m(\u001b[0m\u001b[1;33m)\u001b[0m\u001b[1;33m\u001b[0m\u001b[1;33m\u001b[0m\u001b[0m\n\u001b[1;32m--> 378\u001b[1;33m         \u001b[1;32mreturn\u001b[0m \u001b[0mself\u001b[0m\u001b[1;33m.\u001b[0m\u001b[0m_java_obj\u001b[0m\u001b[1;33m.\u001b[0m\u001b[0mfit\u001b[0m\u001b[1;33m(\u001b[0m\u001b[0mdataset\u001b[0m\u001b[1;33m.\u001b[0m\u001b[0m_jdf\u001b[0m\u001b[1;33m)\u001b[0m\u001b[1;33m\u001b[0m\u001b[1;33m\u001b[0m\u001b[0m\n\u001b[0m\u001b[0;32m    379\u001b[0m \u001b[1;33m\u001b[0m\u001b[0m\n\u001b[0;32m    380\u001b[0m     \u001b[1;32mdef\u001b[0m \u001b[0m_fit\u001b[0m\u001b[1;33m(\u001b[0m\u001b[0mself\u001b[0m\u001b[1;33m,\u001b[0m \u001b[0mdataset\u001b[0m\u001b[1;33m:\u001b[0m \u001b[0mDataFrame\u001b[0m\u001b[1;33m)\u001b[0m \u001b[1;33m->\u001b[0m \u001b[0mJM\u001b[0m\u001b[1;33m:\u001b[0m\u001b[1;33m\u001b[0m\u001b[1;33m\u001b[0m\u001b[0m\n",
      "\u001b[1;32mc:\\Users\\jurek\\anaconda3\\lib\\site-packages\\py4j\\java_gateway.py\u001b[0m in \u001b[0;36m__call__\u001b[1;34m(self, *args)\u001b[0m\n\u001b[0;32m   1320\u001b[0m \u001b[1;33m\u001b[0m\u001b[0m\n\u001b[0;32m   1321\u001b[0m         \u001b[0manswer\u001b[0m \u001b[1;33m=\u001b[0m \u001b[0mself\u001b[0m\u001b[1;33m.\u001b[0m\u001b[0mgateway_client\u001b[0m\u001b[1;33m.\u001b[0m\u001b[0msend_command\u001b[0m\u001b[1;33m(\u001b[0m\u001b[0mcommand\u001b[0m\u001b[1;33m)\u001b[0m\u001b[1;33m\u001b[0m\u001b[1;33m\u001b[0m\u001b[0m\n\u001b[1;32m-> 1322\u001b[1;33m         return_value = get_return_value(\n\u001b[0m\u001b[0;32m   1323\u001b[0m             answer, self.gateway_client, self.target_id, self.name)\n\u001b[0;32m   1324\u001b[0m \u001b[1;33m\u001b[0m\u001b[0m\n",
      "\u001b[1;32mc:\\Users\\jurek\\anaconda3\\lib\\site-packages\\pyspark\\errors\\exceptions\\captured.py\u001b[0m in \u001b[0;36mdeco\u001b[1;34m(*a, **kw)\u001b[0m\n\u001b[0;32m    183\u001b[0m                 \u001b[1;31m# Hide where the exception came from that shows a non-Pythonic\u001b[0m\u001b[1;33m\u001b[0m\u001b[1;33m\u001b[0m\u001b[0m\n\u001b[0;32m    184\u001b[0m                 \u001b[1;31m# JVM exception message.\u001b[0m\u001b[1;33m\u001b[0m\u001b[1;33m\u001b[0m\u001b[0m\n\u001b[1;32m--> 185\u001b[1;33m                 \u001b[1;32mraise\u001b[0m \u001b[0mconverted\u001b[0m \u001b[1;32mfrom\u001b[0m \u001b[1;32mNone\u001b[0m\u001b[1;33m\u001b[0m\u001b[1;33m\u001b[0m\u001b[0m\n\u001b[0m\u001b[0;32m    186\u001b[0m             \u001b[1;32melse\u001b[0m\u001b[1;33m:\u001b[0m\u001b[1;33m\u001b[0m\u001b[1;33m\u001b[0m\u001b[0m\n\u001b[0;32m    187\u001b[0m                 \u001b[1;32mraise\u001b[0m\u001b[1;33m\u001b[0m\u001b[1;33m\u001b[0m\u001b[0m\n",
      "\u001b[1;31mPythonException\u001b[0m: \n  An exception was thrown from the Python worker. Please see the stack trace below.\nTraceback (most recent call last):\n  File \"c:\\Users\\jurek\\anaconda3\\lib\\socket.py\", line 707, in readinto\n    raise\nsocket.timeout: timed out\n"
     ]
    }
   ],
   "source": [
    "# Logistic Regression model\n",
    "lr = LogisticRegression(labelCol=\"accepted\", featuresCol=\"features\")\n",
    "lr_pipeline = Pipeline(stages=[assembler, lr])\n",
    "lr_model = lr_pipeline.fit(train)"
   ]
  },
  {
   "cell_type": "code",
   "execution_count": null,
   "id": "346ffc6627dbd121",
   "metadata": {
    "ExecuteTime": {
     "end_time": "2024-01-18T00:25:42.077571800Z",
     "start_time": "2024-01-18T00:23:52.471567900Z"
    },
    "collapsed": false
   },
   "outputs": [],
   "source": [
    "# Random Forest model\n",
    "rf = RandomForestClassifier(labelCol=\"accepted\", featuresCol=\"features\", numTrees=10)\n",
    "rf_pipeline = Pipeline(stages=[assembler, rf])\n",
    "rf_model = rf_pipeline.fit(train)"
   ]
  },
  {
   "cell_type": "code",
   "execution_count": null,
   "id": "6300714e9c0f9365",
   "metadata": {
    "ExecuteTime": {
     "end_time": "2024-01-18T00:27:13.360270100Z",
     "start_time": "2024-01-18T00:25:42.077571800Z"
    },
    "collapsed": false
   },
   "outputs": [],
   "source": [
    "# Gradient Boosting model\n",
    "gbt = GBTClassifier(labelCol=\"accepted\", featuresCol=\"features\", maxIter=10)\n",
    "gbt_pipeline = Pipeline(stages=[assembler, gbt])\n",
    "gbt_model = gbt_pipeline.fit(train)"
   ]
  },
  {
   "cell_type": "code",
   "execution_count": null,
   "id": "f9a3c29342f41f28",
   "metadata": {
    "ExecuteTime": {
     "end_time": "2024-01-18T00:28:04.939639200Z",
     "start_time": "2024-01-18T00:27:13.363769Z"
    },
    "collapsed": false
   },
   "outputs": [],
   "source": [
    "# Neural Network model\n",
    "layers = [len(features), 10, 5, 2]  # Adjust layer sizes as needed\n",
    "nn = MultilayerPerceptronClassifier(labelCol=\"accepted\", featuresCol=\"features\", layers=layers, blockSize=128, seed=1234)\n",
    "nn_pipeline = Pipeline(stages=[assembler, nn])\n",
    "nn_model = nn_pipeline.fit(train)"
   ]
  },
  {
   "cell_type": "markdown",
   "id": "1b713ee9d56b629e",
   "metadata": {
    "collapsed": false
   },
   "source": [
    "### Predictions"
   ]
  },
  {
   "cell_type": "code",
   "execution_count": null,
   "id": "74504727a2134dc0",
   "metadata": {
    "ExecuteTime": {
     "end_time": "2024-01-18T00:28:05.194588300Z",
     "start_time": "2024-01-18T00:28:04.941633900Z"
    },
    "collapsed": false
   },
   "outputs": [],
   "source": [
    "lr_predictions = lr_model.transform(test)\n",
    "# rf_predictions = rf_model.transform(test)\n",
    "# gbt_predictions = gbt_model.transform(test)\n",
    "# nn_predictions = nn_model.transform(test)"
   ]
  },
  {
   "cell_type": "markdown",
   "id": "82d6e5dc7e95bb1e",
   "metadata": {
    "collapsed": false
   },
   "source": [
    "### Model Evaluation"
   ]
  },
  {
   "cell_type": "code",
   "execution_count": null,
   "id": "d172d490df736a99",
   "metadata": {
    "ExecuteTime": {
     "end_time": "2024-01-18T00:29:46.691629900Z",
     "start_time": "2024-01-18T00:28:05.193574800Z"
    },
    "collapsed": false
   },
   "outputs": [
    {
     "name": "stdout",
     "output_type": "stream",
     "text": [
      "===== Accuracy =====\n",
      "Logistic Regression: 0.6023578712851592\n"
     ]
    }
   ],
   "source": [
    "evaluator = MulticlassClassificationEvaluator(labelCol=\"accepted\", metricName=\"accuracy\")\n",
    "print('===== Accuracy =====')\n",
    "print('Logistic Regression:', evaluator.evaluate(lr_predictions))\n",
    "# print('Random Forest:      ', evaluator.evaluate(rf_predictions))\n",
    "# print('Gradient Boosting:  ', evaluator.evaluate(gbt_predictions))\n",
    "# print('Neural Network:     ', evaluator.evaluate(nn_predictions))"
   ]
  },
  {
   "cell_type": "markdown",
   "id": "373ea5864e18fe40",
   "metadata": {
    "collapsed": false
   },
   "source": []
  },
  {
   "cell_type": "code",
   "execution_count": null,
   "metadata": {},
   "outputs": [
    {
     "name": "stdout",
     "output_type": "stream",
     "text": [
      "+-----------+------------+---------------+-----------------+-------------+------------------+--------------+------------+--------+\n",
      "|question_id|title_length|question_length|author_reputation|max_tag_count|     avg_tag_count|number_of_tags|proper_title|accepted|\n",
      "+-----------+------------+---------------+-----------------+-------------+------------------+--------------+------------+--------+\n",
      "|      13732|          38|           1967|             1743|         7871|            3998.5|             2|           1|       0|\n",
      "|      37840|          46|            419|              465|         7871|            5318.0|             4|           0|       1|\n",
      "|      44322|          37|            281|             2583|        11290| 7950.333333333333|             3|           0|       1|\n",
      "|      47818|          56|            584|               21|         9582|            7578.0|             2|           0|       0|\n",
      "|      53921|          86|            243|               21|         6940|            4986.5|             2|           1|       0|\n",
      "|      58570|          54|            361|              513|        11290|3938.3333333333335|             3|           0|       1|\n",
      "|      59686|          34|            925|              513|        34156|12411.333333333334|             3|           0|       1|\n",
      "|      63012|          57|           1810|            39963|         9582|            3660.2|             5|           0|       1|\n",
      "|      63024|          55|            178|              533|         9591| 4242.333333333333|             3|           1|       1|\n",
      "|      63570|          27|            307|              163|         3251|            2895.0|             2|           0|       0|\n",
      "|      63819|          84|           1047|             1294|         5688| 5266.333333333333|             3|           0|       1|\n",
      "|      70657|          60|            962|              155|          965|             547.5|             2|           0|       1|\n",
      "|      73678|          62|           1706|              377|         8975|            4768.0|             3|           1|       1|\n",
      "|      88765|          31|            521|             1294|          173|              95.5|             2|           1|       1|\n",
      "|     105631|          37|            454|              211|         6023|            3098.0|             2|           0|       0|\n",
      "|     108529|          51|           1270|              465|         2245|            2245.0|             1|           0|       0|\n",
      "|     113908|          46|            366|              205|         1092|            1092.0|             1|           0|       1|\n",
      "|     122574|          35|            424|              622|         9582|            4967.4|             5|           0|       1|\n",
      "|     122903|          42|            375|              383|          699|             699.0|             1|           0|       1|\n",
      "|     135017|          89|            653|             1106|         8975|            8975.0|             1|           0|       1|\n",
      "+-----------+------------+---------------+-----------------+-------------+------------------+--------------+------------+--------+\n",
      "only showing top 20 rows\n",
      "\n"
     ]
    }
   ],
   "source": [
    "questions.show()"
   ]
  },
  {
   "cell_type": "code",
   "execution_count": null,
   "metadata": {},
   "outputs": [
    {
     "name": "stdout",
     "output_type": "stream",
     "text": [
      "+-----------+------------+---------------+-----------------+-------------+------------------+--------------+------------+--------+\n",
      "|question_id|title_length|question_length|author_reputation|max_tag_count|     avg_tag_count|number_of_tags|proper_title|accepted|\n",
      "+-----------+------------+---------------+-----------------+-------------+------------------+--------------+------------+--------+\n",
      "|         50|          64|            270|             3475|          644|             475.0|             3|           1|       1|\n",
      "|         77|          46|            380|             4129|         3251|            1827.0|             2|           0|       1|\n",
      "|        167|          50|           1978|            23813|         4426|            2575.0|             3|           1|       1|\n",
      "|        196|          17|            294|             3475|         6023|            5010.5|             2|           0|       1|\n",
      "|        222|          67|            629|            16311|         6940|            3621.0|             2|           1|       1|\n",
      "|        274|          68|            587|            30571|         2844|            2284.0|             2|           1|       1|\n",
      "|        278|          46|            341|             7503|         9582|            8849.5|             2|           1|       1|\n",
      "|        299|          41|            373|              983|         2807|            1597.0|             2|           0|       1|\n",
      "|        348|          19|            125|            88263|        34156|           18621.5|             2|           0|       0|\n",
      "|        367|          92|            198|            12317|         2602|            1621.5|             2|           1|       1|\n",
      "|        385|          58|            768|            12317|          187|100.33333333333333|             3|           1|       1|\n",
      "|        417|          80|            407|              855|         5750|            5750.0|             1|           1|       1|\n",
      "|        463|          34|            485|              121|         7013|            3756.0|             2|           0|       0|\n",
      "|        487|          15|            286|             3107|         4354|            2896.0|             2|           0|       1|\n",
      "|        558|          29|            332|           152634|         1964| 938.6666666666666|             3|           1|       1|\n",
      "|        602|          53|            701|            12913|          127|             127.0|             1|           1|       1|\n",
      "|        624|          50|            861|            11964|         1151|             660.0|             2|           1|       1|\n",
      "|        650|          41|            212|            12317|          645|             470.0|             3|           1|       1|\n",
      "|        656|          51|            142|            12317|         5299|            2846.0|             2|           1|       1|\n",
      "|        705|          39|            250|             1273|         5688|            2207.0|             5|           1|       1|\n",
      "+-----------+------------+---------------+-----------------+-------------+------------------+--------------+------------+--------+\n",
      "only showing top 20 rows\n",
      "\n"
     ]
    }
   ],
   "source": [
    "train.show()"
   ]
  },
  {
   "cell_type": "code",
   "execution_count": null,
   "metadata": {},
   "outputs": [],
   "source": []
  }
 ],
 "metadata": {
  "kernelspec": {
   "display_name": "Python 3",
   "language": "python",
   "name": "python3"
  },
  "language_info": {
   "codemirror_mode": {
    "name": "ipython",
    "version": 3
   },
   "file_extension": ".py",
   "mimetype": "text/x-python",
   "name": "python",
   "nbconvert_exporter": "python",
   "pygments_lexer": "ipython3",
   "version": "3.9.13"
  }
 },
 "nbformat": 4,
 "nbformat_minor": 5
}
