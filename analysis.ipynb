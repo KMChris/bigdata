{
 "cells": [
  {
   "cell_type": "markdown",
   "source": [
    "# Forum Question Analyzer"
   ],
   "metadata": {
    "collapsed": false
   },
   "id": "4fba23e515491b9"
  },
  {
   "cell_type": "code",
   "execution_count": 1,
   "outputs": [],
   "source": [
    "# Load the dataset from the extracted .xml files.\n",
    "from pyspark.sql import SparkSession\n",
    "\n",
    "spark = SparkSession.builder.appName(\"Forum Question Analyzer\")\\\n",
    "    .config(\"spark.jars.packages\", \"com.databricks:spark-xml_2.12:0.17.0\")\\\n",
    "    .getOrCreate()\n",
    "posts = spark.read \\\n",
    "    .format(\"com.databricks.spark.xml\") \\\n",
    "    .option(\"rootTag\", \"posts\") \\\n",
    "    .option(\"rowTag\", \"row\") \\\n",
    "    .load(\"tex.stackexchange.com/Posts.xml\") \\\n",
    "    .alias('posts')"
   ],
   "metadata": {
    "collapsed": false,
    "ExecuteTime": {
     "end_time": "2024-01-16T21:07:37.426698500Z",
     "start_time": "2024-01-16T21:06:59.617215Z"
    }
   },
   "id": "e1ebdb68d9ddea42"
  },
  {
   "cell_type": "code",
   "outputs": [
    {
     "name": "stdout",
     "output_type": "stream",
     "text": [
      "root\n",
      " |-- _AcceptedAnswerId: long (nullable = true)\n",
      " |-- _AnswerCount: long (nullable = true)\n",
      " |-- _Body: string (nullable = true)\n",
      " |-- _ClosedDate: timestamp (nullable = true)\n",
      " |-- _CommentCount: long (nullable = true)\n",
      " |-- _CommunityOwnedDate: timestamp (nullable = true)\n",
      " |-- _ContentLicense: string (nullable = true)\n",
      " |-- _CreationDate: timestamp (nullable = true)\n",
      " |-- _FavoriteCount: long (nullable = true)\n",
      " |-- _Id: long (nullable = true)\n",
      " |-- _LastActivityDate: timestamp (nullable = true)\n",
      " |-- _LastEditDate: timestamp (nullable = true)\n",
      " |-- _LastEditorDisplayName: string (nullable = true)\n",
      " |-- _LastEditorUserId: long (nullable = true)\n",
      " |-- _OwnerDisplayName: string (nullable = true)\n",
      " |-- _OwnerUserId: long (nullable = true)\n",
      " |-- _ParentId: long (nullable = true)\n",
      " |-- _PostTypeId: long (nullable = true)\n",
      " |-- _Score: long (nullable = true)\n",
      " |-- _Tags: string (nullable = true)\n",
      " |-- _Title: string (nullable = true)\n",
      " |-- _ViewCount: long (nullable = true)\n"
     ]
    }
   ],
   "source": [
    "posts.printSchema()"
   ],
   "metadata": {
    "collapsed": false,
    "ExecuteTime": {
     "end_time": "2024-01-16T21:07:45.913998900Z",
     "start_time": "2024-01-16T21:07:45.895702200Z"
    }
   },
   "id": "71d433a85d5a47d1",
   "execution_count": 2
  },
  {
   "cell_type": "code",
   "outputs": [
    {
     "name": "stdout",
     "output_type": "stream",
     "text": [
      "+-----------------+------------+--------------------+--------------------+-------------+-------------------+---------------+--------------------+--------------+---+--------------------+--------------------+----------------------+-----------------+-----------------+------------+---------+-----------+------+--------------------+--------------------+----------+\n",
      "|_AcceptedAnswerId|_AnswerCount|               _Body|         _ClosedDate|_CommentCount|_CommunityOwnedDate|_ContentLicense|       _CreationDate|_FavoriteCount|_Id|   _LastActivityDate|       _LastEditDate|_LastEditorDisplayName|_LastEditorUserId|_OwnerDisplayName|_OwnerUserId|_ParentId|_PostTypeId|_Score|               _Tags|              _Title|_ViewCount|\n",
      "+-----------------+------------+--------------------+--------------------+-------------+-------------------+---------------+--------------------+--------------+---+--------------------+--------------------+----------------------+-----------------+-----------------+------------+---------+-----------+------+--------------------+--------------------+----------+\n",
      "|               17|           2|<p>I'm using LyX ...|                NULL|            0|               NULL|   CC BY-SA 2.5|2010-07-26 21:14:...|          NULL|  1|2012-03-07 13:35:...|2011-12-26 10:43:...|                  NULL|              510|             NULL|           5|     NULL|          1|     8|<macros><lyx><pre...|Automatically def...|      3089|\n",
      "|                4|           3|<blockquote>\\n  <...|2012-05-09 12:37:...|            1|               NULL|   CC BY-SA 2.5|2010-07-26 21:14:...|          NULL|  2|2012-05-09 10:52:...|2017-04-13 14:35:...|                  NULL|               -1|             NULL|           9|     NULL|          1|    11|<table-of-content...|Table of contents...|       783|\n",
      "|             1654|          21|<p>I have heard r...|                NULL|            7|               NULL|   CC BY-SA 2.5|2010-07-26 21:18:...|          NULL|  3|2023-10-03 00:52:...|2010-09-03 12:00:...|                  NULL|               83|             NULL|          14|     NULL|          1|   240|<compiling><tools...|Compiling documen...|    153764|\n",
      "|             NULL|        NULL|<p>Try <code>\\inp...|                NULL|            2|               NULL|   CC BY-SA 3.0|2010-07-26 21:19:...|          NULL|  4|2012-05-09 10:52:...|2012-05-09 10:52:...|                  NULL|             6621|             NULL|          27|        2|          2|     7|                NULL|                NULL|      NULL|\n",
      "|             NULL|        NULL|<p>The Google-rel...|                NULL|            3|               NULL|   CC BY-SA 4.0|2010-07-26 21:22:...|          NULL|  6|2018-08-03 17:44:...|2018-08-03 17:44:...|                  NULL|            73833|             NULL|          30|        3|          2|    67|                NULL|                NULL|      NULL|\n",
      "+-----------------+------------+--------------------+--------------------+-------------+-------------------+---------------+--------------------+--------------+---+--------------------+--------------------+----------------------+-----------------+-----------------+------------+---------+-----------+------+--------------------+--------------------+----------+\n"
     ]
    }
   ],
   "source": [
    "posts.show(5)"
   ],
   "metadata": {
    "collapsed": false,
    "ExecuteTime": {
     "end_time": "2024-01-16T21:09:38.648353Z",
     "start_time": "2024-01-16T21:09:35.477051600Z"
    }
   },
   "id": "1ead3e1168b893a5",
   "execution_count": 3
  },
  {
   "cell_type": "code",
   "outputs": [
    {
     "name": "stdout",
     "output_type": "stream",
     "text": [
      "Number of rows:  584821\n",
      "Number of questions:  255804\n",
      "Number of answers:  326115\n",
      "Number of accepted answers:  153808\n"
     ]
    }
   ],
   "source": [
    "# Descriptive statistics\n",
    "\n",
    "print(\"Number of rows: \", posts.count())\n",
    "print(\"Number of questions: \", posts.filter(posts._PostTypeId == 1).count())\n",
    "print(\"Number of answers: \", posts.filter(posts._PostTypeId == 2).count())\n",
    "print(\"Number of accepted answers: \", posts.filter(posts._AcceptedAnswerId.isNotNull()).count())"
   ],
   "metadata": {
    "collapsed": false,
    "ExecuteTime": {
     "end_time": "2024-01-16T21:16:28.596006300Z",
     "start_time": "2024-01-16T21:15:20.606162700Z"
    }
   },
   "id": "101a02f7eea4fbb6",
   "execution_count": 6
  }
 ],
 "metadata": {
  "kernelspec": {
   "display_name": "Python 3",
   "language": "python",
   "name": "python3"
  },
  "language_info": {
   "codemirror_mode": {
    "name": "ipython",
    "version": 2
   },
   "file_extension": ".py",
   "mimetype": "text/x-python",
   "name": "python",
   "nbconvert_exporter": "python",
   "pygments_lexer": "ipython2",
   "version": "2.7.6"
  }
 },
 "nbformat": 4,
 "nbformat_minor": 5
}
