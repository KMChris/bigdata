{
 "cells": [
  {
   "cell_type": "markdown",
   "id": "21e01cfc3d052772",
   "metadata": {
    "collapsed": false
   },
   "source": [
    "# Predictive Analysis"
   ]
  },
  {
   "cell_type": "code",
   "execution_count": 2,
   "id": "e1ebdb68d9ddea42",
   "metadata": {
    "ExecuteTime": {
     "end_time": "2024-01-23T19:36:34.757732700Z",
     "start_time": "2024-01-23T19:36:34.750485600Z"
    },
    "collapsed": false
   },
   "outputs": [],
   "source": [
    "from pyspark.ml.feature import VectorAssembler, StandardScaler\n",
    "from pyspark.sql.functions import when, col, array_max, udf, expr, size\n",
    "from pyspark.ml.classification import LogisticRegression, RandomForestClassifier, GBTClassifier, MultilayerPerceptronClassifier\n",
    "from pyspark.ml.evaluation import MulticlassClassificationEvaluator\n",
    "from pyspark.ml import Pipeline\n",
    "from pyspark.sql import SparkSession\n",
    "from pyspark.sql.types import IntegerType, ArrayType\n",
    "\n",
    "import os\n",
    "import sys\n",
    "\n",
    "os.environ['PYSPARK_PYTHON'] = sys.executable\n",
    "os.environ['PYSPARK_DRIVER_PYTHON'] = sys.executable"
   ]
  },
  {
   "cell_type": "code",
   "execution_count": 3,
   "id": "9f76b9ee081a89f6",
   "metadata": {
    "ExecuteTime": {
     "end_time": "2024-01-23T18:10:24.912647600Z",
     "start_time": "2024-01-23T18:09:47.840453500Z"
    }
   },
   "outputs": [],
   "source": [
    "spark = SparkSession.builder.appName(\"Forum Question Analyzer\") \\\n",
    "    .config(\"spark.jars.packages\", \"com.databricks:spark-xml_2.12:0.17.0\")\\\n",
    "    .getOrCreate()\n",
    "\n",
    "posts = spark.read \\\n",
    "    .format(\"com.databricks.spark.xml\") \\\n",
    "    .option(\"rootTag\", \"posts\") \\\n",
    "    .option(\"rowTag\", \"row\") \\\n",
    "    .load(\"tex.stackexchange.com/Posts.xml\") \\\n",
    "    .alias('posts')\n",
    "users = spark.read \\\n",
    "    .format(\"com.databricks.spark.xml\") \\\n",
    "    .option(\"rootTag\", \"users\") \\\n",
    "    .option(\"rowTag\", \"row\") \\\n",
    "    .load(\"tex.stackexchange.com/Users.xml\") \\\n",
    "    .alias('users')\n",
    "tags = spark.read \\\n",
    "    .format(\"com.databricks.spark.xml\") \\\n",
    "    .option(\"rootTag\", \"tags\") \\\n",
    "    .option(\"rowTag\", \"row\") \\\n",
    "    .load(\"tex.stackexchange.com/Tags.xml\") \\\n",
    "    .alias('tags')"
   ]
  },
  {
   "cell_type": "markdown",
   "id": "c954147ca4a63e2d",
   "metadata": {
    "collapsed": false
   },
   "source": [
    "### Feature Extraction"
   ]
  },
  {
   "cell_type": "code",
   "execution_count": 4,
   "id": "dcab8de6b06d41c6",
   "metadata": {
    "ExecuteTime": {
     "end_time": "2024-01-23T18:10:26.638772500Z",
     "start_time": "2024-01-23T18:10:24.913685200Z"
    }
   },
   "outputs": [],
   "source": [
    "#UDF - Fast way to change tag names to tag counts from Tags table\n",
    "\n",
    "tag_counts = tags.select(\"_TagName\", \"_Count\").rdd.collectAsMap()\n",
    "\n",
    "def replace_tags_with_counts(tags):\n",
    "    return [tag_counts.get(tag, 0) for tag in tags]\n",
    "\n",
    "replace_tags_with_counts_udf = udf(replace_tags_with_counts, ArrayType(IntegerType()))"
   ]
  },
  {
   "cell_type": "code",
   "execution_count": 5,
   "id": "efd7bbf74f912b60",
   "metadata": {
    "ExecuteTime": {
     "end_time": "2024-01-23T18:10:26.930372300Z",
     "start_time": "2024-01-23T18:10:26.642979Z"
    }
   },
   "outputs": [],
   "source": [
    "posts = posts.filter(posts._PostTypeId==1)\n",
    "questions = posts.withColumn(\"_Tags\", expr(\"split(substring(_Tags, 2, length(_Tags) - 2), '><')\"))\\\n",
    "            .withColumn(\"_Body\", size(expr(\"split(_Body, ' ')\")))\\\n",
    "            .withColumn(\"_Title\", size(expr(\"split(_Title, ' ')\")))\n",
    "\n",
    "questions = questions.join(users, questions._OwnerUserId == users._Id).select(\n",
    "    questions._Id.alias(\"QuestionId\"),\n",
    "    questions._Body.alias(\"BodyLength\"),\n",
    "    questions._Title.alias(\"TitleLength\"),\n",
    "    array_max(replace_tags_with_counts_udf(questions._Tags)).alias(\"TagsCountMax\"),\n",
    "    size(questions._Tags).alias(\"NumberOfTags\"),\n",
    "    users._Id.alias(\"OwnerId\"),\n",
    "    users._DownVotes.alias(\"OwnerDownVotes\"),\n",
    "    users._UpVotes.alias(\"OwnerUpVotes\"),\n",
    "    users._Reputation.alias(\"OwnerReputation\"),\n",
    "    users._Views.alias(\"OwnerViews\"),\n",
    "    (questions._CreationDate - users._CreationDate).cast(\"integer\").alias(\"UserExperience\"),\n",
    "    when(col(\"_AcceptedAnswerId\").isNull(), 0).otherwise(1).alias(\"Accepted\")\n",
    ")"
   ]
  },
  {
   "cell_type": "code",
   "execution_count": 6,
   "id": "94af3a489842a4d9",
   "metadata": {
    "ExecuteTime": {
     "end_time": "2024-01-23T18:10:58.589420600Z",
     "start_time": "2024-01-23T18:10:26.933446600Z"
    }
   },
   "outputs": [
    {
     "name": "stdout",
     "output_type": "stream",
     "text": [
      "+----------+----------+-----------+------------+------------+-------+--------------+------------+---------------+----------+--------------+--------+\n",
      "|QuestionId|BodyLength|TitleLength|TagsCountMax|NumberOfTags|OwnerId|OwnerDownVotes|OwnerUpVotes|OwnerReputation|OwnerViews|UserExperience|Accepted|\n",
      "+----------+----------+-----------+------------+------------+-------+--------------+------------+---------------+----------+--------------+--------+\n",
      "|       515|       253|         11|        1424|           4|     22|             0|           1|            183|        14|        173490|       1|\n",
      "|     36756|        40|          7|        2906|           3|     29|             1|          32|          15947|       415|      42537642|       1|\n",
      "|    611902|        95|          6|        3490|           1|     29|             1|          32|          15947|       415|     349653635|       0|\n",
      "|       148|        45|          5|       11290|           3|     34|             3|          57|           3295|       129|          5373|       1|\n",
      "|      2769|        94|         12|        6023|           3|     54|             0|          18|            175|       208|       3544842|       1|\n",
      "|    458427|        64|         14|          80|           1|     54|             0|          18|            175|       208|     261214023|       1|\n",
      "|      2855|        89|         10|        2844|           1|     65|             6|          61|           1354|       184|       3711499|       1|\n",
      "|      3363|       347|          8|       34156|           2|     65|             6|          61|           1354|       184|       4942559|       1|\n",
      "|     32800|        72|          9|       34156|           1|     65|             6|          61|           1354|       184|      39473702|       1|\n",
      "|     36733|       128|          5|       34156|           1|     65|             6|          61|           1354|       184|      42517217|       1|\n",
      "+----------+----------+-----------+------------+------------+-------+--------------+------------+---------------+----------+--------------+--------+\n",
      "only showing top 10 rows\n",
      "\n"
     ]
    }
   ],
   "source": [
    "questions.show(10)"
   ]
  },
  {
   "cell_type": "code",
   "execution_count": 28,
   "id": "3c4b86aa3eb93155",
   "metadata": {
    "ExecuteTime": {
     "end_time": "2024-01-23T19:36:38.204290Z",
     "start_time": "2024-01-23T19:36:38.189770800Z"
    },
    "collapsed": false
   },
   "outputs": [],
   "source": [
    "features = ['NumberOfTags', 'TagsCountMax', 'OwnerUpVotes',\n",
    "            'OwnerDownVotes', 'OwnerReputation', 'OwnerViews', 'UserExperience',]\n",
    "assembler = VectorAssembler(inputCols=features, outputCol=\"rawfeatures\")\n",
    "scaler = StandardScaler(inputCol=\"rawfeatures\", outputCol=\"scaledFeatures\", withMean=True, withStd=True)"
   ]
  },
  {
   "cell_type": "markdown",
   "id": "d67bbf49c2a008ea",
   "metadata": {
    "collapsed": false
   },
   "source": [
    "### Data Preparation"
   ]
  },
  {
   "cell_type": "markdown",
   "id": "382e3519083a3422",
   "metadata": {
    "collapsed": false
   },
   "source": [
    "### Model Training"
   ]
  },
  {
   "cell_type": "code",
   "execution_count": 56,
   "id": "bf8144da797e31d6",
   "metadata": {
    "ExecuteTime": {
     "end_time": "2024-01-23T19:36:39.745638700Z",
     "start_time": "2024-01-23T19:36:39.729033400Z"
    },
    "collapsed": false
   },
   "outputs": [],
   "source": [
    "train, test = questions.randomSplit([0.8, 0.2])"
   ]
  },
  {
   "cell_type": "code",
   "execution_count": 57,
   "id": "d5014e0a1f9a13f5",
   "metadata": {
    "ExecuteTime": {
     "end_time": "2024-01-23T19:39:27.681290200Z",
     "start_time": "2024-01-23T19:36:40.600449200Z"
    },
    "collapsed": false
   },
   "outputs": [],
   "source": [
    "# Logistic Regression model\n",
    "lr = LogisticRegression(labelCol=\"Accepted\", featuresCol=\"scaledFeatures\", maxIter=100)\n",
    "lr_pipeline = Pipeline(stages=[assembler, scaler, lr])\n",
    "lr_model = lr_pipeline.fit(train)"
   ]
  },
  {
   "cell_type": "code",
   "execution_count": 58,
   "id": "346ffc6627dbd121",
   "metadata": {
    "ExecuteTime": {
     "end_time": "2024-01-23T19:43:02.864138300Z",
     "start_time": "2024-01-23T19:39:27.683994200Z"
    },
    "collapsed": false
   },
   "outputs": [],
   "source": [
    "# Random Forest model\n",
    "rf = RandomForestClassifier(labelCol=\"Accepted\", featuresCol=\"scaledFeatures\", numTrees=100)\n",
    "rf_pipeline = Pipeline(stages=[assembler, scaler, rf])\n",
    "rf_model = rf_pipeline.fit(train)"
   ]
  },
  {
   "cell_type": "code",
   "execution_count": 59,
   "id": "6300714e9c0f9365",
   "metadata": {
    "ExecuteTime": {
     "end_time": "2024-01-23T19:45:06.401487600Z",
     "start_time": "2024-01-23T19:43:02.866133200Z"
    },
    "collapsed": false
   },
   "outputs": [],
   "source": [
    "# Gradient Boosting model\n",
    "gbt = GBTClassifier(labelCol=\"Accepted\", featuresCol=\"scaledFeatures\", maxIter=100)\n",
    "gbt_pipeline = Pipeline(stages=[assembler, scaler, gbt])\n",
    "gbt_model = gbt_pipeline.fit(train)"
   ]
  },
  {
   "cell_type": "code",
   "execution_count": 60,
   "id": "f9a3c29342f41f28",
   "metadata": {
    "ExecuteTime": {
     "end_time": "2024-01-23T19:47:58.408827400Z",
     "start_time": "2024-01-23T19:45:06.404734300Z"
    },
    "collapsed": false
   },
   "outputs": [],
   "source": [
    "# Neural Network model\n",
    "layers = [len(features), 10, 5, 2]  # Adjust layer sizes as needed\n",
    "nn = MultilayerPerceptronClassifier(labelCol=\"Accepted\", featuresCol=\"scaledFeatures\", layers=layers, blockSize=128, seed=1234)\n",
    "nn_pipeline = Pipeline(stages=[assembler, scaler, nn])\n",
    "nn_model = nn_pipeline.fit(train)"
   ]
  },
  {
   "cell_type": "markdown",
   "id": "1b713ee9d56b629e",
   "metadata": {
    "collapsed": false
   },
   "source": [
    "### Predictions"
   ]
  },
  {
   "cell_type": "code",
   "execution_count": 61,
   "id": "74504727a2134dc0",
   "metadata": {
    "ExecuteTime": {
     "end_time": "2024-01-23T19:47:58.843994900Z",
     "start_time": "2024-01-23T19:47:58.408827400Z"
    },
    "collapsed": false
   },
   "outputs": [],
   "source": [
    "lr_predictions = lr_model.transform(test)\n",
    "rf_predictions = rf_model.transform(test)\n",
    "gbt_predictions = gbt_model.transform(test)\n",
    "nn_predictions = nn_model.transform(test)"
   ]
  },
  {
   "cell_type": "markdown",
   "id": "82d6e5dc7e95bb1e",
   "metadata": {
    "collapsed": false
   },
   "source": [
    "### Model Evaluation"
   ]
  },
  {
   "cell_type": "code",
   "execution_count": 62,
   "id": "d172d490df736a99",
   "metadata": {
    "ExecuteTime": {
     "end_time": "2024-01-23T19:51:49.636614700Z",
     "start_time": "2024-01-23T19:47:58.850519100Z"
    },
    "collapsed": false
   },
   "outputs": [
    {
     "name": "stdout",
     "output_type": "stream",
     "text": [
      "===== Accuracy =====\n",
      "Logistic Regression: 0.6027293555134974\n",
      "Random Forest:       0.7045920908457017\n",
      "Gradient Boosting:   0.7134575156888137\n",
      "Neural Network:      0.66231696384102\n"
     ]
    }
   ],
   "source": [
    "evaluator = MulticlassClassificationEvaluator(labelCol=\"Accepted\", metricName=\"accuracy\")\n",
    "print('===== Accuracy =====')\n",
    "print('Logistic Regression:', evaluator.evaluate(lr_predictions))\n",
    "print('Random Forest:      ', evaluator.evaluate(rf_predictions))\n",
    "print('Gradient Boosting:  ', evaluator.evaluate(gbt_predictions))\n",
    "print('Neural Network:     ', evaluator.evaluate(nn_predictions))"
   ]
  },
  {
   "cell_type": "code",
   "execution_count": null,
   "metadata": {},
   "outputs": [],
   "source": []
  }
 ],
 "metadata": {
  "kernelspec": {
   "display_name": "Python 3",
   "language": "python",
   "name": "python3"
  },
  "language_info": {
   "codemirror_mode": {
    "name": "ipython",
    "version": 3
   },
   "file_extension": ".py",
   "mimetype": "text/x-python",
   "name": "python",
   "nbconvert_exporter": "python",
   "pygments_lexer": "ipython3",
   "version": "3.9.13"
  }
 },
 "nbformat": 4,
 "nbformat_minor": 5
}
