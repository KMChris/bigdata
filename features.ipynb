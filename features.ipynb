{
 "cells": [
  {
   "cell_type": "markdown",
   "id": "15a3f14092bca8b8",
   "metadata": {
    "collapsed": false
   },
   "source": [
    "# Feature Engineering"
   ]
  },
  {
   "cell_type": "code",
   "execution_count": 1,
   "id": "initial_id",
   "metadata": {
    "ExecuteTime": {
     "end_time": "2024-01-18T01:42:02.258033Z",
     "start_time": "2024-01-18T01:41:24.469223700Z"
    },
    "collapsed": true
   },
   "outputs": [],
   "source": [
    "from pyspark.ml import Pipeline\n",
    "from pyspark.ml.classification import RandomForestClassifier\n",
    "from pyspark.ml.feature import VectorAssembler\n",
    "from pyspark.sql import SparkSession\n",
    "from pyspark.sql.types import IntegerType, ArrayType, StringType\n",
    "from pyspark.sql.functions import col, when, size, expr, udf\n",
    "\n",
    "import os\n",
    "import sys\n",
    "\n",
    "os.environ['PYSPARK_PYTHON'] = sys.executable\n",
    "os.environ['PYSPARK_DRIVER_PYTHON'] = sys.executable\n",
    "\n",
    "spark = SparkSession.builder.appName(\"Forum Question Analyzer\") \\\n",
    "    .config(\"spark.jars.packages\", \"com.databricks:spark-xml_2.12:0.17.0\") \\\n",
    "    .getOrCreate()\n",
    "posts = spark.read \\\n",
    "    .format(\"com.databricks.spark.xml\") \\\n",
    "    .option(\"rootTag\", \"posts\") \\\n",
    "    .option(\"rowTag\", \"row\") \\\n",
    "    .load(\"tex.stackexchange.com/Posts.xml\") \\\n",
    "    .alias('posts')\n",
    "users = spark.read \\\n",
    "    .format(\"com.databricks.spark.xml\") \\\n",
    "    .option(\"rootTag\", \"users\") \\\n",
    "    .option(\"rowTag\", \"row\") \\\n",
    "    .load(\"tex.stackexchange.com/Users.xml\") \\\n",
    "    .alias('users')\n",
    "tags = spark.read \\\n",
    "    .format(\"com.databricks.spark.xml\") \\\n",
    "    .option(\"rootTag\", \"tags\") \\\n",
    "    .option(\"rowTag\", \"row\") \\\n",
    "    .load(\"tex.stackexchange.com/Tags.xml\") \\\n",
    "    .alias('tags')"
   ]
  },
  {
   "cell_type": "code",
   "execution_count": 2,
   "id": "4cf701e633850a20",
   "metadata": {
    "ExecuteTime": {
     "end_time": "2024-01-18T01:42:02.428271700Z",
     "start_time": "2024-01-18T01:42:02.261843300Z"
    },
    "collapsed": false
   },
   "outputs": [],
   "source": [
    "data = posts.filter(posts._PostTypeId == 1)\n",
    "data = data.withColumn(\"accepted\", when(col(\"_AcceptedAnswerId\").isNull(), 0).otherwise(1))"
   ]
  },
  {
   "cell_type": "code",
   "execution_count": 3,
   "metadata": {},
   "outputs": [],
   "source": [
    "posts = posts.filter(posts._PostTypeId==1)\n",
    "questions = posts.withColumn(\"_Tags\", expr(\"split(substring(_Tags, 2, length(_Tags) - 2), '><')\"))\\\n",
    "            .withColumn(\"_Body\", size(expr(\"split(_Body, ' ')\")))\\\n",
    "            .withColumn(\"_Title\", size(expr(\"split(_Title, ' ')\")))\n",
    "\n",
    "questions = questions.join(users, questions._OwnerUserId == users._Id).select(\n",
    "    questions._Id.alias(\"QuestionId\"),\n",
    "    questions._Body.alias(\"BodyLength\"),\n",
    "    questions._Title.alias(\"TitleLength\"),\n",
    "    questions._Tags.alias(\"TagsCounts\"),\n",
    "    size(questions._Tags).alias(\"NumberOfTags\"),\n",
    "    users._Id.alias(\"OwnerId\"),\n",
    "    users._DownVotes.alias(\"OwnerDownVotes\"),\n",
    "    users._UpVotes.alias(\"OwnerUpVotes\"),\n",
    "    users._Reputation.alias(\"OwnerReputation\"),\n",
    "    users._Views.alias(\"OwnerViews\"),\n",
    "    (questions._CreationDate - users._CreationDate).cast(\"integer\").alias(\"UserExperience\"),\n",
    "    when(col(\"_AcceptedAnswerId\").isNull(), 0).otherwise(1).alias(\"Accepted\")\n",
    ")\n",
    "\n",
    "#Fast way to change tag names to tag counts from Tags table\n",
    "#####\n",
    "tag_counts = tags.select(\"_TagName\", \"_Count\").rdd.collectAsMap()\n",
    "\n",
    "def replace_tags_with_counts(tags):\n",
    "    return [tag_counts.get(tag, 0) for tag in tags]\n",
    "\n",
    "replace_tags_with_counts_udf = udf(replace_tags_with_counts, ArrayType(IntegerType()))\n",
    "#####\n",
    "\n",
    "questions = questions.withColumn(\"TagsCounts\", replace_tags_with_counts_udf(questions.TagsCounts))"
   ]
  },
  {
   "cell_type": "markdown",
   "id": "8f448264834d27a4",
   "metadata": {
    "collapsed": false
   },
   "source": [
    "## Feature importances"
   ]
  },
  {
   "cell_type": "code",
   "execution_count": 4,
   "metadata": {},
   "outputs": [
    {
     "name": "stdout",
     "output_type": "stream",
     "text": [
      "['QuestionId', 'BodyLength', 'TitleLength', 'TagsCounts', 'NumberOfTags', 'OwnerId', 'OwnerDownVotes', 'OwnerUpVotes', 'OwnerReputation', 'OwnerViews', 'UserExperience', 'Accepted']\n"
     ]
    }
   ],
   "source": [
    "print(questions.columns)"
   ]
  },
  {
   "cell_type": "code",
   "execution_count": 5,
   "id": "c286feea3522803",
   "metadata": {
    "collapsed": false
   },
   "outputs": [],
   "source": [
    "features = ['BodyLength', 'TitleLength', 'NumberOfTags', 'OwnerUpVotes', 'OwnerDownVotes']\n",
    "assembler = VectorAssembler(inputCols=features, outputCol=\"features\")"
   ]
  },
  {
   "cell_type": "code",
   "execution_count": 8,
   "id": "f57510f621b272a0",
   "metadata": {
    "collapsed": false
   },
   "outputs": [],
   "source": [
    "rf = RandomForestClassifier(labelCol=\"Accepted\", featuresCol=\"features\", numTrees=10)\n",
    "rf_pipeline = Pipeline(stages=[assembler, rf])\n",
    "rf_model = rf_pipeline.fit(questions)\n",
    "result = rf_model.stages[-1].featureImportances.toArray()"
   ]
  },
  {
   "cell_type": "code",
   "execution_count": 9,
   "id": "60d52d7e512aefda",
   "metadata": {
    "ExecuteTime": {
     "end_time": "2024-01-18T01:45:18.398211500Z",
     "start_time": "2024-01-18T01:45:18.394013300Z"
    },
    "collapsed": false
   },
   "outputs": [
    {
     "name": "stdout",
     "output_type": "stream",
     "text": [
      "Feature Importances:\n",
      "BodyLength: 0.8602048456049463\n",
      "TitleLength: 0.12749007296012757\n",
      "NumberOfTags: 0.009404382545718425\n",
      "OwnerUpVotes: 0.0018867962833272335\n",
      "OwnerDownVotes: 0.0010139026058803451\n"
     ]
    }
   ],
   "source": [
    "print(\"Feature Importances:\")\n",
    "for feature, importance in zip(features, sorted(result, reverse=True)):\n",
    "    print(f\"{feature}: {importance}\")"
   ]
  },
  {
   "cell_type": "code",
   "execution_count": null,
   "metadata": {},
   "outputs": [],
   "source": []
  }
 ],
 "metadata": {
  "kernelspec": {
   "display_name": "Python 3",
   "language": "python",
   "name": "python3"
  },
  "language_info": {
   "codemirror_mode": {
    "name": "ipython",
    "version": 3
   },
   "file_extension": ".py",
   "mimetype": "text/x-python",
   "name": "python",
   "nbconvert_exporter": "python",
   "pygments_lexer": "ipython3",
   "version": "3.9.13"
  }
 },
 "nbformat": 4,
 "nbformat_minor": 5
}
