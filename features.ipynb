{
 "cells": [
  {
   "cell_type": "markdown",
   "id": "15a3f14092bca8b8",
   "metadata": {
    "collapsed": false
   },
   "source": [
    "# Feature Engineering"
   ]
  },
  {
   "cell_type": "code",
   "execution_count": 1,
   "id": "initial_id",
   "metadata": {
    "collapsed": true,
    "ExecuteTime": {
     "end_time": "2024-01-23T15:05:52.421612500Z",
     "start_time": "2024-01-23T15:05:07.663077900Z"
    }
   },
   "outputs": [],
   "source": [
    "from pyspark.ml import Pipeline\n",
    "from pyspark.ml.classification import RandomForestClassifier\n",
    "from pyspark.ml.feature import VectorAssembler, MinMaxScaler\n",
    "from pyspark.sql import SparkSession\n",
    "from pyspark.sql.types import IntegerType, ArrayType\n",
    "from pyspark.sql.functions import col, when, size, expr, udf\n",
    "\n",
    "import os\n",
    "import sys\n",
    "\n",
    "os.environ['PYSPARK_PYTHON'] = sys.executable\n",
    "os.environ['PYSPARK_DRIVER_PYTHON'] = sys.executable\n",
    "\n",
    "spark = SparkSession.builder.appName(\"Forum Question Analyzer\") \\\n",
    "    .config(\"spark.jars.packages\", \"com.databricks:spark-xml_2.12:0.17.0\") \\\n",
    "    .getOrCreate()\n",
    "posts = spark.read \\\n",
    "    .format(\"com.databricks.spark.xml\") \\\n",
    "    .option(\"rootTag\", \"posts\") \\\n",
    "    .option(\"rowTag\", \"row\") \\\n",
    "    .load(\"tex.stackexchange.com/Posts.xml\") \\\n",
    "    .alias('posts')\n",
    "users = spark.read \\\n",
    "    .format(\"com.databricks.spark.xml\") \\\n",
    "    .option(\"rootTag\", \"users\") \\\n",
    "    .option(\"rowTag\", \"row\") \\\n",
    "    .load(\"tex.stackexchange.com/Users.xml\") \\\n",
    "    .alias('users')\n",
    "tags = spark.read \\\n",
    "    .format(\"com.databricks.spark.xml\") \\\n",
    "    .option(\"rootTag\", \"tags\") \\\n",
    "    .option(\"rowTag\", \"row\") \\\n",
    "    .load(\"tex.stackexchange.com/Tags.xml\") \\\n",
    "    .alias('tags')"
   ]
  },
  {
   "cell_type": "markdown",
   "source": [
    "## Data preparation"
   ],
   "metadata": {
    "collapsed": false
   },
   "id": "696723ec8815bb25"
  },
  {
   "cell_type": "code",
   "execution_count": 6,
   "metadata": {
    "ExecuteTime": {
     "end_time": "2024-01-23T15:07:57.702599600Z",
     "start_time": "2024-01-23T15:07:57.272930100Z"
    }
   },
   "outputs": [],
   "source": [
    "posts = posts.filter(posts._PostTypeId==1)\n",
    "questions = posts.withColumn(\"_Tags\", expr(\"split(substring(_Tags, 2, length(_Tags) - 2), '><')\"))\\\n",
    "            .withColumn(\"_Body\", size(expr(\"split(_Body, ' ')\")))\\\n",
    "            .withColumn(\"_Title\", size(expr(\"split(_Title, ' ')\")))\n",
    "\n",
    "questions = questions.join(users, questions._OwnerUserId == users._Id).select(\n",
    "    questions._Id.alias(\"QuestionId\"),\n",
    "    questions._Body.alias(\"BodyLength\"),\n",
    "    questions._Title.alias(\"TitleLength\"),\n",
    "    questions._Tags.alias(\"TagsCounts\"),\n",
    "    size(questions._Tags).alias(\"NumberOfTags\"),\n",
    "    users._Id.alias(\"OwnerId\"),\n",
    "    users._DownVotes.alias(\"OwnerDownVotes\"),\n",
    "    users._UpVotes.alias(\"OwnerUpVotes\"),\n",
    "    users._Reputation.alias(\"OwnerReputation\"),\n",
    "    users._Views.alias(\"OwnerViews\"),\n",
    "    (questions._CreationDate - users._CreationDate).cast(\"integer\").alias(\"UserExperience\"),\n",
    "    when(col(\"_AcceptedAnswerId\").isNull(), 0).otherwise(1).alias(\"Accepted\")\n",
    ")\n",
    "\n",
    "#Fast way to change tag names to tag counts from Tags table\n",
    "#####\n",
    "tag_counts = tags.select(\"_TagName\", \"_Count\").rdd.collectAsMap()\n",
    "\n",
    "def replace_tags_with_counts(tags):\n",
    "    return [tag_counts.get(tag, 0) for tag in tags]\n",
    "\n",
    "replace_tags_with_counts_udf = udf(replace_tags_with_counts, ArrayType(IntegerType()))\n",
    "#####\n",
    "\n",
    "data = questions.withColumn(\"TagsCounts\", replace_tags_with_counts_udf(questions.TagsCounts))"
   ],
   "id": "fb1c5cb4299ed09d"
  },
  {
   "cell_type": "markdown",
   "id": "8f448264834d27a4",
   "metadata": {
    "collapsed": false
   },
   "source": [
    "## Feature importances"
   ]
  },
  {
   "cell_type": "code",
   "execution_count": 17,
   "id": "c286feea3522803",
   "metadata": {
    "collapsed": false,
    "ExecuteTime": {
     "end_time": "2024-01-23T15:11:13.251590Z",
     "start_time": "2024-01-23T15:11:13.228841800Z"
    }
   },
   "outputs": [],
   "source": [
    "#features = ['_Score', '_ViewCount', '_AnswerCount', '_CommentCount']\n",
    "features = ['BodyLength', 'TitleLength', 'NumberOfTags', 'OwnerDownVotes', 'OwnerUpVotes', 'OwnerReputation', 'OwnerViews', 'UserExperience']\n",
    "assembler = VectorAssembler(inputCols=features, outputCol=\"features\")\n",
    "scaler = MinMaxScaler(inputCol=\"features\", outputCol=\"scaledFeatures\")"
   ]
  },
  {
   "cell_type": "code",
   "execution_count": 18,
   "id": "f57510f621b272a0",
   "metadata": {
    "collapsed": false,
    "ExecuteTime": {
     "end_time": "2024-01-23T15:14:43.625846400Z",
     "start_time": "2024-01-23T15:11:13.926485900Z"
    }
   },
   "outputs": [],
   "source": [
    "rf = RandomForestClassifier(labelCol=\"Accepted\", featuresCol=\"scaledFeatures\", numTrees=10)\n",
    "rf_pipeline = Pipeline(stages=[assembler, scaler, rf])\n",
    "rf_model = rf_pipeline.fit(data)\n",
    "result = rf_model.stages[-1].featureImportances.toArray()"
   ]
  },
  {
   "cell_type": "code",
   "execution_count": 19,
   "id": "60d52d7e512aefda",
   "metadata": {
    "collapsed": false,
    "ExecuteTime": {
     "end_time": "2024-01-23T15:14:43.635808800Z",
     "start_time": "2024-01-23T15:14:43.628913400Z"
    }
   },
   "outputs": [
    {
     "name": "stdout",
     "output_type": "stream",
     "text": [
      "Feature Importances:\n",
      "BodyLength: 0.5506458833729864\n",
      "TitleLength: 0.3276630099522496\n",
      "NumberOfTags: 0.10554208561961907\n",
      "OwnerDownVotes: 0.009440315823911916\n",
      "OwnerUpVotes: 0.004258999288319472\n",
      "OwnerReputation: 0.0017422204530491048\n",
      "OwnerViews: 0.0005202815276751052\n",
      "UserExperience: 0.00018720396218923442\n"
     ]
    }
   ],
   "source": [
    "print(\"Feature Importances:\")\n",
    "for feature, importance in zip(features, sorted(result, reverse=True)):\n",
    "    print(f\"{feature}: {importance}\")"
   ]
  }
 ],
 "metadata": {
  "kernelspec": {
   "display_name": "Python 3",
   "language": "python",
   "name": "python3"
  },
  "language_info": {
   "codemirror_mode": {
    "name": "ipython",
    "version": 3
   },
   "file_extension": ".py",
   "mimetype": "text/x-python",
   "name": "python",
   "nbconvert_exporter": "python",
   "pygments_lexer": "ipython3",
   "version": "3.9.13"
  }
 },
 "nbformat": 4,
 "nbformat_minor": 5
}
