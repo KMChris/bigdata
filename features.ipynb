{
 "cells": [
  {
   "cell_type": "markdown",
   "id": "15a3f14092bca8b8",
   "metadata": {
    "collapsed": false
   },
   "source": [
    "# Feature Engineering"
   ]
  },
  {
   "cell_type": "code",
   "execution_count": 1,
   "id": "initial_id",
   "metadata": {
    "collapsed": true,
    "ExecuteTime": {
     "end_time": "2024-02-10T12:39:04.058564Z",
     "start_time": "2024-02-10T12:39:03.258177Z"
    }
   },
   "outputs": [],
   "source": [
    "from pyspark.sql.functions import col, when, size, expr, udf, array_max, datediff\n",
    "from pyspark.ml.feature import VectorAssembler, StandardScaler\n",
    "from pyspark.ml.classification import RandomForestClassifier\n",
    "from pyspark.sql.types import IntegerType, ArrayType\n",
    "from pyspark.sql import SparkSession\n",
    "from pyspark.ml import Pipeline\n",
    "import sys\n",
    "import os\n",
    "\n",
    "os.environ['PYSPARK_PYTHON'] = sys.executable\n",
    "os.environ['PYSPARK_DRIVER_PYTHON'] = sys.executable"
   ]
  },
  {
   "cell_type": "code",
   "execution_count": 2,
   "metadata": {
    "ExecuteTime": {
     "end_time": "2024-02-10T12:39:41.044540Z",
     "start_time": "2024-02-10T12:39:04.062727Z"
    }
   },
   "outputs": [],
   "source": [
    "spark = SparkSession.builder.appName(\"Forum Question Analyzer\") \\\n",
    "    .config(\"spark.jars.packages\", \"com.databricks:spark-xml_2.12:0.17.0\") \\\n",
    "    .getOrCreate()\n",
    "posts = spark.read \\\n",
    "    .format(\"com.databricks.spark.xml\") \\\n",
    "    .option(\"rootTag\", \"posts\") \\\n",
    "    .option(\"rowTag\", \"row\") \\\n",
    "    .load(\"tex.stackexchange.com/Posts.xml\") \\\n",
    "    .alias('posts')\n",
    "users = spark.read \\\n",
    "    .format(\"com.databricks.spark.xml\") \\\n",
    "    .option(\"rootTag\", \"users\") \\\n",
    "    .option(\"rowTag\", \"row\") \\\n",
    "    .load(\"tex.stackexchange.com/Users.xml\") \\\n",
    "    .alias('users')\n",
    "tags = spark.read \\\n",
    "    .format(\"com.databricks.spark.xml\") \\\n",
    "    .option(\"rootTag\", \"tags\") \\\n",
    "    .option(\"rowTag\", \"row\") \\\n",
    "    .load(\"tex.stackexchange.com/Tags.xml\") \\\n",
    "    .alias('tags')"
   ],
   "id": "a21079a2dc7e6668"
  },
  {
   "cell_type": "markdown",
   "id": "696723ec8815bb25",
   "metadata": {
    "collapsed": false
   },
   "source": [
    "## Data preparation"
   ]
  },
  {
   "cell_type": "code",
   "execution_count": 3,
   "id": "5c6e7bd92124a80b",
   "metadata": {
    "collapsed": false,
    "ExecuteTime": {
     "end_time": "2024-02-10T12:39:42.795534500Z",
     "start_time": "2024-02-10T12:39:41.046535900Z"
    }
   },
   "outputs": [],
   "source": [
    "# UDF to replace tags with their counts\n",
    "tag_counts = tags.select(\"_TagName\", \"_Count\").rdd.collectAsMap()\n",
    "replace_tags = lambda tags: [tag_counts.get(tag, 0) for tag in tags]\n",
    "replace_tags_udf = udf(replace_tags, ArrayType(IntegerType()))"
   ]
  },
  {
   "cell_type": "code",
   "outputs": [],
   "source": [
    "# Joining tables and extracting features\n",
    "posts = posts.filter(posts._PostTypeId == 1)\n",
    "questions = posts.withColumn(\"_Tags\", expr(\"split(substring(_Tags, 2, length(_Tags) - 2), '><')\")) \\\n",
    "    .withColumn(\"_Body\", size(expr(\"split(_Body, ' ')\"))) \\\n",
    "    .withColumn(\"_Title\", size(expr(\"split(_Title, ' ')\")))\n",
    "questions = questions.join(users, questions._OwnerUserId == users._Id).select(\n",
    "    questions._Id.alias(\"QuestionId\"),\n",
    "    questions._Body.alias(\"BodyLength\"),\n",
    "    questions._Title.alias(\"TitleLength\"),\n",
    "    array_max(replace_tags_udf(questions._Tags)).alias(\"TagsCountMax\"),\n",
    "    size(questions._Tags).alias(\"NumberOfTags\"),\n",
    "    users._Id.alias(\"OwnerId\"),\n",
    "    users._DownVotes.alias(\"OwnerDownVotes\"),\n",
    "    users._UpVotes.alias(\"OwnerUpVotes\"),\n",
    "    users._Reputation.alias(\"OwnerReputation\"),\n",
    "    users._Views.alias(\"OwnerViews\"),\n",
    "    datediff(questions._CreationDate, users._CreationDate).alias(\"OwnerExperience\"),\n",
    "    when(col(\"_AcceptedAnswerId\").isNull(), 0).otherwise(1).alias(\"Accepted\")\n",
    ")\n",
    "questions = questions.filter(questions.OwnerExperience >= 0)"
   ],
   "metadata": {
    "ExecuteTime": {
     "end_time": "2024-02-10T12:39:43.105623900Z",
     "start_time": "2024-02-10T12:39:42.799323100Z"
    }
   },
   "id": "fb1c5cb4299ed09d",
   "execution_count": 4
  },
  {
   "cell_type": "markdown",
   "id": "8f448264834d27a4",
   "metadata": {
    "collapsed": false
   },
   "source": [
    "## Feature importances"
   ]
  },
  {
   "cell_type": "code",
   "execution_count": 5,
   "metadata": {
    "ExecuteTime": {
     "end_time": "2024-02-10T12:39:43.149242800Z",
     "start_time": "2024-02-10T12:39:43.108431600Z"
    }
   },
   "outputs": [],
   "source": [
    "features = ['BodyLength', 'TitleLength', 'NumberOfTags', 'TagsCountMax', 'OwnerUpVotes',\n",
    "            'OwnerDownVotes', 'OwnerReputation', 'OwnerViews', 'OwnerExperience',]\n",
    "assembler = VectorAssembler(inputCols=features, outputCol=\"rawfeatures\")\n",
    "scaler = StandardScaler(inputCol=\"rawfeatures\", outputCol=\"scaledFeatures\", withMean=True, withStd=True)"
   ],
   "id": "4499b37443c93a99"
  },
  {
   "cell_type": "code",
   "execution_count": 6,
   "id": "f57510f621b272a0",
   "metadata": {
    "collapsed": false,
    "ExecuteTime": {
     "end_time": "2024-02-10T12:43:17.876428Z",
     "start_time": "2024-02-10T12:39:43.146033900Z"
    }
   },
   "outputs": [],
   "source": [
    "rf = RandomForestClassifier(labelCol=\"Accepted\", featuresCol=\"scaledFeatures\", maxDepth=7, numTrees=100, seed=57268)\n",
    "rf_pipeline = Pipeline(stages=[assembler, scaler, rf])\n",
    "rf_model = rf_pipeline.fit(questions)\n",
    "result = rf_model.stages[-1].featureImportances.toArray()"
   ]
  },
  {
   "cell_type": "code",
   "execution_count": 7,
   "id": "60d52d7e512aefda",
   "metadata": {
    "collapsed": false,
    "ExecuteTime": {
     "end_time": "2024-02-10T12:43:17.885130500Z",
     "start_time": "2024-02-10T12:43:17.877496100Z"
    }
   },
   "outputs": [
    {
     "name": "stdout",
     "output_type": "stream",
     "text": [
      "Feature Importances:\n",
      "OwnerUpVotes: 45.80%\n",
      "OwnerReputation: 33.41%\n",
      "OwnerViews: 11.07%\n",
      "OwnerExperience: 4.57%\n",
      "TagsCountMax: 2.34%\n",
      "OwnerDownVotes: 2.04%\n",
      "BodyLength: 0.53%\n",
      "NumberOfTags: 0.13%\n",
      "TitleLength: 0.12%\n"
     ]
    }
   ],
   "source": [
    "print(\"Feature Importances:\")\n",
    "for feature, importance in sorted(zip(features, result), key=lambda x: x[1], reverse=True):\n",
    "    print(f\"{feature}: {importance:.2%}\")"
   ]
  }
 ],
 "metadata": {
  "kernelspec": {
   "display_name": "Python 3",
   "language": "python",
   "name": "python3"
  },
  "language_info": {
   "codemirror_mode": {
    "name": "ipython",
    "version": 3
   },
   "file_extension": ".py",
   "mimetype": "text/x-python",
   "name": "python",
   "nbconvert_exporter": "python",
   "pygments_lexer": "ipython3",
   "version": "3.9.13"
  }
 },
 "nbformat": 4,
 "nbformat_minor": 5
}
