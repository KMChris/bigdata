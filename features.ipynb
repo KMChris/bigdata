{
 "cells": [
  {
   "cell_type": "markdown",
   "id": "15a3f14092bca8b8",
   "metadata": {
    "collapsed": false
   },
   "source": [
    "# Feature Engineering"
   ]
  },
  {
   "cell_type": "code",
   "execution_count": 7,
   "id": "initial_id",
   "metadata": {
    "collapsed": true,
    "ExecuteTime": {
     "end_time": "2024-01-23T20:28:59.637405100Z",
     "start_time": "2024-01-23T20:28:59.630025800Z"
    }
   },
   "outputs": [],
   "source": [
    "from pyspark.ml import Pipeline\n",
    "from pyspark.ml.classification import RandomForestClassifier\n",
    "from pyspark.ml.feature import VectorAssembler, StandardScaler\n",
    "from pyspark.sql import SparkSession\n",
    "from pyspark.sql.types import IntegerType, ArrayType\n",
    "from pyspark.sql.functions import col, when, size, expr, udf, array_max\n",
    "import sys, os\n",
    "\n",
    "os.environ['PYSPARK_PYTHON'] = sys.executable\n",
    "os.environ['PYSPARK_DRIVER_PYTHON'] = sys.executable"
   ]
  },
  {
   "cell_type": "code",
   "execution_count": 8,
   "metadata": {
    "ExecuteTime": {
     "end_time": "2024-01-23T20:29:31.008250400Z",
     "start_time": "2024-01-23T20:28:59.700236200Z"
    }
   },
   "outputs": [],
   "source": [
    "\n",
    "spark = SparkSession.builder.appName(\"Forum Question Analyzer\") \\\n",
    "    .config(\"spark.jars.packages\", \"com.databricks:spark-xml_2.12:0.17.0\") \\\n",
    "    .getOrCreate()\n",
    "posts = spark.read \\\n",
    "    .format(\"com.databricks.spark.xml\") \\\n",
    "    .option(\"rootTag\", \"posts\") \\\n",
    "    .option(\"rowTag\", \"row\") \\\n",
    "    .load(\"tex.stackexchange.com/Posts.xml\") \\\n",
    "    .alias('posts')\n",
    "users = spark.read \\\n",
    "    .format(\"com.databricks.spark.xml\") \\\n",
    "    .option(\"rootTag\", \"users\") \\\n",
    "    .option(\"rowTag\", \"row\") \\\n",
    "    .load(\"tex.stackexchange.com/Users.xml\") \\\n",
    "    .alias('users')\n",
    "tags = spark.read \\\n",
    "    .format(\"com.databricks.spark.xml\") \\\n",
    "    .option(\"rootTag\", \"tags\") \\\n",
    "    .option(\"rowTag\", \"row\") \\\n",
    "    .load(\"tex.stackexchange.com/Tags.xml\") \\\n",
    "    .alias('tags')"
   ],
   "id": "b3fd1b47e64b265d"
  },
  {
   "cell_type": "markdown",
   "id": "696723ec8815bb25",
   "metadata": {
    "collapsed": false
   },
   "source": [
    "## Data preparation"
   ]
  },
  {
   "cell_type": "code",
   "execution_count": 9,
   "id": "fb1c5cb4299ed09d",
   "metadata": {
    "ExecuteTime": {
     "end_time": "2024-01-23T20:29:31.333956200Z",
     "start_time": "2024-01-23T20:29:31.010336900Z"
    }
   },
   "outputs": [],
   "source": [
    "tag_counts = tags.select(\"_TagName\", \"_Count\").rdd.collectAsMap()\n",
    "tags_udf = udf(\n",
    "    lambda t: [tag_counts.get(tag, 0) for tag in t],\n",
    "    ArrayType(IntegerType())\n",
    ")\n",
    "\n",
    "questions = posts.filter(posts._PostTypeId==1)\n",
    "questions = questions.withColumn(\"_Tags\", expr(\"split(substring(_Tags, 2, length(_Tags) - 2), '><')\"))\\\n",
    "            .withColumn(\"_Body\", size(expr(\"split(_Body, ' ')\")))\\\n",
    "            .withColumn(\"_Title\", size(expr(\"split(_Title, ' ')\")))\n",
    "data = questions.join(users, questions._OwnerUserId == users._Id).select(\n",
    "    questions._Id.alias(\"question_id\"),\n",
    "    questions._Body.alias(\"body_length\"),\n",
    "    questions._Title.alias(\"title_length\"),\n",
    "    array_max(tags_udf(questions._Tags)).alias(\"tags_count_max\"),\n",
    "    size(questions._Tags).alias(\"tags_number\"),\n",
    "    users._Id.alias(\"user_id\"),\n",
    "    users._DownVotes.alias(\"user_down_votes\"),\n",
    "    users._UpVotes.alias(\"user_up_votes\"),\n",
    "    users._Reputation.alias(\"user_reputation\"),\n",
    "    users._Views.alias(\"user_views\"),\n",
    "    (questions._CreationDate - users._CreationDate).cast(\"integer\").alias(\"user_experience\"),\n",
    "    when(col(\"_AcceptedAnswerId\").isNull(), 0).otherwise(1).alias(\"accepted\")\n",
    ")"
   ]
  },
  {
   "cell_type": "markdown",
   "id": "8f448264834d27a4",
   "metadata": {
    "collapsed": false
   },
   "source": [
    "## Feature importances"
   ]
  },
  {
   "cell_type": "code",
   "execution_count": 10,
   "id": "c286feea3522803",
   "metadata": {
    "collapsed": false,
    "ExecuteTime": {
     "end_time": "2024-01-23T20:29:31.361625500Z",
     "start_time": "2024-01-23T20:29:31.338171900Z"
    }
   },
   "outputs": [],
   "source": [
    "features = ['body_length', 'title_length', 'tags_count_max', 'tags_number', 'user_down_votes', 'user_up_votes', 'user_reputation', 'user_views', 'user_experience']\n",
    "assembler = VectorAssembler(inputCols=features, outputCol=\"features\")\n",
    "scaler = StandardScaler(inputCol=\"features\", outputCol=\"scaled_features\")"
   ]
  },
  {
   "cell_type": "code",
   "execution_count": 11,
   "id": "f57510f621b272a0",
   "metadata": {
    "collapsed": false,
    "ExecuteTime": {
     "end_time": "2024-01-23T20:32:35.716818500Z",
     "start_time": "2024-01-23T20:29:31.360536700Z"
    }
   },
   "outputs": [],
   "source": [
    "rf = RandomForestClassifier(labelCol=\"accepted\", featuresCol=\"scaled_features\", numTrees=10)\n",
    "rf_pipeline = Pipeline(stages=[assembler, scaler, rf])\n",
    "rf_model = rf_pipeline.fit(data)\n",
    "result = rf_model.stages[-1].featureImportances.toArray()"
   ]
  },
  {
   "cell_type": "code",
   "execution_count": 12,
   "id": "60d52d7e512aefda",
   "metadata": {
    "collapsed": false,
    "ExecuteTime": {
     "end_time": "2024-01-23T20:32:35.729203100Z",
     "start_time": "2024-01-23T20:32:35.720406600Z"
    }
   },
   "outputs": [
    {
     "name": "stdout",
     "output_type": "stream",
     "text": [
      "Feature Importances:\n",
      "body_length: 0.6891810300157529\n",
      "title_length: 0.15699713218171335\n",
      "tags_count_max: 0.06042703450024815\n",
      "tags_number: 0.05236858928918564\n",
      "user_down_votes: 0.026774196119441474\n",
      "user_up_votes: 0.011687891654931143\n",
      "user_reputation: 0.002392938520697858\n",
      "user_views: 0.00017118771802947637\n",
      "user_experience: 0.0\n"
     ]
    }
   ],
   "source": [
    "print(\"Feature Importances:\")\n",
    "for feature, importance in zip(features, sorted(result, reverse=True)):\n",
    "    print(f\"{feature}: {importance}\")"
   ]
  }
 ],
 "metadata": {
  "kernelspec": {
   "display_name": "Python 3",
   "language": "python",
   "name": "python3"
  },
  "language_info": {
   "codemirror_mode": {
    "name": "ipython",
    "version": 3
   },
   "file_extension": ".py",
   "mimetype": "text/x-python",
   "name": "python",
   "nbconvert_exporter": "python",
   "pygments_lexer": "ipython3",
   "version": "3.9.13"
  }
 },
 "nbformat": 4,
 "nbformat_minor": 5
}
