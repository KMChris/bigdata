{
 "cells": [
  {
   "cell_type": "markdown",
   "source": [
    "# Feature Engineering"
   ],
   "metadata": {
    "collapsed": false
   },
   "id": "15a3f14092bca8b8"
  },
  {
   "cell_type": "code",
   "execution_count": 1,
   "id": "initial_id",
   "metadata": {
    "collapsed": true,
    "ExecuteTime": {
     "end_time": "2024-01-18T01:42:02.258033Z",
     "start_time": "2024-01-18T01:41:24.469223700Z"
    }
   },
   "outputs": [],
   "source": [
    "from pyspark.ml import Pipeline\n",
    "from pyspark.ml.classification import RandomForestClassifier\n",
    "from pyspark.ml.feature import VectorAssembler\n",
    "from pyspark.sql import SparkSession\n",
    "from pyspark.sql.functions import col, when\n",
    "\n",
    "spark = SparkSession.builder.appName(\"Forum Question Analyzer\") \\\n",
    "    .config(\"spark.jars.packages\", \"com.databricks:spark-xml_2.12:0.17.0\") \\\n",
    "    .getOrCreate()\n",
    "posts = spark.read \\\n",
    "    .format(\"com.databricks.spark.xml\") \\\n",
    "    .option(\"rootTag\", \"posts\") \\\n",
    "    .option(\"rowTag\", \"row\") \\\n",
    "    .load(\"tex.stackexchange.com/Posts.xml\") \\\n",
    "    .alias('posts')\n",
    "users = spark.read \\\n",
    "    .format(\"com.databricks.spark.xml\") \\\n",
    "    .option(\"rootTag\", \"users\") \\\n",
    "    .option(\"rowTag\", \"row\") \\\n",
    "    .load(\"tex.stackexchange.com/Users.xml\") \\\n",
    "    .alias('users')\n",
    "tags = spark.read \\\n",
    "    .format(\"com.databricks.spark.xml\") \\\n",
    "    .option(\"rootTag\", \"tags\") \\\n",
    "    .option(\"rowTag\", \"row\") \\\n",
    "    .load(\"tex.stackexchange.com/Tags.xml\") \\\n",
    "    .alias('tags')"
   ]
  },
  {
   "cell_type": "code",
   "outputs": [],
   "source": [
    "data = posts.filter(posts._PostTypeId == 1)\n",
    "data = data.withColumn(\"accepted\", when(col(\"_AcceptedAnswerId\").isNull(), 0).otherwise(1))"
   ],
   "metadata": {
    "collapsed": false,
    "ExecuteTime": {
     "end_time": "2024-01-18T01:42:02.428271700Z",
     "start_time": "2024-01-18T01:42:02.261843300Z"
    }
   },
   "id": "4cf701e633850a20",
   "execution_count": 2
  },
  {
   "cell_type": "markdown",
   "source": [
    "## Feature importances"
   ],
   "metadata": {
    "collapsed": false
   },
   "id": "8f448264834d27a4"
  },
  {
   "cell_type": "code",
   "outputs": [],
   "source": [
    "features = ['_Score', '_ViewCount', '_AnswerCount', '_CommentCount']\n",
    "assembler = VectorAssembler(inputCols=features, outputCol=\"features\")"
   ],
   "metadata": {
    "collapsed": false
   },
   "id": "c286feea3522803"
  },
  {
   "cell_type": "code",
   "outputs": [],
   "source": [
    "rf = RandomForestClassifier(labelCol=\"accepted\", featuresCol=\"features\", numTrees=10)\n",
    "rf_pipeline = Pipeline(stages=[assembler, rf])\n",
    "rf_model = rf_pipeline.fit(data)\n",
    "result = rf_model.stages[-1].featureImportances.toArray()"
   ],
   "metadata": {
    "collapsed": false
   },
   "id": "f57510f621b272a0"
  },
  {
   "cell_type": "code",
   "outputs": [
    {
     "name": "stdout",
     "output_type": "stream",
     "text": [
      "Feature Importances:\n",
      "_Score: 0.9078070864005353\n",
      "_ViewCount: 0.06068359449889784\n",
      "_AnswerCount: 0.031195081911140638\n",
      "_CommentCount: 0.0003142371894263021\n"
     ]
    }
   ],
   "source": [
    "print(\"Feature Importances:\")\n",
    "for feature, importance in zip(features, sorted(result, reverse=True)):\n",
    "    print(f\"{feature}: {importance}\")"
   ],
   "metadata": {
    "collapsed": false,
    "ExecuteTime": {
     "end_time": "2024-01-18T01:45:18.398211500Z",
     "start_time": "2024-01-18T01:45:18.394013300Z"
    }
   },
   "id": "60d52d7e512aefda",
   "execution_count": 4
  }
 ],
 "metadata": {
  "kernelspec": {
   "display_name": "Python 3",
   "language": "python",
   "name": "python3"
  },
  "language_info": {
   "codemirror_mode": {
    "name": "ipython",
    "version": 2
   },
   "file_extension": ".py",
   "mimetype": "text/x-python",
   "name": "python",
   "nbconvert_exporter": "python",
   "pygments_lexer": "ipython2",
   "version": "2.7.6"
  }
 },
 "nbformat": 4,
 "nbformat_minor": 5
}
